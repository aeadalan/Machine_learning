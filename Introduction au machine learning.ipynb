{
 "cells": [
  {
   "cell_type": "code",
   "execution_count": 1,
   "metadata": {},
   "outputs": [],
   "source": [
    "import pandas as pd\n",
    "import numpy as np"
   ]
  },
  {
   "cell_type": "code",
   "execution_count": 253,
   "metadata": {},
   "outputs": [],
   "source": [
    "paris_listings=pd.read_table('paris_airbnb.csv',sep=',')"
   ]
  },
  {
   "cell_type": "code",
   "execution_count": 254,
   "metadata": {},
   "outputs": [
    {
     "data": {
      "text/plain": [
       "host_response_rate                 100%\n",
       "host_acceptance_rate                NaN\n",
       "host_listings_count                   1\n",
       "latitude                        48.8335\n",
       "longitude                       2.31852\n",
       "city                              Paris\n",
       "zipcode                           75014\n",
       "state                     Île-de-France\n",
       "accommodates                          2\n",
       "room_type               Entire home/apt\n",
       "bedrooms                              0\n",
       "bathrooms                             1\n",
       "beds                                  0\n",
       "price                            $75.00\n",
       "cleaning_fee                     $50.00\n",
       "security_deposit                  $0.00\n",
       "minimum_nights                        3\n",
       "maximum_nights                       15\n",
       "number_of_reviews                     8\n",
       "Name: 0, dtype: object"
      ]
     },
     "execution_count": 254,
     "metadata": {},
     "output_type": "execute_result"
    }
   ],
   "source": [
    "# accéder à la première ligne d'un data frame\n",
    "paris_listings.loc[0]"
   ]
  },
  {
   "cell_type": "code",
   "execution_count": 83,
   "metadata": {},
   "outputs": [
    {
     "data": {
      "text/html": [
       "<div>\n",
       "<style scoped>\n",
       "    .dataframe tbody tr th:only-of-type {\n",
       "        vertical-align: middle;\n",
       "    }\n",
       "\n",
       "    .dataframe tbody tr th {\n",
       "        vertical-align: top;\n",
       "    }\n",
       "\n",
       "    .dataframe thead th {\n",
       "        text-align: right;\n",
       "    }\n",
       "</style>\n",
       "<table border=\"1\" class=\"dataframe\">\n",
       "  <thead>\n",
       "    <tr style=\"text-align: right;\">\n",
       "      <th></th>\n",
       "      <th>host_response_rate</th>\n",
       "      <th>host_acceptance_rate</th>\n",
       "      <th>host_listings_count</th>\n",
       "      <th>latitude</th>\n",
       "      <th>longitude</th>\n",
       "      <th>city</th>\n",
       "      <th>zipcode</th>\n",
       "      <th>state</th>\n",
       "      <th>accommodates</th>\n",
       "      <th>room_type</th>\n",
       "      <th>bedrooms</th>\n",
       "      <th>bathrooms</th>\n",
       "      <th>beds</th>\n",
       "      <th>price</th>\n",
       "      <th>cleaning_fee</th>\n",
       "      <th>security_deposit</th>\n",
       "      <th>minimum_nights</th>\n",
       "      <th>maximum_nights</th>\n",
       "      <th>number_of_reviews</th>\n",
       "    </tr>\n",
       "  </thead>\n",
       "  <tbody>\n",
       "    <tr>\n",
       "      <td>0</td>\n",
       "      <td>100%</td>\n",
       "      <td>NaN</td>\n",
       "      <td>1.0</td>\n",
       "      <td>48.83349</td>\n",
       "      <td>2.31852</td>\n",
       "      <td>Paris</td>\n",
       "      <td>75014</td>\n",
       "      <td>Île-de-France</td>\n",
       "      <td>2</td>\n",
       "      <td>Entire home/apt</td>\n",
       "      <td>0.0</td>\n",
       "      <td>1.0</td>\n",
       "      <td>0.0</td>\n",
       "      <td>$75.00</td>\n",
       "      <td>$50.00</td>\n",
       "      <td>$0.00</td>\n",
       "      <td>3</td>\n",
       "      <td>15</td>\n",
       "      <td>8</td>\n",
       "    </tr>\n",
       "    <tr>\n",
       "      <td>1</td>\n",
       "      <td>100%</td>\n",
       "      <td>NaN</td>\n",
       "      <td>1.0</td>\n",
       "      <td>48.85100</td>\n",
       "      <td>2.35869</td>\n",
       "      <td>Paris</td>\n",
       "      <td>75004</td>\n",
       "      <td>Ile-de-France</td>\n",
       "      <td>2</td>\n",
       "      <td>Entire home/apt</td>\n",
       "      <td>0.0</td>\n",
       "      <td>1.0</td>\n",
       "      <td>1.0</td>\n",
       "      <td>$115.00</td>\n",
       "      <td>$36.00</td>\n",
       "      <td>$0.00</td>\n",
       "      <td>1</td>\n",
       "      <td>90</td>\n",
       "      <td>173</td>\n",
       "    </tr>\n",
       "    <tr>\n",
       "      <td>2</td>\n",
       "      <td>100%</td>\n",
       "      <td>NaN</td>\n",
       "      <td>2.0</td>\n",
       "      <td>48.85758</td>\n",
       "      <td>2.35275</td>\n",
       "      <td>Paris</td>\n",
       "      <td>75004</td>\n",
       "      <td>Île-de-France</td>\n",
       "      <td>4</td>\n",
       "      <td>Entire home/apt</td>\n",
       "      <td>2.0</td>\n",
       "      <td>1.0</td>\n",
       "      <td>2.0</td>\n",
       "      <td>$115.00</td>\n",
       "      <td>$50.00</td>\n",
       "      <td>$200.00</td>\n",
       "      <td>10</td>\n",
       "      <td>23</td>\n",
       "      <td>243</td>\n",
       "    </tr>\n",
       "  </tbody>\n",
       "</table>\n",
       "</div>"
      ],
      "text/plain": [
       "  host_response_rate  host_acceptance_rate  host_listings_count  latitude  \\\n",
       "0               100%                   NaN                  1.0  48.83349   \n",
       "1               100%                   NaN                  1.0  48.85100   \n",
       "2               100%                   NaN                  2.0  48.85758   \n",
       "\n",
       "   longitude   city zipcode          state  accommodates        room_type  \\\n",
       "0    2.31852  Paris   75014  Île-de-France             2  Entire home/apt   \n",
       "1    2.35869  Paris   75004  Ile-de-France             2  Entire home/apt   \n",
       "2    2.35275  Paris   75004  Île-de-France             4  Entire home/apt   \n",
       "\n",
       "   bedrooms  bathrooms  beds    price cleaning_fee security_deposit  \\\n",
       "0       0.0        1.0   0.0   $75.00       $50.00            $0.00   \n",
       "1       0.0        1.0   1.0  $115.00       $36.00            $0.00   \n",
       "2       2.0        1.0   2.0  $115.00       $50.00          $200.00   \n",
       "\n",
       "   minimum_nights  maximum_nights  number_of_reviews  \n",
       "0               3              15                  8  \n",
       "1               1              90                173  \n",
       "2              10              23                243  "
      ]
     },
     "execution_count": 83,
     "metadata": {},
     "output_type": "execute_result"
    }
   ],
   "source": [
    "# accéder au trois première ligne d'un data frame\n",
    "paris_listings.loc[0:2]"
   ]
  },
  {
   "cell_type": "code",
   "execution_count": 252,
   "metadata": {},
   "outputs": [
    {
     "data": {
      "text/plain": [
       "2"
      ]
     },
     "execution_count": 252,
     "metadata": {},
     "output_type": "execute_result"
    }
   ],
   "source": [
    "# accéder à l'élément de la première ligne et accommodates du data frame\n",
    "paris_listings.loc[0]['accommodates']"
   ]
  },
  {
   "cell_type": "code",
   "execution_count": 87,
   "metadata": {
    "collapsed": true
   },
   "outputs": [
    {
     "data": {
      "text/plain": [
       "0    2\n",
       "1    2\n",
       "2    4\n",
       "Name: accommodates, dtype: int64"
      ]
     },
     "execution_count": 87,
     "metadata": {},
     "output_type": "execute_result"
    }
   ],
   "source": [
    "# acceder au trois première ligne du tableau avec la variable accommodates du data frame\n",
    "paris_listings.loc[0:2]['accommodates']"
   ]
  },
  {
   "cell_type": "code",
   "execution_count": 88,
   "metadata": {
    "collapsed": true
   },
   "outputs": [
    {
     "name": "stdout",
     "output_type": "stream",
     "text": [
      "1\n"
     ]
    }
   ],
   "source": [
    "# calculer la valeur absolue d'une différence: distance euclidienne \n",
    "acc_mon_logement=3\n",
    "first_distance=np.abs(paris_listings.loc[0]['accommodates']-acc_mon_logement)\n",
    "\n",
    "# afficher le résultat\n",
    "print(first_distance)"
   ]
  },
  {
   "cell_type": "code",
   "execution_count": 236,
   "metadata": {
    "collapsed": true
   },
   "outputs": [
    {
     "data": {
      "text/plain": [
       "1     5665\n",
       "0      878\n",
       "2      726\n",
       "3      508\n",
       "4       88\n",
       "5       82\n",
       "6       18\n",
       "7       14\n",
       "9        8\n",
       "11       4\n",
       "8        4\n",
       "13       3\n",
       "10       2\n",
       "Name: distance, dtype: int64"
      ]
     },
     "execution_count": 236,
     "metadata": {},
     "output_type": "execute_result"
    }
   ],
   "source": [
    "# calculer la distance entre acc_mon_logement et toute les valeurs de accommodates dans mon data frame\n",
    "distance=paris_listings['accommodates'].apply(lambda x: np.abs(x-acc_mon_logement))\n",
    "\n",
    "# ajouter la serie distance au data frame paris_listings\n",
    "paris_listings['distance']=paris_listings['accommodates'].apply(lambda x: np.abs(x-acc_mon_logement))\n",
    "\n",
    "# utiliser la méthode value_counts() pour affichier le décompte de chaque valeur unique\n",
    "paris_listings['distance'].value_counts()\n",
    "\n",
    "# interprétation: on voit ici qu'il y a 878 logement qui ont le meme accommodates que notre logement"
   ]
  },
  {
   "cell_type": "code",
   "execution_count": 237,
   "metadata": {
    "collapsed": true
   },
   "outputs": [
    {
     "data": {
      "text/plain": [
       "3       3\n",
       "7       3\n",
       "13      3\n",
       "14      3\n",
       "18      3\n",
       "       ..\n",
       "7907    3\n",
       "7938    3\n",
       "7948    3\n",
       "7958    3\n",
       "7989    3\n",
       "Name: accommodates, Length: 878, dtype: int64"
      ]
     },
     "execution_count": 237,
     "metadata": {},
     "output_type": "execute_result"
    }
   ],
   "source": [
    "# Choisir dans le data frame les index qui ont une distance égale à zéro (on vas afficher que les accommodates)\n",
    "paris_listings[paris_listings['distance']==0]['accommodates']"
   ]
  },
  {
   "cell_type": "code",
   "execution_count": 238,
   "metadata": {},
   "outputs": [],
   "source": [
    "#  fixer la graine à 1  pour faire les permutations\n",
    "np.random.seed(1)\n",
    "\n",
    "#  randomiser l'ordre des lignes de paris_listings\n",
    "index=np.random.permutation(len(paris_listings))\n",
    " \n",
    "#  Utiliser la méthode pour retourner un nouveau data frame d'ordre randomiser\n",
    "paris_listings=paris_listings.loc[np.random.permutation(len(paris_listings))]\n",
    "\n",
    "# trier le résultat de paris_listings sur la colonne distance avec sort_values\n",
    "paris_listings=paris_listings.sort_values('distance')\n",
    "\n",
    "# Afficher les 10 premières lignes de la colonne \"price\"\n",
    "paris_listings10=paris_listings.[0:10]['price']\n"
   ]
  },
  {
   "cell_type": "code",
   "execution_count": 239,
   "metadata": {},
   "outputs": [],
   "source": [
    "paris_listings10\n",
    "\n",
    "# nettoyer la colonne \"price\" en enlevant les dollars et les virgules \n",
    "stripped_commas=paris_listings['price'].str.replace(',','')\n",
    "stripped_dollars=stripped_commas.str.replace('$','')"
   ]
  },
  {
   "cell_type": "code",
   "execution_count": 240,
   "metadata": {},
   "outputs": [],
   "source": [
    "paris_listings['price']=stripped_dollars.astype('float') # conversion en float"
   ]
  },
  {
   "cell_type": "code",
   "execution_count": 250,
   "metadata": {},
   "outputs": [
    {
     "name": "stdout",
     "output_type": "stream",
     "text": [
      "92.0\n"
     ]
    }
   ],
   "source": [
    "# calculer la moyenne des 5 valeurs de price\n",
    "mean_price=paris_listings.[0:5]['price'].mean()\n",
    "print(mean_price)"
   ]
  },
  {
   "cell_type": "code",
   "execution_count": 255,
   "metadata": {},
   "outputs": [
    {
     "name": "stdout",
     "output_type": "stream",
     "text": [
      "<class 'pandas.core.frame.DataFrame'>\n",
      "RangeIndex: 8000 entries, 0 to 7999\n",
      "Data columns (total 19 columns):\n",
      "host_response_rate      5000 non-null object\n",
      "host_acceptance_rate    0 non-null float64\n",
      "host_listings_count     7999 non-null float64\n",
      "latitude                8000 non-null float64\n",
      "longitude               8000 non-null float64\n",
      "city                    7997 non-null object\n",
      "zipcode                 7930 non-null object\n",
      "state                   7977 non-null object\n",
      "accommodates            8000 non-null int64\n",
      "room_type               8000 non-null object\n",
      "bedrooms                7976 non-null float64\n",
      "bathrooms               7942 non-null float64\n",
      "beds                    7986 non-null float64\n",
      "price                   8000 non-null object\n",
      "cleaning_fee            6250 non-null object\n",
      "security_deposit        6320 non-null object\n",
      "minimum_nights          8000 non-null int64\n",
      "maximum_nights          8000 non-null int64\n",
      "number_of_reviews       8000 non-null int64\n",
      "dtypes: float64(7), int64(4), object(8)\n",
      "memory usage: 1.2+ MB\n"
     ]
    }
   ],
   "source": [
    "paris_listings.info()"
   ]
  },
  {
   "cell_type": "code",
   "execution_count": null,
   "metadata": {},
   "outputs": [],
   "source": []
  }
 ],
 "metadata": {
  "kernelspec": {
   "display_name": "Python 3",
   "language": "python",
   "name": "python3"
  },
  "language_info": {
   "codemirror_mode": {
    "name": "ipython",
    "version": 3
   },
   "file_extension": ".py",
   "mimetype": "text/x-python",
   "name": "python",
   "nbconvert_exporter": "python",
   "pygments_lexer": "ipython3",
   "version": "3.7.6"
  }
 },
 "nbformat": 4,
 "nbformat_minor": 2
}
