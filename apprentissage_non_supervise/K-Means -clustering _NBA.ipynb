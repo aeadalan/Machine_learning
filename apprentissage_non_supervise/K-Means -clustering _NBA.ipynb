{
 "cells": [
  {
   "cell_type": "code",
   "execution_count": 1,
   "metadata": {},
   "outputs": [],
   "source": [
    "import pandas as pd\n",
    "import numpy as np"
   ]
  },
  {
   "cell_type": "code",
   "execution_count": 2,
   "metadata": {},
   "outputs": [],
   "source": [
    "nba=pd.read_csv('nba_2013.csv',sep=',')"
   ]
  },
  {
   "cell_type": "code",
   "execution_count": 5,
   "metadata": {
    "collapsed": true
   },
   "outputs": [
    {
     "data": {
      "text/html": [
       "<div>\n",
       "<style scoped>\n",
       "    .dataframe tbody tr th:only-of-type {\n",
       "        vertical-align: middle;\n",
       "    }\n",
       "\n",
       "    .dataframe tbody tr th {\n",
       "        vertical-align: top;\n",
       "    }\n",
       "\n",
       "    .dataframe thead th {\n",
       "        text-align: right;\n",
       "    }\n",
       "</style>\n",
       "<table border=\"1\" class=\"dataframe\">\n",
       "  <thead>\n",
       "    <tr style=\"text-align: right;\">\n",
       "      <th></th>\n",
       "      <th>player</th>\n",
       "      <th>pos</th>\n",
       "      <th>age</th>\n",
       "      <th>bref_team_id</th>\n",
       "      <th>g</th>\n",
       "      <th>gs</th>\n",
       "      <th>mp</th>\n",
       "      <th>fg</th>\n",
       "      <th>fga</th>\n",
       "      <th>fg.</th>\n",
       "      <th>...</th>\n",
       "      <th>drb</th>\n",
       "      <th>trb</th>\n",
       "      <th>ast</th>\n",
       "      <th>stl</th>\n",
       "      <th>blk</th>\n",
       "      <th>tov</th>\n",
       "      <th>pf</th>\n",
       "      <th>pts</th>\n",
       "      <th>season</th>\n",
       "      <th>season_end</th>\n",
       "    </tr>\n",
       "  </thead>\n",
       "  <tbody>\n",
       "    <tr>\n",
       "      <td>0</td>\n",
       "      <td>Quincy Acy</td>\n",
       "      <td>SF</td>\n",
       "      <td>23</td>\n",
       "      <td>TOT</td>\n",
       "      <td>63</td>\n",
       "      <td>0</td>\n",
       "      <td>847</td>\n",
       "      <td>66</td>\n",
       "      <td>141</td>\n",
       "      <td>0.468</td>\n",
       "      <td>...</td>\n",
       "      <td>144</td>\n",
       "      <td>216</td>\n",
       "      <td>28</td>\n",
       "      <td>23</td>\n",
       "      <td>26</td>\n",
       "      <td>30</td>\n",
       "      <td>122</td>\n",
       "      <td>171</td>\n",
       "      <td>2013-2014</td>\n",
       "      <td>2013</td>\n",
       "    </tr>\n",
       "    <tr>\n",
       "      <td>1</td>\n",
       "      <td>Steven Adams</td>\n",
       "      <td>C</td>\n",
       "      <td>20</td>\n",
       "      <td>OKC</td>\n",
       "      <td>81</td>\n",
       "      <td>20</td>\n",
       "      <td>1197</td>\n",
       "      <td>93</td>\n",
       "      <td>185</td>\n",
       "      <td>0.503</td>\n",
       "      <td>...</td>\n",
       "      <td>190</td>\n",
       "      <td>332</td>\n",
       "      <td>43</td>\n",
       "      <td>40</td>\n",
       "      <td>57</td>\n",
       "      <td>71</td>\n",
       "      <td>203</td>\n",
       "      <td>265</td>\n",
       "      <td>2013-2014</td>\n",
       "      <td>2013</td>\n",
       "    </tr>\n",
       "    <tr>\n",
       "      <td>2</td>\n",
       "      <td>Jeff Adrien</td>\n",
       "      <td>PF</td>\n",
       "      <td>27</td>\n",
       "      <td>TOT</td>\n",
       "      <td>53</td>\n",
       "      <td>12</td>\n",
       "      <td>961</td>\n",
       "      <td>143</td>\n",
       "      <td>275</td>\n",
       "      <td>0.520</td>\n",
       "      <td>...</td>\n",
       "      <td>204</td>\n",
       "      <td>306</td>\n",
       "      <td>38</td>\n",
       "      <td>24</td>\n",
       "      <td>36</td>\n",
       "      <td>39</td>\n",
       "      <td>108</td>\n",
       "      <td>362</td>\n",
       "      <td>2013-2014</td>\n",
       "      <td>2013</td>\n",
       "    </tr>\n",
       "  </tbody>\n",
       "</table>\n",
       "<p>3 rows × 31 columns</p>\n",
       "</div>"
      ],
      "text/plain": [
       "         player pos  age bref_team_id   g  gs    mp   fg  fga    fg.  ...  \\\n",
       "0    Quincy Acy  SF   23          TOT  63   0   847   66  141  0.468  ...   \n",
       "1  Steven Adams   C   20          OKC  81  20  1197   93  185  0.503  ...   \n",
       "2   Jeff Adrien  PF   27          TOT  53  12   961  143  275  0.520  ...   \n",
       "\n",
       "   drb  trb  ast  stl  blk  tov   pf  pts     season  season_end  \n",
       "0  144  216   28   23   26   30  122  171  2013-2014        2013  \n",
       "1  190  332   43   40   57   71  203  265  2013-2014        2013  \n",
       "2  204  306   38   24   36   39  108  362  2013-2014        2013  \n",
       "\n",
       "[3 rows x 31 columns]"
      ]
     },
     "execution_count": 5,
     "metadata": {},
     "output_type": "execute_result"
    }
   ],
   "source": [
    "nba.head(3)"
   ]
  },
  {
   "cell_type": "markdown",
   "metadata": {},
   "source": [
    "<img src=\"img8.png\">"
   ]
  },
  {
   "cell_type": "code",
   "execution_count": 7,
   "metadata": {
    "collapsed": true
   },
   "outputs": [
    {
     "data": {
      "text/html": [
       "<div>\n",
       "<style scoped>\n",
       "    .dataframe tbody tr th:only-of-type {\n",
       "        vertical-align: middle;\n",
       "    }\n",
       "\n",
       "    .dataframe tbody tr th {\n",
       "        vertical-align: top;\n",
       "    }\n",
       "\n",
       "    .dataframe thead th {\n",
       "        text-align: right;\n",
       "    }\n",
       "</style>\n",
       "<table border=\"1\" class=\"dataframe\">\n",
       "  <thead>\n",
       "    <tr style=\"text-align: right;\">\n",
       "      <th></th>\n",
       "      <th>player</th>\n",
       "      <th>pos</th>\n",
       "      <th>age</th>\n",
       "      <th>bref_team_id</th>\n",
       "      <th>g</th>\n",
       "      <th>gs</th>\n",
       "      <th>mp</th>\n",
       "      <th>fg</th>\n",
       "      <th>fga</th>\n",
       "      <th>fg.</th>\n",
       "      <th>...</th>\n",
       "      <th>drb</th>\n",
       "      <th>trb</th>\n",
       "      <th>ast</th>\n",
       "      <th>stl</th>\n",
       "      <th>blk</th>\n",
       "      <th>tov</th>\n",
       "      <th>pf</th>\n",
       "      <th>pts</th>\n",
       "      <th>season</th>\n",
       "      <th>season_end</th>\n",
       "    </tr>\n",
       "  </thead>\n",
       "  <tbody>\n",
       "    <tr>\n",
       "      <td>24</td>\n",
       "      <td>D.J. Augustin</td>\n",
       "      <td>PG</td>\n",
       "      <td>26</td>\n",
       "      <td>TOT</td>\n",
       "      <td>71</td>\n",
       "      <td>9</td>\n",
       "      <td>1939</td>\n",
       "      <td>298</td>\n",
       "      <td>718</td>\n",
       "      <td>0.415</td>\n",
       "      <td>...</td>\n",
       "      <td>115</td>\n",
       "      <td>130</td>\n",
       "      <td>313</td>\n",
       "      <td>53</td>\n",
       "      <td>3</td>\n",
       "      <td>125</td>\n",
       "      <td>147</td>\n",
       "      <td>930</td>\n",
       "      <td>2013-2014</td>\n",
       "      <td>2013</td>\n",
       "    </tr>\n",
       "    <tr>\n",
       "      <td>29</td>\n",
       "      <td>Leandro Barbosa</td>\n",
       "      <td>PG</td>\n",
       "      <td>31</td>\n",
       "      <td>PHO</td>\n",
       "      <td>20</td>\n",
       "      <td>0</td>\n",
       "      <td>368</td>\n",
       "      <td>56</td>\n",
       "      <td>131</td>\n",
       "      <td>0.427</td>\n",
       "      <td>...</td>\n",
       "      <td>32</td>\n",
       "      <td>37</td>\n",
       "      <td>32</td>\n",
       "      <td>7</td>\n",
       "      <td>4</td>\n",
       "      <td>19</td>\n",
       "      <td>30</td>\n",
       "      <td>150</td>\n",
       "      <td>2013-2014</td>\n",
       "      <td>2013</td>\n",
       "    </tr>\n",
       "    <tr>\n",
       "      <td>30</td>\n",
       "      <td>Jose Barea</td>\n",
       "      <td>PG</td>\n",
       "      <td>29</td>\n",
       "      <td>MIN</td>\n",
       "      <td>79</td>\n",
       "      <td>1</td>\n",
       "      <td>1471</td>\n",
       "      <td>254</td>\n",
       "      <td>656</td>\n",
       "      <td>0.387</td>\n",
       "      <td>...</td>\n",
       "      <td>138</td>\n",
       "      <td>154</td>\n",
       "      <td>303</td>\n",
       "      <td>26</td>\n",
       "      <td>0</td>\n",
       "      <td>125</td>\n",
       "      <td>129</td>\n",
       "      <td>660</td>\n",
       "      <td>2013-2014</td>\n",
       "      <td>2013</td>\n",
       "    </tr>\n",
       "    <tr>\n",
       "      <td>38</td>\n",
       "      <td>Jerryd Bayless</td>\n",
       "      <td>PG</td>\n",
       "      <td>25</td>\n",
       "      <td>TOT</td>\n",
       "      <td>72</td>\n",
       "      <td>19</td>\n",
       "      <td>1686</td>\n",
       "      <td>248</td>\n",
       "      <td>617</td>\n",
       "      <td>0.402</td>\n",
       "      <td>...</td>\n",
       "      <td>123</td>\n",
       "      <td>145</td>\n",
       "      <td>194</td>\n",
       "      <td>60</td>\n",
       "      <td>9</td>\n",
       "      <td>82</td>\n",
       "      <td>161</td>\n",
       "      <td>666</td>\n",
       "      <td>2013-2014</td>\n",
       "      <td>2013</td>\n",
       "    </tr>\n",
       "    <tr>\n",
       "      <td>50</td>\n",
       "      <td>Steve Blake</td>\n",
       "      <td>PG</td>\n",
       "      <td>33</td>\n",
       "      <td>TOT</td>\n",
       "      <td>55</td>\n",
       "      <td>28</td>\n",
       "      <td>1498</td>\n",
       "      <td>133</td>\n",
       "      <td>353</td>\n",
       "      <td>0.377</td>\n",
       "      <td>...</td>\n",
       "      <td>146</td>\n",
       "      <td>159</td>\n",
       "      <td>307</td>\n",
       "      <td>54</td>\n",
       "      <td>8</td>\n",
       "      <td>102</td>\n",
       "      <td>85</td>\n",
       "      <td>378</td>\n",
       "      <td>2013-2014</td>\n",
       "      <td>2013</td>\n",
       "    </tr>\n",
       "    <tr>\n",
       "      <td>...</td>\n",
       "      <td>...</td>\n",
       "      <td>...</td>\n",
       "      <td>...</td>\n",
       "      <td>...</td>\n",
       "      <td>...</td>\n",
       "      <td>...</td>\n",
       "      <td>...</td>\n",
       "      <td>...</td>\n",
       "      <td>...</td>\n",
       "      <td>...</td>\n",
       "      <td>...</td>\n",
       "      <td>...</td>\n",
       "      <td>...</td>\n",
       "      <td>...</td>\n",
       "      <td>...</td>\n",
       "      <td>...</td>\n",
       "      <td>...</td>\n",
       "      <td>...</td>\n",
       "      <td>...</td>\n",
       "      <td>...</td>\n",
       "      <td>...</td>\n",
       "    </tr>\n",
       "    <tr>\n",
       "      <td>459</td>\n",
       "      <td>Russell Westbrook</td>\n",
       "      <td>PG</td>\n",
       "      <td>25</td>\n",
       "      <td>OKC</td>\n",
       "      <td>46</td>\n",
       "      <td>46</td>\n",
       "      <td>1412</td>\n",
       "      <td>346</td>\n",
       "      <td>791</td>\n",
       "      <td>0.437</td>\n",
       "      <td>...</td>\n",
       "      <td>208</td>\n",
       "      <td>263</td>\n",
       "      <td>319</td>\n",
       "      <td>88</td>\n",
       "      <td>7</td>\n",
       "      <td>177</td>\n",
       "      <td>104</td>\n",
       "      <td>1002</td>\n",
       "      <td>2013-2014</td>\n",
       "      <td>2013</td>\n",
       "    </tr>\n",
       "    <tr>\n",
       "      <td>462</td>\n",
       "      <td>Deron Williams</td>\n",
       "      <td>PG</td>\n",
       "      <td>29</td>\n",
       "      <td>BRK</td>\n",
       "      <td>64</td>\n",
       "      <td>58</td>\n",
       "      <td>2059</td>\n",
       "      <td>322</td>\n",
       "      <td>716</td>\n",
       "      <td>0.450</td>\n",
       "      <td>...</td>\n",
       "      <td>153</td>\n",
       "      <td>168</td>\n",
       "      <td>392</td>\n",
       "      <td>93</td>\n",
       "      <td>13</td>\n",
       "      <td>143</td>\n",
       "      <td>148</td>\n",
       "      <td>915</td>\n",
       "      <td>2013-2014</td>\n",
       "      <td>2013</td>\n",
       "    </tr>\n",
       "    <tr>\n",
       "      <td>465</td>\n",
       "      <td>Louis Williams</td>\n",
       "      <td>PG</td>\n",
       "      <td>27</td>\n",
       "      <td>ATL</td>\n",
       "      <td>60</td>\n",
       "      <td>7</td>\n",
       "      <td>1445</td>\n",
       "      <td>197</td>\n",
       "      <td>493</td>\n",
       "      <td>0.400</td>\n",
       "      <td>...</td>\n",
       "      <td>114</td>\n",
       "      <td>124</td>\n",
       "      <td>210</td>\n",
       "      <td>45</td>\n",
       "      <td>4</td>\n",
       "      <td>92</td>\n",
       "      <td>65</td>\n",
       "      <td>625</td>\n",
       "      <td>2013-2014</td>\n",
       "      <td>2013</td>\n",
       "    </tr>\n",
       "    <tr>\n",
       "      <td>467</td>\n",
       "      <td>Mo Williams</td>\n",
       "      <td>PG</td>\n",
       "      <td>31</td>\n",
       "      <td>POR</td>\n",
       "      <td>74</td>\n",
       "      <td>0</td>\n",
       "      <td>1834</td>\n",
       "      <td>280</td>\n",
       "      <td>672</td>\n",
       "      <td>0.417</td>\n",
       "      <td>...</td>\n",
       "      <td>111</td>\n",
       "      <td>153</td>\n",
       "      <td>321</td>\n",
       "      <td>55</td>\n",
       "      <td>10</td>\n",
       "      <td>149</td>\n",
       "      <td>197</td>\n",
       "      <td>721</td>\n",
       "      <td>2013-2014</td>\n",
       "      <td>2013</td>\n",
       "    </tr>\n",
       "    <tr>\n",
       "      <td>471</td>\n",
       "      <td>Nate Wolters</td>\n",
       "      <td>PG</td>\n",
       "      <td>22</td>\n",
       "      <td>MIL</td>\n",
       "      <td>58</td>\n",
       "      <td>31</td>\n",
       "      <td>1309</td>\n",
       "      <td>170</td>\n",
       "      <td>389</td>\n",
       "      <td>0.437</td>\n",
       "      <td>...</td>\n",
       "      <td>116</td>\n",
       "      <td>149</td>\n",
       "      <td>187</td>\n",
       "      <td>35</td>\n",
       "      <td>15</td>\n",
       "      <td>57</td>\n",
       "      <td>67</td>\n",
       "      <td>417</td>\n",
       "      <td>2013-2014</td>\n",
       "      <td>2013</td>\n",
       "    </tr>\n",
       "  </tbody>\n",
       "</table>\n",
       "<p>85 rows × 31 columns</p>\n",
       "</div>"
      ],
      "text/plain": [
       "                player pos  age bref_team_id   g  gs    mp   fg  fga    fg.  \\\n",
       "24       D.J. Augustin  PG   26          TOT  71   9  1939  298  718  0.415   \n",
       "29     Leandro Barbosa  PG   31          PHO  20   0   368   56  131  0.427   \n",
       "30          Jose Barea  PG   29          MIN  79   1  1471  254  656  0.387   \n",
       "38      Jerryd Bayless  PG   25          TOT  72  19  1686  248  617  0.402   \n",
       "50         Steve Blake  PG   33          TOT  55  28  1498  133  353  0.377   \n",
       "..                 ...  ..  ...          ...  ..  ..   ...  ...  ...    ...   \n",
       "459  Russell Westbrook  PG   25          OKC  46  46  1412  346  791  0.437   \n",
       "462     Deron Williams  PG   29          BRK  64  58  2059  322  716  0.450   \n",
       "465     Louis Williams  PG   27          ATL  60   7  1445  197  493  0.400   \n",
       "467        Mo Williams  PG   31          POR  74   0  1834  280  672  0.417   \n",
       "471       Nate Wolters  PG   22          MIL  58  31  1309  170  389  0.437   \n",
       "\n",
       "     ...  drb  trb  ast  stl  blk  tov   pf   pts     season  season_end  \n",
       "24   ...  115  130  313   53    3  125  147   930  2013-2014        2013  \n",
       "29   ...   32   37   32    7    4   19   30   150  2013-2014        2013  \n",
       "30   ...  138  154  303   26    0  125  129   660  2013-2014        2013  \n",
       "38   ...  123  145  194   60    9   82  161   666  2013-2014        2013  \n",
       "50   ...  146  159  307   54    8  102   85   378  2013-2014        2013  \n",
       "..   ...  ...  ...  ...  ...  ...  ...  ...   ...        ...         ...  \n",
       "459  ...  208  263  319   88    7  177  104  1002  2013-2014        2013  \n",
       "462  ...  153  168  392   93   13  143  148   915  2013-2014        2013  \n",
       "465  ...  114  124  210   45    4   92   65   625  2013-2014        2013  \n",
       "467  ...  111  153  321   55   10  149  197   721  2013-2014        2013  \n",
       "471  ...  116  149  187   35   15   57   67   417  2013-2014        2013  \n",
       "\n",
       "[85 rows x 31 columns]"
      ]
     },
     "execution_count": 7,
     "metadata": {},
     "output_type": "execute_result"
    }
   ],
   "source": [
    "point_guards=nba[nba['pos']=='PG']\n",
    "point_guards"
   ]
  },
  {
   "cell_type": "markdown",
   "metadata": {},
   "source": [
    "Nombre moyen de points par match des meneurs\n",
    "==\n"
   ]
  },
  {
   "cell_type": "code",
   "execution_count": 8,
   "metadata": {
    "collapsed": true
   },
   "outputs": [
    {
     "data": {
      "text/html": [
       "<div>\n",
       "<style scoped>\n",
       "    .dataframe tbody tr th:only-of-type {\n",
       "        vertical-align: middle;\n",
       "    }\n",
       "\n",
       "    .dataframe tbody tr th {\n",
       "        vertical-align: top;\n",
       "    }\n",
       "\n",
       "    .dataframe thead th {\n",
       "        text-align: right;\n",
       "    }\n",
       "</style>\n",
       "<table border=\"1\" class=\"dataframe\">\n",
       "  <thead>\n",
       "    <tr style=\"text-align: right;\">\n",
       "      <th></th>\n",
       "      <th>pts</th>\n",
       "      <th>g</th>\n",
       "      <th>ppg</th>\n",
       "    </tr>\n",
       "  </thead>\n",
       "  <tbody>\n",
       "    <tr>\n",
       "      <td>24</td>\n",
       "      <td>930</td>\n",
       "      <td>71</td>\n",
       "      <td>13.098592</td>\n",
       "    </tr>\n",
       "    <tr>\n",
       "      <td>29</td>\n",
       "      <td>150</td>\n",
       "      <td>20</td>\n",
       "      <td>7.500000</td>\n",
       "    </tr>\n",
       "    <tr>\n",
       "      <td>30</td>\n",
       "      <td>660</td>\n",
       "      <td>79</td>\n",
       "      <td>8.354430</td>\n",
       "    </tr>\n",
       "    <tr>\n",
       "      <td>38</td>\n",
       "      <td>666</td>\n",
       "      <td>72</td>\n",
       "      <td>9.250000</td>\n",
       "    </tr>\n",
       "    <tr>\n",
       "      <td>50</td>\n",
       "      <td>378</td>\n",
       "      <td>55</td>\n",
       "      <td>6.872727</td>\n",
       "    </tr>\n",
       "  </tbody>\n",
       "</table>\n",
       "</div>"
      ],
      "text/plain": [
       "    pts   g        ppg\n",
       "24  930  71  13.098592\n",
       "29  150  20   7.500000\n",
       "30  660  79   8.354430\n",
       "38  666  72   9.250000\n",
       "50  378  55   6.872727"
      ]
     },
     "execution_count": 8,
     "metadata": {},
     "output_type": "execute_result"
    }
   ],
   "source": [
    "pd.options.mode.chained_assignment=None\n",
    "\n",
    "point_guards['ppg']= point_guards['pts']/point_guards['g']\n",
    "# verifier que ppg=pts/g\n",
    "point_guards[['pts','g','ppg']].head(5)"
   ]
  },
  {
   "cell_type": "markdown",
   "metadata": {},
   "source": [
    "<img src=\"img9.png\">"
   ]
  },
  {
   "cell_type": "code",
   "execution_count": 12,
   "metadata": {},
   "outputs": [],
   "source": [
    "point_guards=point_guards[point_guards['tov'] !=0]\n",
    "point_guards['atr']=point_guards['ast']/point_guards['tov']"
   ]
  },
  {
   "cell_type": "markdown",
   "metadata": {},
   "source": [
    "Visualiser graphiquement ces meneurs de jeux\n",
    "=="
   ]
  },
  {
   "cell_type": "code",
   "execution_count": 13,
   "metadata": {},
   "outputs": [
    {
     "data": {
      "image/png": "[encoded data removed]",
      "text/plain": [
       "<Figure size 432x288 with 1 Axes>"
      ]
     },
     "metadata": {
      "needs_background": "light"
     },
     "output_type": "display_data"
    }
   ],
   "source": [
    "import matplotlib.pyplot as plt\n",
    "\n",
    "plt.scatter(point_guards['ppg'], point_guards['atr'], c='yellow')\n",
    "plt.title('Meneurs de jeu')\n",
    "plt.xlabel('Points par Match', fontsize=13)\n",
    "plt.ylabel('Ratio passes décisives turnover', fontsize=13)\n",
    "plt.show()"
   ]
  },
  {
   "cell_type": "markdown",
   "metadata": {},
   "source": [
    "<img src=\"img10.png\">"
   ]
  },
  {
   "cell_type": "code",
   "execution_count": 17,
   "metadata": {},
   "outputs": [],
   "source": [
    "import numpy as np\n",
    "# Initialisation du nombre de cluster k, le plus difficile a savoir\n",
    "num_clusters=5\n",
    "\n",
    "# utiliser la fonction random de numpy pour générer une liste d'indices, \n",
    "# taille : num_clusters\n",
    "\n",
    "random_initial_points=np.random.choice(point_guards.index, size=num_clusters)\n",
    "\n",
    "# utiliser les indices aléatoires pour créer les centroides\n",
    "centroids=point_guards.loc[random_initial_points]"
   ]
  },
  {
   "cell_type": "markdown",
   "metadata": {},
   "source": [
    "Visualisation des centroides\n",
    "=="
   ]
  },
  {
   "cell_type": "code",
   "execution_count": 18,
   "metadata": {},
   "outputs": [
    {
     "data": {
      "image/png": "[encoded data removed]",
      "text/plain": [
       "<Figure size 432x288 with 1 Axes>"
      ]
     },
     "metadata": {
      "needs_background": "light"
     },
     "output_type": "display_data"
    }
   ],
   "source": [
    "plt.scatter(point_guards['ppg'], point_guards['atr'], c='yellow')\n",
    "plt.scatter(centroids['ppg'], centroids['atr'], c='red')\n",
    "plt.title('Centroids')\n",
    "plt.xlabel('Points Par Match',fontsize=13)\n",
    "plt.ylabel('Ration Assists Turnover',fontsize=13)\n",
    "plt.show()"
   ]
  },
  {
   "cell_type": "markdown",
   "metadata": {},
   "source": [
    "<img src=\"img11.png\">"
   ]
  },
  {
   "cell_type": "code",
   "execution_count": 20,
   "metadata": {},
   "outputs": [
    {
     "data": {
      "text/plain": [
       "{0: [9.808219178082192, 2.2037037037037037],\n",
       " 1: [13.0875, 1.9702380952380953],\n",
       " 2: [3.962962962962963, 1.6296296296296295],\n",
       " 3: [24.012820512820515, 2.2653061224489797],\n",
       " 4: [2.6451612903225805, 1.793103448275862]}"
      ]
     },
     "execution_count": 20,
     "metadata": {},
     "output_type": "execute_result"
    }
   ],
   "source": [
    "def centroids_to_dict(centroids):\n",
    "    dictionary=dict()\n",
    "    \n",
    "    #compteur iteratif utilisé pour générer un cluster_id\n",
    "    counter=0\n",
    "    \n",
    "    # Iterer le dataframe en utilisant .iterrows() ligne par ligne\n",
    "    for index, row in centroids.iterrows():\n",
    "        coordinates=[row['ppg'],row['atr']]\n",
    "        dictionary[counter]=coordinates\n",
    "        counter +=1\n",
    "        \n",
    "    return dictionary\n",
    "\n",
    "centroids_dict=centroids_to_dict(centroids)\n",
    "centroids_dict"
   ]
  },
  {
   "cell_type": "markdown",
   "metadata": {},
   "source": [
    "Etape 1 (Distance euclidienne)\n",
    "=="
   ]
  },
  {
   "cell_type": "code",
   "execution_count": 21,
   "metadata": {},
   "outputs": [],
   "source": [
    "import math\n",
    "\n",
    "def calculate_distance(centroid, player_values):\n",
    "    root_distance=0\n",
    "    \n",
    "    for x in range(0,len(centroid)):\n",
    "        difference=centroid[x] - player_values[x]\n",
    "        squared_difference=difference **2\n",
    "        root_distance += squared_difference\n",
    "    \n",
    "    euclid_distance = math.sqrt(root_distance)\n",
    "    return euclid_distance"
   ]
  },
  {
   "cell_type": "code",
   "execution_count": 24,
   "metadata": {},
   "outputs": [
    {
     "data": {
      "text/plain": [
       "2.23606797749979"
      ]
     },
     "execution_count": 24,
     "metadata": {},
     "output_type": "execute_result"
    }
   ],
   "source": [
    "# Tester la fonction \n",
    "p=[5,2]\n",
    "q=[3,1]calculate_distance(p,q)"
   ]
  },
  {
   "cell_type": "markdown",
   "metadata": {},
   "source": [
    "<img src=\"img12.png\">"
   ]
  },
  {
   "cell_type": "code",
   "execution_count": 40,
   "metadata": {},
   "outputs": [
    {
     "data": {
      "text/html": [
       "<div>\n",
       "<style scoped>\n",
       "    .dataframe tbody tr th:only-of-type {\n",
       "        vertical-align: middle;\n",
       "    }\n",
       "\n",
       "    .dataframe tbody tr th {\n",
       "        vertical-align: top;\n",
       "    }\n",
       "\n",
       "    .dataframe thead th {\n",
       "        text-align: right;\n",
       "    }\n",
       "</style>\n",
       "<table border=\"1\" class=\"dataframe\">\n",
       "  <thead>\n",
       "    <tr style=\"text-align: right;\">\n",
       "      <th></th>\n",
       "      <th>player</th>\n",
       "      <th>pos</th>\n",
       "      <th>age</th>\n",
       "      <th>bref_team_id</th>\n",
       "      <th>g</th>\n",
       "      <th>gs</th>\n",
       "      <th>mp</th>\n",
       "      <th>fg</th>\n",
       "      <th>fga</th>\n",
       "      <th>fg.</th>\n",
       "      <th>...</th>\n",
       "      <th>blk</th>\n",
       "      <th>tov</th>\n",
       "      <th>pf</th>\n",
       "      <th>pts</th>\n",
       "      <th>season</th>\n",
       "      <th>season_end</th>\n",
       "      <th>ppg</th>\n",
       "      <th>str</th>\n",
       "      <th>atr</th>\n",
       "      <th>cluster</th>\n",
       "    </tr>\n",
       "  </thead>\n",
       "  <tbody>\n",
       "    <tr>\n",
       "      <td>24</td>\n",
       "      <td>D.J. Augustin</td>\n",
       "      <td>PG</td>\n",
       "      <td>26</td>\n",
       "      <td>TOT</td>\n",
       "      <td>71</td>\n",
       "      <td>9</td>\n",
       "      <td>1939</td>\n",
       "      <td>298</td>\n",
       "      <td>718</td>\n",
       "      <td>0.415</td>\n",
       "      <td>...</td>\n",
       "      <td>3</td>\n",
       "      <td>125</td>\n",
       "      <td>147</td>\n",
       "      <td>930</td>\n",
       "      <td>2013-2014</td>\n",
       "      <td>2013</td>\n",
       "      <td>13.098592</td>\n",
       "      <td>2.504000</td>\n",
       "      <td>2.504000</td>\n",
       "      <td>1</td>\n",
       "    </tr>\n",
       "    <tr>\n",
       "      <td>29</td>\n",
       "      <td>Leandro Barbosa</td>\n",
       "      <td>PG</td>\n",
       "      <td>31</td>\n",
       "      <td>PHO</td>\n",
       "      <td>20</td>\n",
       "      <td>0</td>\n",
       "      <td>368</td>\n",
       "      <td>56</td>\n",
       "      <td>131</td>\n",
       "      <td>0.427</td>\n",
       "      <td>...</td>\n",
       "      <td>4</td>\n",
       "      <td>19</td>\n",
       "      <td>30</td>\n",
       "      <td>150</td>\n",
       "      <td>2013-2014</td>\n",
       "      <td>2013</td>\n",
       "      <td>7.500000</td>\n",
       "      <td>1.684211</td>\n",
       "      <td>1.684211</td>\n",
       "      <td>0</td>\n",
       "    </tr>\n",
       "    <tr>\n",
       "      <td>30</td>\n",
       "      <td>Jose Barea</td>\n",
       "      <td>PG</td>\n",
       "      <td>29</td>\n",
       "      <td>MIN</td>\n",
       "      <td>79</td>\n",
       "      <td>1</td>\n",
       "      <td>1471</td>\n",
       "      <td>254</td>\n",
       "      <td>656</td>\n",
       "      <td>0.387</td>\n",
       "      <td>...</td>\n",
       "      <td>0</td>\n",
       "      <td>125</td>\n",
       "      <td>129</td>\n",
       "      <td>660</td>\n",
       "      <td>2013-2014</td>\n",
       "      <td>2013</td>\n",
       "      <td>8.354430</td>\n",
       "      <td>2.424000</td>\n",
       "      <td>2.424000</td>\n",
       "      <td>0</td>\n",
       "    </tr>\n",
       "    <tr>\n",
       "      <td>38</td>\n",
       "      <td>Jerryd Bayless</td>\n",
       "      <td>PG</td>\n",
       "      <td>25</td>\n",
       "      <td>TOT</td>\n",
       "      <td>72</td>\n",
       "      <td>19</td>\n",
       "      <td>1686</td>\n",
       "      <td>248</td>\n",
       "      <td>617</td>\n",
       "      <td>0.402</td>\n",
       "      <td>...</td>\n",
       "      <td>9</td>\n",
       "      <td>82</td>\n",
       "      <td>161</td>\n",
       "      <td>666</td>\n",
       "      <td>2013-2014</td>\n",
       "      <td>2013</td>\n",
       "      <td>9.250000</td>\n",
       "      <td>2.365854</td>\n",
       "      <td>2.365854</td>\n",
       "      <td>0</td>\n",
       "    </tr>\n",
       "    <tr>\n",
       "      <td>50</td>\n",
       "      <td>Steve Blake</td>\n",
       "      <td>PG</td>\n",
       "      <td>33</td>\n",
       "      <td>TOT</td>\n",
       "      <td>55</td>\n",
       "      <td>28</td>\n",
       "      <td>1498</td>\n",
       "      <td>133</td>\n",
       "      <td>353</td>\n",
       "      <td>0.377</td>\n",
       "      <td>...</td>\n",
       "      <td>8</td>\n",
       "      <td>102</td>\n",
       "      <td>85</td>\n",
       "      <td>378</td>\n",
       "      <td>2013-2014</td>\n",
       "      <td>2013</td>\n",
       "      <td>6.872727</td>\n",
       "      <td>3.009804</td>\n",
       "      <td>3.009804</td>\n",
       "      <td>0</td>\n",
       "    </tr>\n",
       "    <tr>\n",
       "      <td>52</td>\n",
       "      <td>Eric Bledsoe</td>\n",
       "      <td>PG</td>\n",
       "      <td>24</td>\n",
       "      <td>PHO</td>\n",
       "      <td>43</td>\n",
       "      <td>40</td>\n",
       "      <td>1416</td>\n",
       "      <td>265</td>\n",
       "      <td>556</td>\n",
       "      <td>0.477</td>\n",
       "      <td>...</td>\n",
       "      <td>14</td>\n",
       "      <td>143</td>\n",
       "      <td>99</td>\n",
       "      <td>763</td>\n",
       "      <td>2013-2014</td>\n",
       "      <td>2013</td>\n",
       "      <td>17.744186</td>\n",
       "      <td>1.643357</td>\n",
       "      <td>1.643357</td>\n",
       "      <td>1</td>\n",
       "    </tr>\n",
       "  </tbody>\n",
       "</table>\n",
       "<p>6 rows × 35 columns</p>\n",
       "</div>"
      ],
      "text/plain": [
       "             player pos  age bref_team_id   g  gs    mp   fg  fga    fg.  ...  \\\n",
       "24    D.J. Augustin  PG   26          TOT  71   9  1939  298  718  0.415  ...   \n",
       "29  Leandro Barbosa  PG   31          PHO  20   0   368   56  131  0.427  ...   \n",
       "30       Jose Barea  PG   29          MIN  79   1  1471  254  656  0.387  ...   \n",
       "38   Jerryd Bayless  PG   25          TOT  72  19  1686  248  617  0.402  ...   \n",
       "50      Steve Blake  PG   33          TOT  55  28  1498  133  353  0.377  ...   \n",
       "52     Eric Bledsoe  PG   24          PHO  43  40  1416  265  556  0.477  ...   \n",
       "\n",
       "    blk  tov   pf  pts     season  season_end        ppg       str       atr  \\\n",
       "24    3  125  147  930  2013-2014        2013  13.098592  2.504000  2.504000   \n",
       "29    4   19   30  150  2013-2014        2013   7.500000  1.684211  1.684211   \n",
       "30    0  125  129  660  2013-2014        2013   8.354430  2.424000  2.424000   \n",
       "38    9   82  161  666  2013-2014        2013   9.250000  2.365854  2.365854   \n",
       "50    8  102   85  378  2013-2014        2013   6.872727  3.009804  3.009804   \n",
       "52   14  143   99  763  2013-2014        2013  17.744186  1.643357  1.643357   \n",
       "\n",
       "    cluster  \n",
       "24        1  \n",
       "29        0  \n",
       "30        0  \n",
       "38        0  \n",
       "50        0  \n",
       "52        1  \n",
       "\n",
       "[6 rows x 35 columns]"
      ]
     },
     "execution_count": 40,
     "metadata": {},
     "output_type": "execute_result"
    }
   ],
   "source": [
    "# Fonction assign_to_cluster ajoute la valeur de cluster correspondant ligne par ligne\n",
    "def assign_to_cluster(row):\n",
    "    lowest_distance=-1\n",
    "    closest_cluster=-1\n",
    "    \n",
    "    for cluster_id, centroid in centroids_dict.items():\n",
    "        df_row=[row['ppg'], row['atr']]\n",
    "        euclidean_distance= calculate_distance(centroid, df_row)\n",
    "        \n",
    "        if lowest_distance==-1:\n",
    "            lowest_distance=euclidean_distance\n",
    "            closest_cluster=cluster_id\n",
    "        elif euclidean_distance < lowest_distance:\n",
    "                lowest_distance=euclidean_distance\n",
    "                closest_cluster=cluster_id\n",
    "    return closest_cluster\n",
    "\n",
    "point_guards['cluster']=point_guards.apply(lambda row: assign_to_cluster(row),axis=1)\n",
    "point_guards.head(6)"
   ]
  },
  {
   "cell_type": "markdown",
   "metadata": {},
   "source": [
    "Visualiser les clusters\n",
    "=="
   ]
  },
  {
   "cell_type": "code",
   "execution_count": 36,
   "metadata": {},
   "outputs": [],
   "source": [
    "def visualize_clusters(df,num_clusters):\n",
    "    colors=['b','g','r','c','m','y','k']\n",
    "    \n",
    "    for n in range(num_clusters):\n",
    "        clustered_df=df[df['cluster']==n]\n",
    "        plt.scatter(clustered_df['ppg'],clustered_df['atr'],c=colors[n-1])\n",
    "        plt.xlabel('Points Par Match', fontsize=13)\n",
    "        plt.ylabel('Ratio Assists Turnover', fontsize=13)\n",
    "        \n",
    "    plt.show()"
   ]
  },
  {
   "cell_type": "code",
   "execution_count": 41,
   "metadata": {},
   "outputs": [
    {
     "data": {
      "image/png": "[encoded data removed]",
      "text/plain": [
       "<Figure size 432x288 with 1 Axes>"
      ]
     },
     "metadata": {
      "needs_background": "light"
     },
     "output_type": "display_data"
    }
   ],
   "source": [
    "#  Tester la fonction pour num_cluster=5 comme définie des le début\n",
    "visualize_clusters(point_guards,5)"
   ]
  },
  {
   "cell_type": "markdown",
   "metadata": {},
   "source": [
    "<img src=\"img13.png\">"
   ]
  },
  {
   "cell_type": "code",
   "execution_count": 43,
   "metadata": {},
   "outputs": [
    {
     "data": {
      "text/plain": [
       "{0: [9.081547425731463, 2.4953273335409367],\n",
       " 1: [15.097770642094135, 2.2874014234804485],\n",
       " 2: [4.704466290443905, 2.1053816652474446],\n",
       " 3: [20.634057008119008, 2.4558021154262044],\n",
       " 4: [1.9364859943977593, 2.0459780125506755]}"
      ]
     },
     "execution_count": 43,
     "metadata": {},
     "output_type": "execute_result"
    }
   ],
   "source": [
    "def recalculate_centroids(df):\n",
    "    new_centroids_dict=dict()\n",
    "    #  0...1...2....3...4\n",
    "    for cluster_id in range(0,num_clusters):\n",
    "        values_in_cluster=df[df['cluster']==cluster_id]\n",
    "        \n",
    "        #  Calculer le nouveau centroid en utilisant la moyenne arithmétique des valeurs\n",
    "        #  du cluster\n",
    "        new_centroid=[np.average(values_in_cluster['ppg']),np.average(values_in_cluster['atr'])]\n",
    "        \n",
    "        new_centroids_dict[cluster_id]=new_centroid\n",
    "    return new_centroids_dict\n",
    "               \n",
    "centroids_dict=recalculate_centroids(point_guards)\n",
    "centroids_dict\n",
    "\n",
    "    "
   ]
  },
  {
   "cell_type": "markdown",
   "metadata": {},
   "source": [
    "Répéter l'étape 1\n",
    "=="
   ]
  },
  {
   "cell_type": "code",
   "execution_count": 44,
   "metadata": {},
   "outputs": [
    {
     "data": {
      "image/png": "[encoded data removed]",
      "text/plain": [
       "<Figure size 432x288 with 1 Axes>"
      ]
     },
     "metadata": {
      "needs_background": "light"
     },
     "output_type": "display_data"
    }
   ],
   "source": [
    "point_guards['cluster']=point_guards.apply(lambda row: assign_to_cluster(row), axis=1)\n",
    "visualize_clusters(point_guards, num_clusters)"
   ]
  },
  {
   "cell_type": "markdown",
   "metadata": {},
   "source": [
    "Répéter l'étape 1 et 2\n",
    "=="
   ]
  },
  {
   "cell_type": "code",
   "execution_count": 45,
   "metadata": {},
   "outputs": [
    {
     "data": {
      "image/png": "[encoded data removed]",
      "text/plain": [
       "<Figure size 432x288 with 1 Axes>"
      ]
     },
     "metadata": {
      "needs_background": "light"
     },
     "output_type": "display_data"
    }
   ],
   "source": [
    "centroids_dict=recalculate_centroids(point_guards)\n",
    "point_guards['cluster']=point_guards.apply(lambda row: assign_to_cluster(row),axis=1)\n",
    "visualize_clusters(point_guards,num_clusters)"
   ]
  },
  {
   "cell_type": "markdown",
   "metadata": {},
   "source": [
    "Utilisation de la classe KMeans\n",
    "=="
   ]
  },
  {
   "cell_type": "code",
   "execution_count": 46,
   "metadata": {},
   "outputs": [],
   "source": [
    "nba=pd.read_csv('nba_2013.csv',sep=',')\n",
    "point_guards=nba[nba['pos']=='PG']\n",
    "point_guards['ppg']= point_guards['pts']/point_guards['g']\n",
    "point_guards=point_guards[point_guards['tov'] !=0]\n",
    "point_guards['atr']=point_guards['ast']/point_guards['tov']"
   ]
  },
  {
   "cell_type": "code",
   "execution_count": 47,
   "metadata": {},
   "outputs": [
    {
     "data": {
      "image/png": "[encoded data removed]",
      "text/plain": [
       "<Figure size 432x288 with 1 Axes>"
      ]
     },
     "metadata": {
      "needs_background": "light"
     },
     "output_type": "display_data"
    }
   ],
   "source": [
    "from sklearn.cluster import KMeans\n",
    "\n",
    "kmeans=KMeans(n_clusters=num_clusters)\n",
    "kmeans.fit(point_guards[['ppg','atr']])\n",
    "point_guards['cluster']=kmeans.labels_\n",
    "\n",
    "visualize_clusters(point_guards, num_clusters)"
   ]
  },
  {
   "cell_type": "code",
   "execution_count": null,
   "metadata": {},
   "outputs": [],
   "source": []
  },
  {
   "cell_type": "code",
   "execution_count": null,
   "metadata": {},
   "outputs": [],
   "source": []
  },
  {
   "cell_type": "code",
   "execution_count": null,
   "metadata": {},
   "outputs": [],
   "source": []
  },
  {
   "cell_type": "code",
   "execution_count": null,
   "metadata": {},
   "outputs": [],
   "source": []
  },
  {
   "cell_type": "code",
   "execution_count": null,
   "metadata": {},
   "outputs": [],
   "source": []
  },
  {
   "cell_type": "code",
   "execution_count": null,
   "metadata": {},
   "outputs": [],
   "source": []
  },
  {
   "cell_type": "code",
   "execution_count": null,
   "metadata": {},
   "outputs": [],
   "source": []
  },
  {
   "cell_type": "code",
   "execution_count": null,
   "metadata": {},
   "outputs": [],
   "source": []
  }
 ],
 "metadata": {
  "kernelspec": {
   "display_name": "Python 3",
   "language": "python",
   "name": "python3"
  },
  "language_info": {
   "codemirror_mode": {
    "name": "ipython",
    "version": 3
   },
   "file_extension": ".py",
   "mimetype": "text/x-python",
   "name": "python",
   "nbconvert_exporter": "python",
   "pygments_lexer": "ipython3",
   "version": "3.7.4"
  }
 },
 "nbformat": 4,
 "nbformat_minor": 2
}
