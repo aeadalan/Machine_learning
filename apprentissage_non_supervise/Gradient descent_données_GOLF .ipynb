{
 "cells": [
  {
   "cell_type": "markdown",
   "metadata": {},
   "source": [
    "Introduction aux données\n",
    "=="
   ]
  },
  {
   "cell_type": "code",
   "execution_count": 2,
   "metadata": {},
   "outputs": [],
   "source": [
    "import pandas as pd\n",
    "import numpy as np\n",
    "import matplotlib.pyplot as plt"
   ]
  },
  {
   "cell_type": "code",
   "execution_count": 3,
   "metadata": {},
   "outputs": [],
   "source": [
    "#  lire les données depuis csv\n",
    "pga=pd.read_csv('pga.csv')"
   ]
  },
  {
   "cell_type": "code",
   "execution_count": 4,
   "metadata": {},
   "outputs": [
    {
     "name": "stdout",
     "output_type": "stream",
     "text": [
      "           player  distance  accuracy\n",
      "0  Aaron Baddeley  0.410392 -2.281303\n",
      "1     Adam Hadwin -0.224372  0.702789\n",
      "2      Adam Scott  2.293166 -0.231465\n",
      "3      Alex Cejka -0.751549  0.377574\n",
      "4      Alex Prugh  0.528738  0.032649\n"
     ]
    }
   ],
   "source": [
    "#  Normaliser les données\n",
    "pga.distance=(pga.distance - pga.distance.mean())/pga.distance.std()\n",
    "pga.accuracy=(pga.accuracy - pga.accuracy.mean())/pga.accuracy.std()\n",
    "print(pga.head())"
   ]
  },
  {
   "cell_type": "code",
   "execution_count": 5,
   "metadata": {
    "collapsed": true
   },
   "outputs": [
    {
     "data": {
      "image/png": "[encoded data removed]",
      "text/plain": [
       "<Figure size 432x288 with 1 Axes>"
      ]
     },
     "metadata": {
      "needs_background": "light"
     },
     "output_type": "display_data"
    }
   ],
   "source": [
    "#  représentation graphique\n",
    "plt.scatter(pga.distance,pga.accuracy)\n",
    "plt.xlabel('distance normalisée')\n",
    "plt.ylabel('précision normalisées')\n",
    "plt.show()"
   ]
  },
  {
   "cell_type": "markdown",
   "metadata": {},
   "source": [
    "<img src=\"img14.png\">"
   ]
  },
  {
   "cell_type": "code",
   "execution_count": 6,
   "metadata": {},
   "outputs": [
    {
     "name": "stdout",
     "output_type": "stream",
     "text": [
      "Dimension de lobjet series de la colonne distance (193,)\n"
     ]
    }
   ],
   "source": [
    "from sklearn.linear_model import LinearRegression\n",
    "import numpy as np\n",
    "\n",
    "print('Dimension de lobjet series de la colonne distance', pga.distance.shape)"
   ]
  },
  {
   "cell_type": "code",
   "execution_count": 7,
   "metadata": {},
   "outputs": [
    {
     "name": "stdout",
     "output_type": "stream",
     "text": [
      "Dimension avec newaxis: (193, 1)\n"
     ]
    }
   ],
   "source": [
    "#  On ajoute une dimension à untableau en utilisant np.newaxis\n",
    "# car la variable x de LinearRegression.fit() doit avoir deux dimensions\n",
    "print('Dimension avec newaxis:', pga.distance[:, np.newaxis].shape)"
   ]
  },
  {
   "cell_type": "code",
   "execution_count": 10,
   "metadata": {},
   "outputs": [
    {
     "name": "stdout",
     "output_type": "stream",
     "text": [
      "-0.5204230756443441\n"
     ]
    }
   ],
   "source": [
    "#  Modèle de regression lineaire\n",
    "lm=LinearRegression()\n",
    "lm.fit(pga.distance[:,np.newaxis], pga.accuracy)\n",
    "theta1=lm.coef_[0]\n",
    "print(theta1)"
   ]
  },
  {
   "cell_type": "markdown",
   "metadata": {},
   "source": [
    "<img src=\"img15.png\">"
   ]
  },
  {
   "cell_type": "code",
   "execution_count": null,
   "metadata": {},
   "outputs": [],
   "source": []
  },
  {
   "cell_type": "code",
   "execution_count": null,
   "metadata": {},
   "outputs": [],
   "source": []
  },
  {
   "cell_type": "code",
   "execution_count": null,
   "metadata": {},
   "outputs": [],
   "source": []
  }
 ],
 "metadata": {
  "kernelspec": {
   "display_name": "Python 3",
   "language": "python",
   "name": "python3"
  },
  "language_info": {
   "codemirror_mode": {
    "name": "ipython",
    "version": 3
   },
   "file_extension": ".py",
   "mimetype": "text/x-python",
   "name": "python",
   "nbconvert_exporter": "python",
   "pygments_lexer": "ipython3",
   "version": "3.7.4"
  }
 },
 "nbformat": 4,
 "nbformat_minor": 2
}
