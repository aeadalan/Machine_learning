{
 "cells": [
  {
   "cell_type": "markdown",
   "metadata": {},
   "source": [
    "Regression non lineaire simple avec Numpy\n",
    "=="
   ]
  },
  {
   "cell_type": "code",
   "execution_count": 38,
   "metadata": {},
   "outputs": [],
   "source": [
    "import numpy as np\n",
    "import matplotlib.pyplot as plt\n",
    "from sklearn.datasets import make_regression"
   ]
  },
  {
   "cell_type": "markdown",
   "metadata": {},
   "source": [
    "1.Dataset\n",
    "=="
   ]
  },
  {
   "cell_type": "code",
   "execution_count": 62,
   "metadata": {},
   "outputs": [
    {
     "data": {
      "text/plain": [
       "<matplotlib.collections.PathCollection at 0x1a21911b50>"
      ]
     },
     "execution_count": 62,
     "metadata": {},
     "output_type": "execute_result"
    },
    {
     "data": {
      "image/png": "[encoded data removed]",
      "text/plain": [
       "<Figure size 432x288 with 1 Axes>"
      ]
     },
     "metadata": {
      "needs_background": "light"
     },
     "output_type": "display_data"
    }
   ],
   "source": [
    "x,y=make_regression(n_samples=100,n_features=1, noise=10)\n",
    "y=y+abs(y/2)\n",
    "plt.scatter(x,y) #  afficher les resultat sous forme graphique x en abscisse et y en ordonnées"
   ]
  },
  {
   "cell_type": "code",
   "execution_count": 63,
   "metadata": {},
   "outputs": [
    {
     "name": "stdout",
     "output_type": "stream",
     "text": [
      "(100, 1)\n",
      "(100,)\n"
     ]
    }
   ],
   "source": [
    "# verification des dimensions\n",
    "print(x.shape)\n",
    "print(y.shape)"
   ]
  },
  {
   "cell_type": "code",
   "execution_count": 64,
   "metadata": {},
   "outputs": [
    {
     "name": "stdout",
     "output_type": "stream",
     "text": [
      "(100, 1)\n"
     ]
    }
   ],
   "source": [
    "#  redimensionner les dimensions\n",
    "y=y.reshape(y.shape[0],1)\n",
    "print(y.shape)"
   ]
  },
  {
   "cell_type": "code",
   "execution_count": 65,
   "metadata": {},
   "outputs": [
    {
     "name": "stdout",
     "output_type": "stream",
     "text": [
      "(100, 3)\n",
      "[[ 1.91672110e-01  4.37803734e-01  1.00000000e+00]\n",
      " [ 9.76265350e-02 -3.12452452e-01  1.00000000e+00]\n",
      " [ 1.94820720e-01 -4.41385002e-01  1.00000000e+00]\n",
      " [ 1.75125947e-03 -4.18480521e-02  1.00000000e+00]\n",
      " [ 3.35589935e-01 -5.79301247e-01  1.00000000e+00]\n",
      " [ 5.84459935e-01  7.64499794e-01  1.00000000e+00]\n",
      " [ 5.57403334e-02 -2.36093908e-01  1.00000000e+00]\n",
      " [ 2.40151605e+00  1.54968257e+00  1.00000000e+00]\n",
      " [ 5.36923443e+00 -2.31716086e+00  1.00000000e+00]\n",
      " [ 2.25852550e-01 -4.75239466e-01  1.00000000e+00]]\n"
     ]
    }
   ],
   "source": [
    "#  construction de la matrice X, incluant le biais\n",
    "X=np.hstack((x,np.ones(x.shape)))\n",
    "X=np.hstack((x**2,X))\n",
    "print(X.shape)\n",
    "print(X[:10])"
   ]
  },
  {
   "cell_type": "code",
   "execution_count": 66,
   "metadata": {},
   "outputs": [
    {
     "data": {
      "text/plain": [
       "array([[ 1.45197701],\n",
       "       [-1.52584369],\n",
       "       [ 0.31400055]])"
      ]
     },
     "execution_count": 66,
     "metadata": {},
     "output_type": "execute_result"
    }
   ],
   "source": [
    "#  Initialisation du theta aléatoire\n",
    "theta=np.random.randn(3,1)\n",
    "theta"
   ]
  },
  {
   "cell_type": "markdown",
   "metadata": {},
   "source": [
    "2.Modèle linéaire\n",
    "=="
   ]
  },
  {
   "cell_type": "markdown",
   "metadata": {},
   "source": [
    "On implémente un modèle F=X . theta puis on teste le modèle"
   ]
  },
  {
   "cell_type": "code",
   "execution_count": 70,
   "metadata": {},
   "outputs": [],
   "source": [
    "def model(X,theta):\n",
    "    return X.dot(theta)"
   ]
  },
  {
   "cell_type": "markdown",
   "metadata": {},
   "source": [
    "3.Fonction coût: Erreur quadratique moyenne\n",
    "    =="
   ]
  },
  {
   "cell_type": "code",
   "execution_count": 71,
   "metadata": {},
   "outputs": [],
   "source": [
    "def cost_function(X,y,theta):\n",
    "    m=len(y)\n",
    "    return (1/(2*m))*np.sum((model(X,theta)-y)**2)"
   ]
  },
  {
   "cell_type": "code",
   "execution_count": 72,
   "metadata": {},
   "outputs": [
    {
     "data": {
      "text/plain": [
       "3867.3321134009198"
      ]
     },
     "execution_count": 72,
     "metadata": {},
     "output_type": "execute_result"
    }
   ],
   "source": [
    "cost_function(X,y,theta)"
   ]
  },
  {
   "cell_type": "markdown",
   "metadata": {},
   "source": [
    "4.Gradient et Descente de gradient\n",
    "=="
   ]
  },
  {
   "cell_type": "markdown",
   "metadata": {},
   "source": [
    "On implémente la formule du gradient pour le MSE"
   ]
  },
  {
   "cell_type": "code",
   "execution_count": 73,
   "metadata": {},
   "outputs": [],
   "source": [
    "def grad(X,y,theta):\n",
    "    m=len(y)\n",
    "    return (1/m) * X.T.dot(model(X,theta)-y)"
   ]
  },
  {
   "cell_type": "markdown",
   "metadata": {},
   "source": [
    "On utilise cette fonction dans la descente du Gradient"
   ]
  },
  {
   "cell_type": "code",
   "execution_count": 74,
   "metadata": {},
   "outputs": [],
   "source": [
    "def gradient_descent(X,y,theta,learning_rate,n_iterations):\n",
    "    cost_history=np.zeros(n_iterations)\n",
    "    for i in range(0,n_iterations):\n",
    "        theta=theta - (learning_rate * grad(X,y,theta)) #  mise a jour des paramètres theta (formule du gradient descends)\n",
    "        cost_history[i] = cost_function(X,y,theta) #  on enregistre la valeur du cout autour de i dans cost_history\n",
    "    return theta, cost_history\n",
    "          "
   ]
  },
  {
   "cell_type": "markdown",
   "metadata": {},
   "source": [
    "5.Phase d'entrainement\n",
    "=="
   ]
  },
  {
   "cell_type": "markdown",
   "metadata": {},
   "source": [
    "On définit un nombre d'itération ainsi qu'un pas d'apprentissage alpha, et c'est parti"
   ]
  },
  {
   "cell_type": "markdown",
   "metadata": {},
   "source": [
    "Une fois le modèle entrainé, on observe les résultats par rapport à notre Dataset"
   ]
  },
  {
   "cell_type": "code",
   "execution_count": 75,
   "metadata": {},
   "outputs": [],
   "source": [
    "n_iterations=1000\n",
    "learning_rate=0.01"
   ]
  },
  {
   "cell_type": "code",
   "execution_count": 76,
   "metadata": {},
   "outputs": [],
   "source": [
    "theta_final,cost_history = gradient_descent(X,y,theta,learning_rate,n_iterations)"
   ]
  },
  {
   "cell_type": "code",
   "execution_count": 77,
   "metadata": {},
   "outputs": [
    {
     "data": {
      "text/plain": [
       "array([[19.14084833],\n",
       "       [88.07223119],\n",
       "       [15.66747764]])"
      ]
     },
     "execution_count": 77,
     "metadata": {},
     "output_type": "execute_result"
    }
   ],
   "source": [
    " #  les paramètres du modèle une fois que celui ci a été entrainé\n",
    "theta_final"
   ]
  },
  {
   "cell_type": "code",
   "execution_count": 78,
   "metadata": {},
   "outputs": [
    {
     "data": {
      "text/plain": [
       "<matplotlib.collections.PathCollection at 0x1a21ce3850>"
      ]
     },
     "execution_count": 78,
     "metadata": {},
     "output_type": "execute_result"
    },
    {
     "data": {
      "image/png": "[encoded data removed]",
      "text/plain": [
       "<Figure size 432x288 with 1 Axes>"
      ]
     },
     "metadata": {
      "needs_background": "light"
     },
     "output_type": "display_data"
    }
   ],
   "source": [
    " #  creation d'un vecteur prediction qui contient les prédictions de notre modèle final\n",
    "predictions=model(X,theta_final)\n",
    "    \n",
    " #  Afficher les résultats de prédictions (en rouge) par rapport à notre Dataset (bleu)\n",
    "plt.scatter(x[:,0],y)\n",
    "plt.scatter(x[:,0],predictions,c='r')\n",
    "    "
   ]
  },
  {
   "cell_type": "markdown",
   "metadata": {},
   "source": [
    "6.Courbe d'apprentissage\n",
    "=="
   ]
  },
  {
   "cell_type": "markdown",
   "metadata": {},
   "source": [
    "On vérifie si vraiment l'algorithme à bien convergé"
   ]
  },
  {
   "cell_type": "code",
   "execution_count": 79,
   "metadata": {},
   "outputs": [
    {
     "data": {
      "text/plain": [
       "[<matplotlib.lines.Line2D at 0x1a21d01350>]"
      ]
     },
     "execution_count": 79,
     "metadata": {},
     "output_type": "execute_result"
    },
    {
     "data": {
      "image/png": "[encoded data removed]",
      "text/plain": [
       "<Figure size 432x288 with 1 Axes>"
      ]
     },
     "metadata": {
      "needs_background": "light"
     },
     "output_type": "display_data"
    }
   ],
   "source": [
    "plt.plot(range(n_iterations),cost_history,c='green') "
   ]
  },
  {
   "cell_type": "markdown",
   "metadata": {},
   "source": [
    "On verifie la performance du modèle avec le coefficient du détermination"
   ]
  },
  {
   "cell_type": "code",
   "execution_count": 80,
   "metadata": {},
   "outputs": [
    {
     "data": {
      "text/plain": [
       "0.9735124565694022"
      ]
     },
     "execution_count": 80,
     "metadata": {},
     "output_type": "execute_result"
    }
   ],
   "source": [
    "def coef_determination(y,pred):\n",
    "    u=((y - pred)**2).sum()\n",
    "    v=((y - y.mean())**2).sum()\n",
    "    return 1 - (u/v)\n",
    "coef_determination(y,predictions)"
   ]
  },
  {
   "cell_type": "code",
   "execution_count": 82,
   "metadata": {},
   "outputs": [
    {
     "data": {
      "application/javascript": [
       "/* Put everything inside the global mpl namespace */\n",
       "window.mpl = {};\n",
       "\n",
       "\n",
       "mpl.get_websocket_type = function() {\n",
       "    if (typeof(WebSocket) !== 'undefined') {\n",
       "        return WebSocket;\n",
       "    } else if (typeof(MozWebSocket) !== 'undefined') {\n",
       "        return MozWebSocket;\n",
       "    } else {\n",
       "        alert('Your browser does not have WebSocket support. ' +\n",
       "              'Please try Chrome, Safari or Firefox ≥ 6. ' +\n",
       "              'Firefox 4 and 5 are also supported but you ' +\n",
       "              'have to enable WebSockets in about:config.');\n",
       "    };\n",
       "}\n",
       "\n",
       "mpl.figure = function(figure_id, websocket, ondownload, parent_element) {\n",
       "    this.id = figure_id;\n",
       "\n",
       "    this.ws = websocket;\n",
       "\n",
       "    this.supports_binary = (this.ws.binaryType != undefined);\n",
       "\n",
       "    if (!this.supports_binary) {\n",
       "        var warnings = document.getElementById(\"mpl-warnings\");\n",
       "        if (warnings) {\n",
       "            warnings.style.display = 'block';\n",
       "            warnings.textContent = (\n",
       "                \"This browser does not support binary websocket messages. \" +\n",
       "                    \"Performance may be slow.\");\n",
       "        }\n",
       "    }\n",
       "\n",
       "    this.imageObj = new Image();\n",
       "\n",
       "    this.context = undefined;\n",
       "    this.message = undefined;\n",
       "    this.canvas = undefined;\n",
       "    this.rubberband_canvas = undefined;\n",
       "    this.rubberband_context = undefined;\n",
       "    this.format_dropdown = undefined;\n",
       "\n",
       "    this.image_mode = 'full';\n",
       "\n",
       "    this.root = $('<div/>');\n",
       "    this._root_extra_style(this.root)\n",
       "    this.root.attr('style', 'display: inline-block');\n",
       "\n",
       "    $(parent_element).append(this.root);\n",
       "\n",
       "    this._init_header(this);\n",
       "    this._init_canvas(this);\n",
       "    this._init_toolbar(this);\n",
       "\n",
       "    var fig = this;\n",
       "\n",
       "    this.waiting = false;\n",
       "\n",
       "    this.ws.onopen =  function () {\n",
       "            fig.send_message(\"supports_binary\", {value: fig.supports_binary});\n",
       "            fig.send_message(\"send_image_mode\", {});\n",
       "            if (mpl.ratio != 1) {\n",
       "                fig.send_message(\"set_dpi_ratio\", {'dpi_ratio': mpl.ratio});\n",
       "            }\n",
       "            fig.send_message(\"refresh\", {});\n",
       "        }\n",
       "\n",
       "    this.imageObj.onload = function() {\n",
       "            if (fig.image_mode == 'full') {\n",
       "                // Full images could contain transparency (where diff images\n",
       "                // almost always do), so we need to clear the canvas so that\n",
       "                // there is no ghosting.\n",
       "                fig.context.clearRect(0, 0, fig.canvas.width, fig.canvas.height);\n",
       "            }\n",
       "            fig.context.drawImage(fig.imageObj, 0, 0);\n",
       "        };\n",
       "\n",
       "    this.imageObj.onunload = function() {\n",
       "        fig.ws.close();\n",
       "    }\n",
       "\n",
       "    this.ws.onmessage = this._make_on_message_function(this);\n",
       "\n",
       "    this.ondownload = ondownload;\n",
       "}\n",
       "\n",
       "mpl.figure.prototype._init_header = function() {\n",
       "    var titlebar = $(\n",
       "        '<div class=\"ui-dialog-titlebar ui-widget-header ui-corner-all ' +\n",
       "        'ui-helper-clearfix\"/>');\n",
       "    var titletext = $(\n",
       "        '<div class=\"ui-dialog-title\" style=\"width: 100%; ' +\n",
       "        'text-align: center; padding: 3px;\"/>');\n",
       "    titlebar.append(titletext)\n",
       "    this.root.append(titlebar);\n",
       "    this.header = titletext[0];\n",
       "}\n",
       "\n",
       "\n",
       "\n",
       "mpl.figure.prototype._canvas_extra_style = function(canvas_div) {\n",
       "\n",
       "}\n",
       "\n",
       "\n",
       "mpl.figure.prototype._root_extra_style = function(canvas_div) {\n",
       "\n",
       "}\n",
       "\n",
       "mpl.figure.prototype._init_canvas = function() {\n",
       "    var fig = this;\n",
       "\n",
       "    var canvas_div = $('<div/>');\n",
       "\n",
       "    canvas_div.attr('style', 'position: relative; clear: both; outline: 0');\n",
       "\n",
       "    function canvas_keyboard_event(event) {\n",
       "        return fig.key_event(event, event['data']);\n",
       "    }\n",
       "\n",
       "    canvas_div.keydown('key_press', canvas_keyboard_event);\n",
       "    canvas_div.keyup('key_release', canvas_keyboard_event);\n",
       "    this.canvas_div = canvas_div\n",
       "    this._canvas_extra_style(canvas_div)\n",
       "    this.root.append(canvas_div);\n",
       "\n",
       "    var canvas = $('<canvas/>');\n",
       "    canvas.addClass('mpl-canvas');\n",
       "    canvas.attr('style', \"left: 0; top: 0; z-index: 0; outline: 0\")\n",
       "\n",
       "    this.canvas = canvas[0];\n",
       "    this.context = canvas[0].getContext(\"2d\");\n",
       "\n",
       "    var backingStore = this.context.backingStorePixelRatio ||\n",
       "\tthis.context.webkitBackingStorePixelRatio ||\n",
       "\tthis.context.mozBackingStorePixelRatio ||\n",
       "\tthis.context.msBackingStorePixelRatio ||\n",
       "\tthis.context.oBackingStorePixelRatio ||\n",
       "\tthis.context.backingStorePixelRatio || 1;\n",
       "\n",
       "    mpl.ratio = (window.devicePixelRatio || 1) / backingStore;\n",
       "\n",
       "    var rubberband = $('<canvas/>');\n",
       "    rubberband.attr('style', \"position: absolute; left: 0; top: 0; z-index: 1;\")\n",
       "\n",
       "    var pass_mouse_events = true;\n",
       "\n",
       "    canvas_div.resizable({\n",
       "        start: function(event, ui) {\n",
       "            pass_mouse_events = false;\n",
       "        },\n",
       "        resize: function(event, ui) {\n",
       "            fig.request_resize(ui.size.width, ui.size.height);\n",
       "        },\n",
       "        stop: function(event, ui) {\n",
       "            pass_mouse_events = true;\n",
       "            fig.request_resize(ui.size.width, ui.size.height);\n",
       "        },\n",
       "    });\n",
       "\n",
       "    function mouse_event_fn(event) {\n",
       "        if (pass_mouse_events)\n",
       "            return fig.mouse_event(event, event['data']);\n",
       "    }\n",
       "\n",
       "    rubberband.mousedown('button_press', mouse_event_fn);\n",
       "    rubberband.mouseup('button_release', mouse_event_fn);\n",
       "    // Throttle sequential mouse events to 1 every 20ms.\n",
       "    rubberband.mousemove('motion_notify', mouse_event_fn);\n",
       "\n",
       "    rubberband.mouseenter('figure_enter', mouse_event_fn);\n",
       "    rubberband.mouseleave('figure_leave', mouse_event_fn);\n",
       "\n",
       "    canvas_div.on(\"wheel\", function (event) {\n",
       "        event = event.originalEvent;\n",
       "        event['data'] = 'scroll'\n",
       "        if (event.deltaY < 0) {\n",
       "            event.step = 1;\n",
       "        } else {\n",
       "            event.step = -1;\n",
       "        }\n",
       "        mouse_event_fn(event);\n",
       "    });\n",
       "\n",
       "    canvas_div.append(canvas);\n",
       "    canvas_div.append(rubberband);\n",
       "\n",
       "    this.rubberband = rubberband;\n",
       "    this.rubberband_canvas = rubberband[0];\n",
       "    this.rubberband_context = rubberband[0].getContext(\"2d\");\n",
       "    this.rubberband_context.strokeStyle = \"#000000\";\n",
       "\n",
       "    this._resize_canvas = function(width, height) {\n",
       "        // Keep the size of the canvas, canvas container, and rubber band\n",
       "        // canvas in synch.\n",
       "        canvas_div.css('width', width)\n",
       "        canvas_div.css('height', height)\n",
       "\n",
       "        canvas.attr('width', width * mpl.ratio);\n",
       "        canvas.attr('height', height * mpl.ratio);\n",
       "        canvas.attr('style', 'width: ' + width + 'px; height: ' + height + 'px;');\n",
       "\n",
       "        rubberband.attr('width', width);\n",
       "        rubberband.attr('height', height);\n",
       "    }\n",
       "\n",
       "    // Set the figure to an initial 600x600px, this will subsequently be updated\n",
       "    // upon first draw.\n",
       "    this._resize_canvas(600, 600);\n",
       "\n",
       "    // Disable right mouse context menu.\n",
       "    $(this.rubberband_canvas).bind(\"contextmenu\",function(e){\n",
       "        return false;\n",
       "    });\n",
       "\n",
       "    function set_focus () {\n",
       "        canvas.focus();\n",
       "        canvas_div.focus();\n",
       "    }\n",
       "\n",
       "    window.setTimeout(set_focus, 100);\n",
       "}\n",
       "\n",
       "mpl.figure.prototype._init_toolbar = function() {\n",
       "    var fig = this;\n",
       "\n",
       "    var nav_element = $('<div/>');\n",
       "    nav_element.attr('style', 'width: 100%');\n",
       "    this.root.append(nav_element);\n",
       "\n",
       "    // Define a callback function for later on.\n",
       "    function toolbar_event(event) {\n",
       "        return fig.toolbar_button_onclick(event['data']);\n",
       "    }\n",
       "    function toolbar_mouse_event(event) {\n",
       "        return fig.toolbar_button_onmouseover(event['data']);\n",
       "    }\n",
       "\n",
       "    for(var toolbar_ind in mpl.toolbar_items) {\n",
       "        var name = mpl.toolbar_items[toolbar_ind][0];\n",
       "        var tooltip = mpl.toolbar_items[toolbar_ind][1];\n",
       "        var image = mpl.toolbar_items[toolbar_ind][2];\n",
       "        var method_name = mpl.toolbar_items[toolbar_ind][3];\n",
       "\n",
       "        if (!name) {\n",
       "            // put a spacer in here.\n",
       "            continue;\n",
       "        }\n",
       "        var button = $('<button/>');\n",
       "        button.addClass('ui-button ui-widget ui-state-default ui-corner-all ' +\n",
       "                        'ui-button-icon-only');\n",
       "        button.attr('role', 'button');\n",
       "        button.attr('aria-disabled', 'false');\n",
       "        button.click(method_name, toolbar_event);\n",
       "        button.mouseover(tooltip, toolbar_mouse_event);\n",
       "\n",
       "        var icon_img = $('<span/>');\n",
       "        icon_img.addClass('ui-button-icon-primary ui-icon');\n",
       "        icon_img.addClass(image);\n",
       "        icon_img.addClass('ui-corner-all');\n",
       "\n",
       "        var tooltip_span = $('<span/>');\n",
       "        tooltip_span.addClass('ui-button-text');\n",
       "        tooltip_span.html(tooltip);\n",
       "\n",
       "        button.append(icon_img);\n",
       "        button.append(tooltip_span);\n",
       "\n",
       "        nav_element.append(button);\n",
       "    }\n",
       "\n",
       "    var fmt_picker_span = $('<span/>');\n",
       "\n",
       "    var fmt_picker = $('<select/>');\n",
       "    fmt_picker.addClass('mpl-toolbar-option ui-widget ui-widget-content');\n",
       "    fmt_picker_span.append(fmt_picker);\n",
       "    nav_element.append(fmt_picker_span);\n",
       "    this.format_dropdown = fmt_picker[0];\n",
       "\n",
       "    for (var ind in mpl.extensions) {\n",
       "        var fmt = mpl.extensions[ind];\n",
       "        var option = $(\n",
       "            '<option/>', {selected: fmt === mpl.default_extension}).html(fmt);\n",
       "        fmt_picker.append(option);\n",
       "    }\n",
       "\n",
       "    // Add hover states to the ui-buttons\n",
       "    $( \".ui-button\" ).hover(\n",
       "        function() { $(this).addClass(\"ui-state-hover\");},\n",
       "        function() { $(this).removeClass(\"ui-state-hover\");}\n",
       "    );\n",
       "\n",
       "    var status_bar = $('<span class=\"mpl-message\"/>');\n",
       "    nav_element.append(status_bar);\n",
       "    this.message = status_bar[0];\n",
       "}\n",
       "\n",
       "mpl.figure.prototype.request_resize = function(x_pixels, y_pixels) {\n",
       "    // Request matplotlib to resize the figure. Matplotlib will then trigger a resize in the client,\n",
       "    // which will in turn request a refresh of the image.\n",
       "    this.send_message('resize', {'width': x_pixels, 'height': y_pixels});\n",
       "}\n",
       "\n",
       "mpl.figure.prototype.send_message = function(type, properties) {\n",
       "    properties['type'] = type;\n",
       "    properties['figure_id'] = this.id;\n",
       "    this.ws.send(JSON.stringify(properties));\n",
       "}\n",
       "\n",
       "mpl.figure.prototype.send_draw_message = function() {\n",
       "    if (!this.waiting) {\n",
       "        this.waiting = true;\n",
       "        this.ws.send(JSON.stringify({type: \"draw\", figure_id: this.id}));\n",
       "    }\n",
       "}\n",
       "\n",
       "\n",
       "mpl.figure.prototype.handle_save = function(fig, msg) {\n",
       "    var format_dropdown = fig.format_dropdown;\n",
       "    var format = format_dropdown.options[format_dropdown.selectedIndex].value;\n",
       "    fig.ondownload(fig, format);\n",
       "}\n",
       "\n",
       "\n",
       "mpl.figure.prototype.handle_resize = function(fig, msg) {\n",
       "    var size = msg['size'];\n",
       "    if (size[0] != fig.canvas.width || size[1] != fig.canvas.height) {\n",
       "        fig._resize_canvas(size[0], size[1]);\n",
       "        fig.send_message(\"refresh\", {});\n",
       "    };\n",
       "}\n",
       "\n",
       "mpl.figure.prototype.handle_rubberband = function(fig, msg) {\n",
       "    var x0 = msg['x0'] / mpl.ratio;\n",
       "    var y0 = (fig.canvas.height - msg['y0']) / mpl.ratio;\n",
       "    var x1 = msg['x1'] / mpl.ratio;\n",
       "    var y1 = (fig.canvas.height - msg['y1']) / mpl.ratio;\n",
       "    x0 = Math.floor(x0) + 0.5;\n",
       "    y0 = Math.floor(y0) + 0.5;\n",
       "    x1 = Math.floor(x1) + 0.5;\n",
       "    y1 = Math.floor(y1) + 0.5;\n",
       "    var min_x = Math.min(x0, x1);\n",
       "    var min_y = Math.min(y0, y1);\n",
       "    var width = Math.abs(x1 - x0);\n",
       "    var height = Math.abs(y1 - y0);\n",
       "\n",
       "    fig.rubberband_context.clearRect(\n",
       "        0, 0, fig.canvas.width / mpl.ratio, fig.canvas.height / mpl.ratio);\n",
       "\n",
       "    fig.rubberband_context.strokeRect(min_x, min_y, width, height);\n",
       "}\n",
       "\n",
       "mpl.figure.prototype.handle_figure_label = function(fig, msg) {\n",
       "    // Updates the figure title.\n",
       "    fig.header.textContent = msg['label'];\n",
       "}\n",
       "\n",
       "mpl.figure.prototype.handle_cursor = function(fig, msg) {\n",
       "    var cursor = msg['cursor'];\n",
       "    switch(cursor)\n",
       "    {\n",
       "    case 0:\n",
       "        cursor = 'pointer';\n",
       "        break;\n",
       "    case 1:\n",
       "        cursor = 'default';\n",
       "        break;\n",
       "    case 2:\n",
       "        cursor = 'crosshair';\n",
       "        break;\n",
       "    case 3:\n",
       "        cursor = 'move';\n",
       "        break;\n",
       "    }\n",
       "    fig.rubberband_canvas.style.cursor = cursor;\n",
       "}\n",
       "\n",
       "mpl.figure.prototype.handle_message = function(fig, msg) {\n",
       "    fig.message.textContent = msg['message'];\n",
       "}\n",
       "\n",
       "mpl.figure.prototype.handle_draw = function(fig, msg) {\n",
       "    // Request the server to send over a new figure.\n",
       "    fig.send_draw_message();\n",
       "}\n",
       "\n",
       "mpl.figure.prototype.handle_image_mode = function(fig, msg) {\n",
       "    fig.image_mode = msg['mode'];\n",
       "}\n",
       "\n",
       "mpl.figure.prototype.updated_canvas_event = function() {\n",
       "    // Called whenever the canvas gets updated.\n",
       "    this.send_message(\"ack\", {});\n",
       "}\n",
       "\n",
       "// A function to construct a web socket function for onmessage handling.\n",
       "// Called in the figure constructor.\n",
       "mpl.figure.prototype._make_on_message_function = function(fig) {\n",
       "    return function socket_on_message(evt) {\n",
       "        if (evt.data instanceof Blob) {\n",
       "            /* FIXME: We get \"Resource interpreted as Image but\n",
       "             * transferred with MIME type text/plain:\" errors on\n",
       "             * Chrome.  But how to set the MIME type?  It doesn't seem\n",
       "             * to be part of the websocket stream */\n",
       "            evt.data.type = \"image/png\";\n",
       "\n",
       "            /* Free the memory for the previous frames */\n",
       "            if (fig.imageObj.src) {\n",
       "                (window.URL || window.webkitURL).revokeObjectURL(\n",
       "                    fig.imageObj.src);\n",
       "            }\n",
       "\n",
       "            fig.imageObj.src = (window.URL || window.webkitURL).createObjectURL(\n",
       "                evt.data);\n",
       "            fig.updated_canvas_event();\n",
       "            fig.waiting = false;\n",
       "            return;\n",
       "        }\n",
       "        else if (typeof evt.data === 'string' && evt.data.slice(0, 21) == \"data:image/png;base64\") {\n",
       "            fig.imageObj.src = evt.data;\n",
       "            fig.updated_canvas_event();\n",
       "            fig.waiting = false;\n",
       "            return;\n",
       "        }\n",
       "\n",
       "        var msg = JSON.parse(evt.data);\n",
       "        var msg_type = msg['type'];\n",
       "\n",
       "        // Call the  \"handle_{type}\" callback, which takes\n",
       "        // the figure and JSON message as its only arguments.\n",
       "        try {\n",
       "            var callback = fig[\"handle_\" + msg_type];\n",
       "        } catch (e) {\n",
       "            console.log(\"No handler for the '\" + msg_type + \"' message type: \", msg);\n",
       "            return;\n",
       "        }\n",
       "\n",
       "        if (callback) {\n",
       "            try {\n",
       "                // console.log(\"Handling '\" + msg_type + \"' message: \", msg);\n",
       "                callback(fig, msg);\n",
       "            } catch (e) {\n",
       "                console.log(\"Exception inside the 'handler_\" + msg_type + \"' callback:\", e, e.stack, msg);\n",
       "            }\n",
       "        }\n",
       "    };\n",
       "}\n",
       "\n",
       "// from http://stackoverflow.com/questions/1114465/getting-mouse-location-in-canvas\n",
       "mpl.findpos = function(e) {\n",
       "    //this section is from http://www.quirksmode.org/js/events_properties.html\n",
       "    var targ;\n",
       "    if (!e)\n",
       "        e = window.event;\n",
       "    if (e.target)\n",
       "        targ = e.target;\n",
       "    else if (e.srcElement)\n",
       "        targ = e.srcElement;\n",
       "    if (targ.nodeType == 3) // defeat Safari bug\n",
       "        targ = targ.parentNode;\n",
       "\n",
       "    // jQuery normalizes the pageX and pageY\n",
       "    // pageX,Y are the mouse positions relative to the document\n",
       "    // offset() returns the position of the element relative to the document\n",
       "    var x = e.pageX - $(targ).offset().left;\n",
       "    var y = e.pageY - $(targ).offset().top;\n",
       "\n",
       "    return {\"x\": x, \"y\": y};\n",
       "};\n",
       "\n",
       "/*\n",
       " * return a copy of an object with only non-object keys\n",
       " * we need this to avoid circular references\n",
       " * http://stackoverflow.com/a/24161582/3208463\n",
       " */\n",
       "function simpleKeys (original) {\n",
       "  return Object.keys(original).reduce(function (obj, key) {\n",
       "    if (typeof original[key] !== 'object')\n",
       "        obj[key] = original[key]\n",
       "    return obj;\n",
       "  }, {});\n",
       "}\n",
       "\n",
       "mpl.figure.prototype.mouse_event = function(event, name) {\n",
       "    var canvas_pos = mpl.findpos(event)\n",
       "\n",
       "    if (name === 'button_press')\n",
       "    {\n",
       "        this.canvas.focus();\n",
       "        this.canvas_div.focus();\n",
       "    }\n",
       "\n",
       "    var x = canvas_pos.x * mpl.ratio;\n",
       "    var y = canvas_pos.y * mpl.ratio;\n",
       "\n",
       "    this.send_message(name, {x: x, y: y, button: event.button,\n",
       "                             step: event.step,\n",
       "                             guiEvent: simpleKeys(event)});\n",
       "\n",
       "    /* This prevents the web browser from automatically changing to\n",
       "     * the text insertion cursor when the button is pressed.  We want\n",
       "     * to control all of the cursor setting manually through the\n",
       "     * 'cursor' event from matplotlib */\n",
       "    event.preventDefault();\n",
       "    return false;\n",
       "}\n",
       "\n",
       "mpl.figure.prototype._key_event_extra = function(event, name) {\n",
       "    // Handle any extra behaviour associated with a key event\n",
       "}\n",
       "\n",
       "mpl.figure.prototype.key_event = function(event, name) {\n",
       "\n",
       "    // Prevent repeat events\n",
       "    if (name == 'key_press')\n",
       "    {\n",
       "        if (event.which === this._key)\n",
       "            return;\n",
       "        else\n",
       "            this._key = event.which;\n",
       "    }\n",
       "    if (name == 'key_release')\n",
       "        this._key = null;\n",
       "\n",
       "    var value = '';\n",
       "    if (event.ctrlKey && event.which != 17)\n",
       "        value += \"ctrl+\";\n",
       "    if (event.altKey && event.which != 18)\n",
       "        value += \"alt+\";\n",
       "    if (event.shiftKey && event.which != 16)\n",
       "        value += \"shift+\";\n",
       "\n",
       "    value += 'k';\n",
       "    value += event.which.toString();\n",
       "\n",
       "    this._key_event_extra(event, name);\n",
       "\n",
       "    this.send_message(name, {key: value,\n",
       "                             guiEvent: simpleKeys(event)});\n",
       "    return false;\n",
       "}\n",
       "\n",
       "mpl.figure.prototype.toolbar_button_onclick = function(name) {\n",
       "    if (name == 'download') {\n",
       "        this.handle_save(this, null);\n",
       "    } else {\n",
       "        this.send_message(\"toolbar_button\", {name: name});\n",
       "    }\n",
       "};\n",
       "\n",
       "mpl.figure.prototype.toolbar_button_onmouseover = function(tooltip) {\n",
       "    this.message.textContent = tooltip;\n",
       "};\n",
       "mpl.toolbar_items = [[\"Home\", \"Reset original view\", \"fa fa-home icon-home\", \"home\"], [\"Back\", \"Back to previous view\", \"fa fa-arrow-left icon-arrow-left\", \"back\"], [\"Forward\", \"Forward to next view\", \"fa fa-arrow-right icon-arrow-right\", \"forward\"], [\"\", \"\", \"\", \"\"], [\"Pan\", \"Pan axes with left mouse, zoom with right\", \"fa fa-arrows icon-move\", \"pan\"], [\"Zoom\", \"Zoom to rectangle\", \"fa fa-square-o icon-check-empty\", \"zoom\"], [\"\", \"\", \"\", \"\"], [\"Download\", \"Download plot\", \"fa fa-floppy-o icon-save\", \"download\"]];\n",
       "\n",
       "mpl.extensions = [\"eps\", \"jpeg\", \"pdf\", \"png\", \"ps\", \"raw\", \"svg\", \"tif\"];\n",
       "\n",
       "mpl.default_extension = \"png\";var comm_websocket_adapter = function(comm) {\n",
       "    // Create a \"websocket\"-like object which calls the given IPython comm\n",
       "    // object with the appropriate methods. Currently this is a non binary\n",
       "    // socket, so there is still some room for performance tuning.\n",
       "    var ws = {};\n",
       "\n",
       "    ws.close = function() {\n",
       "        comm.close()\n",
       "    };\n",
       "    ws.send = function(m) {\n",
       "        //console.log('sending', m);\n",
       "        comm.send(m);\n",
       "    };\n",
       "    // Register the callback with on_msg.\n",
       "    comm.on_msg(function(msg) {\n",
       "        //console.log('receiving', msg['content']['data'], msg);\n",
       "        // Pass the mpl event to the overridden (by mpl) onmessage function.\n",
       "        ws.onmessage(msg['content']['data'])\n",
       "    });\n",
       "    return ws;\n",
       "}\n",
       "\n",
       "mpl.mpl_figure_comm = function(comm, msg) {\n",
       "    // This is the function which gets called when the mpl process\n",
       "    // starts-up an IPython Comm through the \"matplotlib\" channel.\n",
       "\n",
       "    var id = msg.content.data.id;\n",
       "    // Get hold of the div created by the display call when the Comm\n",
       "    // socket was opened in Python.\n",
       "    var element = $(\"#\" + id);\n",
       "    var ws_proxy = comm_websocket_adapter(comm)\n",
       "\n",
       "    function ondownload(figure, format) {\n",
       "        window.open(figure.imageObj.src);\n",
       "    }\n",
       "\n",
       "    var fig = new mpl.figure(id, ws_proxy,\n",
       "                           ondownload,\n",
       "                           element.get(0));\n",
       "\n",
       "    // Call onopen now - mpl needs it, as it is assuming we've passed it a real\n",
       "    // web socket which is closed, not our websocket->open comm proxy.\n",
       "    ws_proxy.onopen();\n",
       "\n",
       "    fig.parent_element = element.get(0);\n",
       "    fig.cell_info = mpl.find_output_cell(\"<div id='\" + id + \"'></div>\");\n",
       "    if (!fig.cell_info) {\n",
       "        console.error(\"Failed to find cell for figure\", id, fig);\n",
       "        return;\n",
       "    }\n",
       "\n",
       "    var output_index = fig.cell_info[2]\n",
       "    var cell = fig.cell_info[0];\n",
       "\n",
       "};\n",
       "\n",
       "mpl.figure.prototype.handle_close = function(fig, msg) {\n",
       "    var width = fig.canvas.width/mpl.ratio\n",
       "    fig.root.unbind('remove')\n",
       "\n",
       "    // Update the output cell to use the data from the current canvas.\n",
       "    fig.push_to_output();\n",
       "    var dataURL = fig.canvas.toDataURL();\n",
       "    // Re-enable the keyboard manager in IPython - without this line, in FF,\n",
       "    // the notebook keyboard shortcuts fail.\n",
       "    IPython.keyboard_manager.enable()\n",
       "    $(fig.parent_element).html('<img src=\"' + dataURL + '\" width=\"' + width + '\">');\n",
       "    fig.close_ws(fig, msg);\n",
       "}\n",
       "\n",
       "mpl.figure.prototype.close_ws = function(fig, msg){\n",
       "    fig.send_message('closing', msg);\n",
       "    // fig.ws.close()\n",
       "}\n",
       "\n",
       "mpl.figure.prototype.push_to_output = function(remove_interactive) {\n",
       "    // Turn the data on the canvas into data in the output cell.\n",
       "    var width = this.canvas.width/mpl.ratio\n",
       "    var dataURL = this.canvas.toDataURL();\n",
       "    this.cell_info[1]['text/html'] = '<img src=\"' + dataURL + '\" width=\"' + width + '\">';\n",
       "}\n",
       "\n",
       "mpl.figure.prototype.updated_canvas_event = function() {\n",
       "    // Tell IPython that the notebook contents must change.\n",
       "    IPython.notebook.set_dirty(true);\n",
       "    this.send_message(\"ack\", {});\n",
       "    var fig = this;\n",
       "    // Wait a second, then push the new image to the DOM so\n",
       "    // that it is saved nicely (might be nice to debounce this).\n",
       "    setTimeout(function () { fig.push_to_output() }, 1000);\n",
       "}\n",
       "\n",
       "mpl.figure.prototype._init_toolbar = function() {\n",
       "    var fig = this;\n",
       "\n",
       "    var nav_element = $('<div/>');\n",
       "    nav_element.attr('style', 'width: 100%');\n",
       "    this.root.append(nav_element);\n",
       "\n",
       "    // Define a callback function for later on.\n",
       "    function toolbar_event(event) {\n",
       "        return fig.toolbar_button_onclick(event['data']);\n",
       "    }\n",
       "    function toolbar_mouse_event(event) {\n",
       "        return fig.toolbar_button_onmouseover(event['data']);\n",
       "    }\n",
       "\n",
       "    for(var toolbar_ind in mpl.toolbar_items){\n",
       "        var name = mpl.toolbar_items[toolbar_ind][0];\n",
       "        var tooltip = mpl.toolbar_items[toolbar_ind][1];\n",
       "        var image = mpl.toolbar_items[toolbar_ind][2];\n",
       "        var method_name = mpl.toolbar_items[toolbar_ind][3];\n",
       "\n",
       "        if (!name) { continue; };\n",
       "\n",
       "        var button = $('<button class=\"btn btn-default\" href=\"#\" title=\"' + name + '\"><i class=\"fa ' + image + ' fa-lg\"></i></button>');\n",
       "        button.click(method_name, toolbar_event);\n",
       "        button.mouseover(tooltip, toolbar_mouse_event);\n",
       "        nav_element.append(button);\n",
       "    }\n",
       "\n",
       "    // Add the status bar.\n",
       "    var status_bar = $('<span class=\"mpl-message\" style=\"text-align:right; float: right;\"/>');\n",
       "    nav_element.append(status_bar);\n",
       "    this.message = status_bar[0];\n",
       "\n",
       "    // Add the close button to the window.\n",
       "    var buttongrp = $('<div class=\"btn-group inline pull-right\"></div>');\n",
       "    var button = $('<button class=\"btn btn-mini btn-primary\" href=\"#\" title=\"Stop Interaction\"><i class=\"fa fa-power-off icon-remove icon-large\"></i></button>');\n",
       "    button.click(function (evt) { fig.handle_close(fig, {}); } );\n",
       "    button.mouseover('Stop Interaction', toolbar_mouse_event);\n",
       "    buttongrp.append(button);\n",
       "    var titlebar = this.root.find($('.ui-dialog-titlebar'));\n",
       "    titlebar.prepend(buttongrp);\n",
       "}\n",
       "\n",
       "mpl.figure.prototype._root_extra_style = function(el){\n",
       "    var fig = this\n",
       "    el.on(\"remove\", function(){\n",
       "\tfig.close_ws(fig, {});\n",
       "    });\n",
       "}\n",
       "\n",
       "mpl.figure.prototype._canvas_extra_style = function(el){\n",
       "    // this is important to make the div 'focusable\n",
       "    el.attr('tabindex', 0)\n",
       "    // reach out to IPython and tell the keyboard manager to turn it's self\n",
       "    // off when our div gets focus\n",
       "\n",
       "    // location in version 3\n",
       "    if (IPython.notebook.keyboard_manager) {\n",
       "        IPython.notebook.keyboard_manager.register_events(el);\n",
       "    }\n",
       "    else {\n",
       "        // location in version 2\n",
       "        IPython.keyboard_manager.register_events(el);\n",
       "    }\n",
       "\n",
       "}\n",
       "\n",
       "mpl.figure.prototype._key_event_extra = function(event, name) {\n",
       "    var manager = IPython.notebook.keyboard_manager;\n",
       "    if (!manager)\n",
       "        manager = IPython.keyboard_manager;\n",
       "\n",
       "    // Check for shift+enter\n",
       "    if (event.shiftKey && event.which == 13) {\n",
       "        this.canvas_div.blur();\n",
       "        // select the cell after this one\n",
       "        var index = IPython.notebook.find_cell_index(this.cell_info[0]);\n",
       "        IPython.notebook.select(index + 1);\n",
       "    }\n",
       "}\n",
       "\n",
       "mpl.figure.prototype.handle_save = function(fig, msg) {\n",
       "    fig.ondownload(fig, null);\n",
       "}\n",
       "\n",
       "\n",
       "mpl.find_output_cell = function(html_output) {\n",
       "    // Return the cell and output element which can be found *uniquely* in the notebook.\n",
       "    // Note - this is a bit hacky, but it is done because the \"notebook_saving.Notebook\"\n",
       "    // IPython event is triggered only after the cells have been serialised, which for\n",
       "    // our purposes (turning an active figure into a static one), is too late.\n",
       "    var cells = IPython.notebook.get_cells();\n",
       "    var ncells = cells.length;\n",
       "    for (var i=0; i<ncells; i++) {\n",
       "        var cell = cells[i];\n",
       "        if (cell.cell_type === 'code'){\n",
       "            for (var j=0; j<cell.output_area.outputs.length; j++) {\n",
       "                var data = cell.output_area.outputs[j];\n",
       "                if (data.data) {\n",
       "                    // IPython >= 3 moved mimebundle to data attribute of output\n",
       "                    data = data.data;\n",
       "                }\n",
       "                if (data['text/html'] == html_output) {\n",
       "                    return [cell, data, j];\n",
       "                }\n",
       "            }\n",
       "        }\n",
       "    }\n",
       "}\n",
       "\n",
       "// Register the function which deals with the matplotlib target/channel.\n",
       "// The kernel may be null if the page has been refreshed.\n",
       "if (IPython.notebook.kernel != null) {\n",
       "    IPython.notebook.kernel.comm_manager.register_target('matplotlib', mpl.mpl_figure_comm);\n",
       "}\n"
      ],
      "text/plain": [
       "<IPython.core.display.Javascript object>"
      ]
     },
     "metadata": {},
     "output_type": "display_data"
    },
    {
     "data": {
      "text/html": [
       "<img src=\"data:image/png;base64,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\" width=\"640\">"
      ],
      "text/plain": [
       "<IPython.core.display.HTML object>"
      ]
     },
     "metadata": {},
     "output_type": "display_data"
    },
    {
     "data": {
      "text/plain": [
       "<mpl_toolkits.mplot3d.art3d.Path3DCollection at 0x1a21bf4b50>"
      ]
     },
     "execution_count": 82,
     "metadata": {},
     "output_type": "execute_result"
    }
   ],
   "source": [
    "from mpl_toolkits.mplot3d import Axes3D\n",
    "%matplotlib notebook\n",
    "fig=plt.figure()\n",
    "ax=fig.add_subplot(111,projection='3d')\n",
    "\n",
    "ax.scatter(x[:,0],y)\n",
    "ax.scatter(x[:,0],predictions)"
   ]
  },
  {
   "cell_type": "code",
   "execution_count": null,
   "metadata": {},
   "outputs": [],
   "source": []
  }
 ],
 "metadata": {
  "kernelspec": {
   "display_name": "Python 3",
   "language": "python",
   "name": "python3"
  },
  "language_info": {
   "codemirror_mode": {
    "name": "ipython",
    "version": 3
   },
   "file_extension": ".py",
   "mimetype": "text/x-python",
   "name": "python",
   "nbconvert_exporter": "python",
   "pygments_lexer": "ipython3",
   "version": "3.7.6"
  }
 },
 "nbformat": 4,
 "nbformat_minor": 4
}
