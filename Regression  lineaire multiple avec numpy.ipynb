{
 "cells": [
  {
   "cell_type": "markdown",
   "metadata": {},
   "source": [
    "Regression lineaire multiple avec Numpy\n",
    "=="
   ]
  },
  {
   "cell_type": "code",
   "execution_count": 1,
   "metadata": {},
   "outputs": [],
   "source": [
    "import numpy as np\n",
    "import matplotlib.pyplot as plt\n",
    "from sklearn.datasets import make_regression"
   ]
  },
  {
   "cell_type": "markdown",
   "metadata": {},
   "source": [
    "1.Dataset\n",
    "=="
   ]
  },
  {
   "cell_type": "code",
   "execution_count": 6,
   "metadata": {},
   "outputs": [
    {
     "data": {
      "text/plain": [
       "<matplotlib.collections.PathCollection at 0x1a207217d0>"
      ]
     },
     "execution_count": 6,
     "metadata": {},
     "output_type": "execute_result"
    },
    {
     "data": {
      "image/png": "[encoded data removed]",
      "text/plain": [
       "<Figure size 432x288 with 1 Axes>"
      ]
     },
     "metadata": {
      "needs_background": "light"
     },
     "output_type": "display_data"
    }
   ],
   "source": [
    "x,y=make_regression(n_samples=100,n_features=2, noise=10)\n",
    "plt.scatter(x[:,0] ,y) #  afficher les resultat sous forme graphique x en abscisse et y en ordonnées"
   ]
  },
  {
   "cell_type": "code",
   "execution_count": 7,
   "metadata": {},
   "outputs": [
    {
     "name": "stdout",
     "output_type": "stream",
     "text": [
      "(100, 2)\n",
      "(100,)\n"
     ]
    }
   ],
   "source": [
    "# verification des dimensions\n",
    "print(x.shape)\n",
    "print(y.shape)"
   ]
  },
  {
   "cell_type": "code",
   "execution_count": 8,
   "metadata": {},
   "outputs": [
    {
     "name": "stdout",
     "output_type": "stream",
     "text": [
      "(100, 1)\n"
     ]
    }
   ],
   "source": [
    "#  redimensionner les dimensions\n",
    "y=y.reshape(y.shape[0],1)\n",
    "print(y.shape)"
   ]
  },
  {
   "cell_type": "code",
   "execution_count": 9,
   "metadata": {},
   "outputs": [
    {
     "name": "stdout",
     "output_type": "stream",
     "text": [
      "(100, 3)\n",
      "[[-1.53909172 -0.35501302  1.        ]\n",
      " [ 1.15040085  0.09779058  1.        ]\n",
      " [-1.54191627 -0.08689991  1.        ]\n",
      " [ 0.79438306  0.59654871  1.        ]\n",
      " [-0.8705336  -0.09860601  1.        ]\n",
      " [-0.14263966 -0.20609611  1.        ]\n",
      " [ 0.04650112  1.01135296  1.        ]\n",
      " [ 0.25763427 -1.46302594  1.        ]\n",
      " [ 0.26374526  1.80874289  1.        ]\n",
      " [ 0.01037355 -0.19566809  1.        ]]\n"
     ]
    }
   ],
   "source": [
    "#  construction de la matrice X, incluant le biais\n",
    "X=np.hstack((x,np.ones((x.shape[0],1))))\n",
    "print(X.shape)\n",
    "print(X[:10])"
   ]
  },
  {
   "cell_type": "code",
   "execution_count": 10,
   "metadata": {},
   "outputs": [
    {
     "data": {
      "text/plain": [
       "array([[0.80462391],\n",
       "       [0.01941241],\n",
       "       [1.78919284]])"
      ]
     },
     "execution_count": 10,
     "metadata": {},
     "output_type": "execute_result"
    }
   ],
   "source": [
    "#  Initialisation du theta aléatoire\n",
    "theta=np.random.randn(3,1)\n",
    "theta"
   ]
  },
  {
   "cell_type": "markdown",
   "metadata": {},
   "source": [
    "2.Modèle linéaire\n",
    "=="
   ]
  },
  {
   "cell_type": "markdown",
   "metadata": {},
   "source": [
    "On implémente un modèle F=X . theta puis on teste le modèle"
   ]
  },
  {
   "cell_type": "code",
   "execution_count": 11,
   "metadata": {},
   "outputs": [],
   "source": [
    "def model(X,theta):\n",
    "    return X.dot(theta)"
   ]
  },
  {
   "cell_type": "markdown",
   "metadata": {},
   "source": [
    "3.Fonction coût: Erreur quadratique moyenne\n",
    "    =="
   ]
  },
  {
   "cell_type": "code",
   "execution_count": 12,
   "metadata": {},
   "outputs": [],
   "source": [
    "def cost_function(X,y,theta):\n",
    "    m=len(y)\n",
    "    return (1/(2*m))*np.sum((model(X,theta)-y)**2)"
   ]
  },
  {
   "cell_type": "code",
   "execution_count": 13,
   "metadata": {},
   "outputs": [
    {
     "data": {
      "text/plain": [
       "5474.793068927787"
      ]
     },
     "execution_count": 13,
     "metadata": {},
     "output_type": "execute_result"
    }
   ],
   "source": [
    "cost_function(X,y,theta)"
   ]
  },
  {
   "cell_type": "markdown",
   "metadata": {},
   "source": [
    "4.Gradient et Descente de gradient\n",
    "=="
   ]
  },
  {
   "cell_type": "markdown",
   "metadata": {},
   "source": [
    "On implémente la formule du gradient pour le MSE"
   ]
  },
  {
   "cell_type": "code",
   "execution_count": 14,
   "metadata": {},
   "outputs": [],
   "source": [
    "def grad(X,y,theta):\n",
    "    m=len(y)\n",
    "    return (1/m) * X.T.dot(model(X,theta)-y)"
   ]
  },
  {
   "cell_type": "markdown",
   "metadata": {},
   "source": [
    "On utilise cette fonction dans la descente du Gradient"
   ]
  },
  {
   "cell_type": "code",
   "execution_count": 15,
   "metadata": {},
   "outputs": [],
   "source": [
    "def gradient_descent(X,y,theta,learning_rate,n_iterations):\n",
    "    cost_history=np.zeros(n_iterations)\n",
    "    for i in range(0,n_iterations):\n",
    "        theta=theta - (learning_rate * grad(X,y,theta)) #  mise a jour des paramètres theta (formule du gradient descends)\n",
    "        cost_history[i] = cost_function(X,y,theta) #  on enregistre la valeur du cout autour de i dans cost_history\n",
    "    return theta, cost_history\n",
    "          "
   ]
  },
  {
   "cell_type": "markdown",
   "metadata": {},
   "source": [
    "5.Phase d'entrainement\n",
    "=="
   ]
  },
  {
   "cell_type": "markdown",
   "metadata": {},
   "source": [
    "On définit un nombre d'itération ainsi qu'un pas d'apprentissage alpha, et c'est parti"
   ]
  },
  {
   "cell_type": "markdown",
   "metadata": {},
   "source": [
    "Une fois le modèle entrainé, on observe les résultats par rapport à notre Dataset"
   ]
  },
  {
   "cell_type": "code",
   "execution_count": 16,
   "metadata": {},
   "outputs": [],
   "source": [
    "n_iterations=1000\n",
    "learning_rate=0.01"
   ]
  },
  {
   "cell_type": "code",
   "execution_count": 17,
   "metadata": {},
   "outputs": [],
   "source": [
    "theta_final,cost_history = gradient_descent(X,y,theta,learning_rate,n_iterations)"
   ]
  },
  {
   "cell_type": "code",
   "execution_count": 18,
   "metadata": {},
   "outputs": [
    {
     "data": {
      "text/plain": [
       "array([[88.31831731],\n",
       "       [70.84978812],\n",
       "       [ 0.40418838]])"
      ]
     },
     "execution_count": 18,
     "metadata": {},
     "output_type": "execute_result"
    }
   ],
   "source": [
    " #  les paramètres du modèle une fois que celui ci a été entrainé\n",
    "theta_final"
   ]
  },
  {
   "cell_type": "code",
   "execution_count": 19,
   "metadata": {},
   "outputs": [
    {
     "data": {
      "text/plain": [
       "<matplotlib.collections.PathCollection at 0x1a20816910>"
      ]
     },
     "execution_count": 19,
     "metadata": {},
     "output_type": "execute_result"
    },
    {
     "data": {
      "image/png": "[encoded data removed]",
      "text/plain": [
       "<Figure size 432x288 with 1 Axes>"
      ]
     },
     "metadata": {
      "needs_background": "light"
     },
     "output_type": "display_data"
    }
   ],
   "source": [
    " #  creation d'un vecteur prediction qui contient les prédictions de notre modèle final\n",
    "predictions=model(X,theta_final)\n",
    "    \n",
    " #  Afficher les résultats de prédictions (en rouge) par rapport à notre Dataset (bleu)\n",
    "plt.scatter(x[:,0],y)\n",
    "plt.scatter(x[:,0],predictions,c='r')\n",
    "    "
   ]
  },
  {
   "cell_type": "markdown",
   "metadata": {},
   "source": [
    "6.Courbe d'apprentissage\n",
    "=="
   ]
  },
  {
   "cell_type": "markdown",
   "metadata": {},
   "source": [
    "On vérifie si vraiment l'algorithme à bien convergé"
   ]
  },
  {
   "cell_type": "code",
   "execution_count": 20,
   "metadata": {},
   "outputs": [
    {
     "data": {
      "text/plain": [
       "[<matplotlib.lines.Line2D at 0x1a20876490>]"
      ]
     },
     "execution_count": 20,
     "metadata": {},
     "output_type": "execute_result"
    },
    {
     "data": {
      "image/png": "[encoded data removed]",
      "text/plain": [
       "<Figure size 432x288 with 1 Axes>"
      ]
     },
     "metadata": {
      "needs_background": "light"
     },
     "output_type": "display_data"
    }
   ],
   "source": [
    "plt.plot(range(n_iterations),cost_history,c='green') "
   ]
  },
  {
   "cell_type": "markdown",
   "metadata": {},
   "source": [
    "On verifie la performance du modèle avec le coefficient du détermination"
   ]
  },
  {
   "cell_type": "code",
   "execution_count": 21,
   "metadata": {},
   "outputs": [
    {
     "data": {
      "text/plain": [
       "0.9928247727281296"
      ]
     },
     "execution_count": 21,
     "metadata": {},
     "output_type": "execute_result"
    }
   ],
   "source": [
    "def coef_determination(y,pred):\n",
    "    u=((y - pred)**2).sum()\n",
    "    v=((y - y.mean())**2).sum()\n",
    "    return 1 - (u/v)\n",
    "coef_determination(y,predictions)"
   ]
  },
  {
   "cell_type": "markdown",
   "metadata": {},
   "source": [
    "#  Représentation du modèle en 3D "
   ]
  },
  {
   "cell_type": "code",
   "execution_count": 25,
   "metadata": {},
   "outputs": [
    {
     "data": {
      "application/javascript": [
       "/* Put everything inside the global mpl namespace */\n",
       "window.mpl = {};\n",
       "\n",
       "\n",
       "mpl.get_websocket_type = function() {\n",
       "    if (typeof(WebSocket) !== 'undefined') {\n",
       "        return WebSocket;\n",
       "    } else if (typeof(MozWebSocket) !== 'undefined') {\n",
       "        return MozWebSocket;\n",
       "    } else {\n",
       "        alert('Your browser does not have WebSocket support. ' +\n",
       "              'Please try Chrome, Safari or Firefox ≥ 6. ' +\n",
       "              'Firefox 4 and 5 are also supported but you ' +\n",
       "              'have to enable WebSockets in about:config.');\n",
       "    };\n",
       "}\n",
       "\n",
       "mpl.figure = function(figure_id, websocket, ondownload, parent_element) {\n",
       "    this.id = figure_id;\n",
       "\n",
       "    this.ws = websocket;\n",
       "\n",
       "    this.supports_binary = (this.ws.binaryType != undefined);\n",
       "\n",
       "    if (!this.supports_binary) {\n",
       "        var warnings = document.getElementById(\"mpl-warnings\");\n",
       "        if (warnings) {\n",
       "            warnings.style.display = 'block';\n",
       "            warnings.textContent = (\n",
       "                \"This browser does not support binary websocket messages. \" +\n",
       "                    \"Performance may be slow.\");\n",
       "        }\n",
       "    }\n",
       "\n",
       "    this.imageObj = new Image();\n",
       "\n",
       "    this.context = undefined;\n",
       "    this.message = undefined;\n",
       "    this.canvas = undefined;\n",
       "    this.rubberband_canvas = undefined;\n",
       "    this.rubberband_context = undefined;\n",
       "    this.format_dropdown = undefined;\n",
       "\n",
       "    this.image_mode = 'full';\n",
       "\n",
       "    this.root = $('<div/>');\n",
       "    this._root_extra_style(this.root)\n",
       "    this.root.attr('style', 'display: inline-block');\n",
       "\n",
       "    $(parent_element).append(this.root);\n",
       "\n",
       "    this._init_header(this);\n",
       "    this._init_canvas(this);\n",
       "    this._init_toolbar(this);\n",
       "\n",
       "    var fig = this;\n",
       "\n",
       "    this.waiting = false;\n",
       "\n",
       "    this.ws.onopen =  function () {\n",
       "            fig.send_message(\"supports_binary\", {value: fig.supports_binary});\n",
       "            fig.send_message(\"send_image_mode\", {});\n",
       "            if (mpl.ratio != 1) {\n",
       "                fig.send_message(\"set_dpi_ratio\", {'dpi_ratio': mpl.ratio});\n",
       "            }\n",
       "            fig.send_message(\"refresh\", {});\n",
       "        }\n",
       "\n",
       "    this.imageObj.onload = function() {\n",
       "            if (fig.image_mode == 'full') {\n",
       "                // Full images could contain transparency (where diff images\n",
       "                // almost always do), so we need to clear the canvas so that\n",
       "                // there is no ghosting.\n",
       "                fig.context.clearRect(0, 0, fig.canvas.width, fig.canvas.height);\n",
       "            }\n",
       "            fig.context.drawImage(fig.imageObj, 0, 0);\n",
       "        };\n",
       "\n",
       "    this.imageObj.onunload = function() {\n",
       "        fig.ws.close();\n",
       "    }\n",
       "\n",
       "    this.ws.onmessage = this._make_on_message_function(this);\n",
       "\n",
       "    this.ondownload = ondownload;\n",
       "}\n",
       "\n",
       "mpl.figure.prototype._init_header = function() {\n",
       "    var titlebar = $(\n",
       "        '<div class=\"ui-dialog-titlebar ui-widget-header ui-corner-all ' +\n",
       "        'ui-helper-clearfix\"/>');\n",
       "    var titletext = $(\n",
       "        '<div class=\"ui-dialog-title\" style=\"width: 100%; ' +\n",
       "        'text-align: center; padding: 3px;\"/>');\n",
       "    titlebar.append(titletext)\n",
       "    this.root.append(titlebar);\n",
       "    this.header = titletext[0];\n",
       "}\n",
       "\n",
       "\n",
       "\n",
       "mpl.figure.prototype._canvas_extra_style = function(canvas_div) {\n",
       "\n",
       "}\n",
       "\n",
       "\n",
       "mpl.figure.prototype._root_extra_style = function(canvas_div) {\n",
       "\n",
       "}\n",
       "\n",
       "mpl.figure.prototype._init_canvas = function() {\n",
       "    var fig = this;\n",
       "\n",
       "    var canvas_div = $('<div/>');\n",
       "\n",
       "    canvas_div.attr('style', 'position: relative; clear: both; outline: 0');\n",
       "\n",
       "    function canvas_keyboard_event(event) {\n",
       "        return fig.key_event(event, event['data']);\n",
       "    }\n",
       "\n",
       "    canvas_div.keydown('key_press', canvas_keyboard_event);\n",
       "    canvas_div.keyup('key_release', canvas_keyboard_event);\n",
       "    this.canvas_div = canvas_div\n",
       "    this._canvas_extra_style(canvas_div)\n",
       "    this.root.append(canvas_div);\n",
       "\n",
       "    var canvas = $('<canvas/>');\n",
       "    canvas.addClass('mpl-canvas');\n",
       "    canvas.attr('style', \"left: 0; top: 0; z-index: 0; outline: 0\")\n",
       "\n",
       "    this.canvas = canvas[0];\n",
       "    this.context = canvas[0].getContext(\"2d\");\n",
       "\n",
       "    var backingStore = this.context.backingStorePixelRatio ||\n",
       "\tthis.context.webkitBackingStorePixelRatio ||\n",
       "\tthis.context.mozBackingStorePixelRatio ||\n",
       "\tthis.context.msBackingStorePixelRatio ||\n",
       "\tthis.context.oBackingStorePixelRatio ||\n",
       "\tthis.context.backingStorePixelRatio || 1;\n",
       "\n",
       "    mpl.ratio = (window.devicePixelRatio || 1) / backingStore;\n",
       "\n",
       "    var rubberband = $('<canvas/>');\n",
       "    rubberband.attr('style', \"position: absolute; left: 0; top: 0; z-index: 1;\")\n",
       "\n",
       "    var pass_mouse_events = true;\n",
       "\n",
       "    canvas_div.resizable({\n",
       "        start: function(event, ui) {\n",
       "            pass_mouse_events = false;\n",
       "        },\n",
       "        resize: function(event, ui) {\n",
       "            fig.request_resize(ui.size.width, ui.size.height);\n",
       "        },\n",
       "        stop: function(event, ui) {\n",
       "            pass_mouse_events = true;\n",
       "            fig.request_resize(ui.size.width, ui.size.height);\n",
       "        },\n",
       "    });\n",
       "\n",
       "    function mouse_event_fn(event) {\n",
       "        if (pass_mouse_events)\n",
       "            return fig.mouse_event(event, event['data']);\n",
       "    }\n",
       "\n",
       "    rubberband.mousedown('button_press', mouse_event_fn);\n",
       "    rubberband.mouseup('button_release', mouse_event_fn);\n",
       "    // Throttle sequential mouse events to 1 every 20ms.\n",
       "    rubberband.mousemove('motion_notify', mouse_event_fn);\n",
       "\n",
       "    rubberband.mouseenter('figure_enter', mouse_event_fn);\n",
       "    rubberband.mouseleave('figure_leave', mouse_event_fn);\n",
       "\n",
       "    canvas_div.on(\"wheel\", function (event) {\n",
       "        event = event.originalEvent;\n",
       "        event['data'] = 'scroll'\n",
       "        if (event.deltaY < 0) {\n",
       "            event.step = 1;\n",
       "        } else {\n",
       "            event.step = -1;\n",
       "        }\n",
       "        mouse_event_fn(event);\n",
       "    });\n",
       "\n",
       "    canvas_div.append(canvas);\n",
       "    canvas_div.append(rubberband);\n",
       "\n",
       "    this.rubberband = rubberband;\n",
       "    this.rubberband_canvas = rubberband[0];\n",
       "    this.rubberband_context = rubberband[0].getContext(\"2d\");\n",
       "    this.rubberband_context.strokeStyle = \"#000000\";\n",
       "\n",
       "    this._resize_canvas = function(width, height) {\n",
       "        // Keep the size of the canvas, canvas container, and rubber band\n",
       "        // canvas in synch.\n",
       "        canvas_div.css('width', width)\n",
       "        canvas_div.css('height', height)\n",
       "\n",
       "        canvas.attr('width', width * mpl.ratio);\n",
       "        canvas.attr('height', height * mpl.ratio);\n",
       "        canvas.attr('style', 'width: ' + width + 'px; height: ' + height + 'px;');\n",
       "\n",
       "        rubberband.attr('width', width);\n",
       "        rubberband.attr('height', height);\n",
       "    }\n",
       "\n",
       "    // Set the figure to an initial 600x600px, this will subsequently be updated\n",
       "    // upon first draw.\n",
       "    this._resize_canvas(600, 600);\n",
       "\n",
       "    // Disable right mouse context menu.\n",
       "    $(this.rubberband_canvas).bind(\"contextmenu\",function(e){\n",
       "        return false;\n",
       "    });\n",
       "\n",
       "    function set_focus () {\n",
       "        canvas.focus();\n",
       "        canvas_div.focus();\n",
       "    }\n",
       "\n",
       "    window.setTimeout(set_focus, 100);\n",
       "}\n",
       "\n",
       "mpl.figure.prototype._init_toolbar = function() {\n",
       "    var fig = this;\n",
       "\n",
       "    var nav_element = $('<div/>');\n",
       "    nav_element.attr('style', 'width: 100%');\n",
       "    this.root.append(nav_element);\n",
       "\n",
       "    // Define a callback function for later on.\n",
       "    function toolbar_event(event) {\n",
       "        return fig.toolbar_button_onclick(event['data']);\n",
       "    }\n",
       "    function toolbar_mouse_event(event) {\n",
       "        return fig.toolbar_button_onmouseover(event['data']);\n",
       "    }\n",
       "\n",
       "    for(var toolbar_ind in mpl.toolbar_items) {\n",
       "        var name = mpl.toolbar_items[toolbar_ind][0];\n",
       "        var tooltip = mpl.toolbar_items[toolbar_ind][1];\n",
       "        var image = mpl.toolbar_items[toolbar_ind][2];\n",
       "        var method_name = mpl.toolbar_items[toolbar_ind][3];\n",
       "\n",
       "        if (!name) {\n",
       "            // put a spacer in here.\n",
       "            continue;\n",
       "        }\n",
       "        var button = $('<button/>');\n",
       "        button.addClass('ui-button ui-widget ui-state-default ui-corner-all ' +\n",
       "                        'ui-button-icon-only');\n",
       "        button.attr('role', 'button');\n",
       "        button.attr('aria-disabled', 'false');\n",
       "        button.click(method_name, toolbar_event);\n",
       "        button.mouseover(tooltip, toolbar_mouse_event);\n",
       "\n",
       "        var icon_img = $('<span/>');\n",
       "        icon_img.addClass('ui-button-icon-primary ui-icon');\n",
       "        icon_img.addClass(image);\n",
       "        icon_img.addClass('ui-corner-all');\n",
       "\n",
       "        var tooltip_span = $('<span/>');\n",
       "        tooltip_span.addClass('ui-button-text');\n",
       "        tooltip_span.html(tooltip);\n",
       "\n",
       "        button.append(icon_img);\n",
       "        button.append(tooltip_span);\n",
       "\n",
       "        nav_element.append(button);\n",
       "    }\n",
       "\n",
       "    var fmt_picker_span = $('<span/>');\n",
       "\n",
       "    var fmt_picker = $('<select/>');\n",
       "    fmt_picker.addClass('mpl-toolbar-option ui-widget ui-widget-content');\n",
       "    fmt_picker_span.append(fmt_picker);\n",
       "    nav_element.append(fmt_picker_span);\n",
       "    this.format_dropdown = fmt_picker[0];\n",
       "\n",
       "    for (var ind in mpl.extensions) {\n",
       "        var fmt = mpl.extensions[ind];\n",
       "        var option = $(\n",
       "            '<option/>', {selected: fmt === mpl.default_extension}).html(fmt);\n",
       "        fmt_picker.append(option);\n",
       "    }\n",
       "\n",
       "    // Add hover states to the ui-buttons\n",
       "    $( \".ui-button\" ).hover(\n",
       "        function() { $(this).addClass(\"ui-state-hover\");},\n",
       "        function() { $(this).removeClass(\"ui-state-hover\");}\n",
       "    );\n",
       "\n",
       "    var status_bar = $('<span class=\"mpl-message\"/>');\n",
       "    nav_element.append(status_bar);\n",
       "    this.message = status_bar[0];\n",
       "}\n",
       "\n",
       "mpl.figure.prototype.request_resize = function(x_pixels, y_pixels) {\n",
       "    // Request matplotlib to resize the figure. Matplotlib will then trigger a resize in the client,\n",
       "    // which will in turn request a refresh of the image.\n",
       "    this.send_message('resize', {'width': x_pixels, 'height': y_pixels});\n",
       "}\n",
       "\n",
       "mpl.figure.prototype.send_message = function(type, properties) {\n",
       "    properties['type'] = type;\n",
       "    properties['figure_id'] = this.id;\n",
       "    this.ws.send(JSON.stringify(properties));\n",
       "}\n",
       "\n",
       "mpl.figure.prototype.send_draw_message = function() {\n",
       "    if (!this.waiting) {\n",
       "        this.waiting = true;\n",
       "        this.ws.send(JSON.stringify({type: \"draw\", figure_id: this.id}));\n",
       "    }\n",
       "}\n",
       "\n",
       "\n",
       "mpl.figure.prototype.handle_save = function(fig, msg) {\n",
       "    var format_dropdown = fig.format_dropdown;\n",
       "    var format = format_dropdown.options[format_dropdown.selectedIndex].value;\n",
       "    fig.ondownload(fig, format);\n",
       "}\n",
       "\n",
       "\n",
       "mpl.figure.prototype.handle_resize = function(fig, msg) {\n",
       "    var size = msg['size'];\n",
       "    if (size[0] != fig.canvas.width || size[1] != fig.canvas.height) {\n",
       "        fig._resize_canvas(size[0], size[1]);\n",
       "        fig.send_message(\"refresh\", {});\n",
       "    };\n",
       "}\n",
       "\n",
       "mpl.figure.prototype.handle_rubberband = function(fig, msg) {\n",
       "    var x0 = msg['x0'] / mpl.ratio;\n",
       "    var y0 = (fig.canvas.height - msg['y0']) / mpl.ratio;\n",
       "    var x1 = msg['x1'] / mpl.ratio;\n",
       "    var y1 = (fig.canvas.height - msg['y1']) / mpl.ratio;\n",
       "    x0 = Math.floor(x0) + 0.5;\n",
       "    y0 = Math.floor(y0) + 0.5;\n",
       "    x1 = Math.floor(x1) + 0.5;\n",
       "    y1 = Math.floor(y1) + 0.5;\n",
       "    var min_x = Math.min(x0, x1);\n",
       "    var min_y = Math.min(y0, y1);\n",
       "    var width = Math.abs(x1 - x0);\n",
       "    var height = Math.abs(y1 - y0);\n",
       "\n",
       "    fig.rubberband_context.clearRect(\n",
       "        0, 0, fig.canvas.width / mpl.ratio, fig.canvas.height / mpl.ratio);\n",
       "\n",
       "    fig.rubberband_context.strokeRect(min_x, min_y, width, height);\n",
       "}\n",
       "\n",
       "mpl.figure.prototype.handle_figure_label = function(fig, msg) {\n",
       "    // Updates the figure title.\n",
       "    fig.header.textContent = msg['label'];\n",
       "}\n",
       "\n",
       "mpl.figure.prototype.handle_cursor = function(fig, msg) {\n",
       "    var cursor = msg['cursor'];\n",
       "    switch(cursor)\n",
       "    {\n",
       "    case 0:\n",
       "        cursor = 'pointer';\n",
       "        break;\n",
       "    case 1:\n",
       "        cursor = 'default';\n",
       "        break;\n",
       "    case 2:\n",
       "        cursor = 'crosshair';\n",
       "        break;\n",
       "    case 3:\n",
       "        cursor = 'move';\n",
       "        break;\n",
       "    }\n",
       "    fig.rubberband_canvas.style.cursor = cursor;\n",
       "}\n",
       "\n",
       "mpl.figure.prototype.handle_message = function(fig, msg) {\n",
       "    fig.message.textContent = msg['message'];\n",
       "}\n",
       "\n",
       "mpl.figure.prototype.handle_draw = function(fig, msg) {\n",
       "    // Request the server to send over a new figure.\n",
       "    fig.send_draw_message();\n",
       "}\n",
       "\n",
       "mpl.figure.prototype.handle_image_mode = function(fig, msg) {\n",
       "    fig.image_mode = msg['mode'];\n",
       "}\n",
       "\n",
       "mpl.figure.prototype.updated_canvas_event = function() {\n",
       "    // Called whenever the canvas gets updated.\n",
       "    this.send_message(\"ack\", {});\n",
       "}\n",
       "\n",
       "// A function to construct a web socket function for onmessage handling.\n",
       "// Called in the figure constructor.\n",
       "mpl.figure.prototype._make_on_message_function = function(fig) {\n",
       "    return function socket_on_message(evt) {\n",
       "        if (evt.data instanceof Blob) {\n",
       "            /* FIXME: We get \"Resource interpreted as Image but\n",
       "             * transferred with MIME type text/plain:\" errors on\n",
       "             * Chrome.  But how to set the MIME type?  It doesn't seem\n",
       "             * to be part of the websocket stream */\n",
       "            evt.data.type = \"image/png\";\n",
       "\n",
       "            /* Free the memory for the previous frames */\n",
       "            if (fig.imageObj.src) {\n",
       "                (window.URL || window.webkitURL).revokeObjectURL(\n",
       "                    fig.imageObj.src);\n",
       "            }\n",
       "\n",
       "            fig.imageObj.src = (window.URL || window.webkitURL).createObjectURL(\n",
       "                evt.data);\n",
       "            fig.updated_canvas_event();\n",
       "            fig.waiting = false;\n",
       "            return;\n",
       "        }\n",
       "        else if (typeof evt.data === 'string' && evt.data.slice(0, 21) == \"data:image/png;base64\") {\n",
       "            fig.imageObj.src = evt.data;\n",
       "            fig.updated_canvas_event();\n",
       "            fig.waiting = false;\n",
       "            return;\n",
       "        }\n",
       "\n",
       "        var msg = JSON.parse(evt.data);\n",
       "        var msg_type = msg['type'];\n",
       "\n",
       "        // Call the  \"handle_{type}\" callback, which takes\n",
       "        // the figure and JSON message as its only arguments.\n",
       "        try {\n",
       "            var callback = fig[\"handle_\" + msg_type];\n",
       "        } catch (e) {\n",
       "            console.log(\"No handler for the '\" + msg_type + \"' message type: \", msg);\n",
       "            return;\n",
       "        }\n",
       "\n",
       "        if (callback) {\n",
       "            try {\n",
       "                // console.log(\"Handling '\" + msg_type + \"' message: \", msg);\n",
       "                callback(fig, msg);\n",
       "            } catch (e) {\n",
       "                console.log(\"Exception inside the 'handler_\" + msg_type + \"' callback:\", e, e.stack, msg);\n",
       "            }\n",
       "        }\n",
       "    };\n",
       "}\n",
       "\n",
       "// from http://stackoverflow.com/questions/1114465/getting-mouse-location-in-canvas\n",
       "mpl.findpos = function(e) {\n",
       "    //this section is from http://www.quirksmode.org/js/events_properties.html\n",
       "    var targ;\n",
       "    if (!e)\n",
       "        e = window.event;\n",
       "    if (e.target)\n",
       "        targ = e.target;\n",
       "    else if (e.srcElement)\n",
       "        targ = e.srcElement;\n",
       "    if (targ.nodeType == 3) // defeat Safari bug\n",
       "        targ = targ.parentNode;\n",
       "\n",
       "    // jQuery normalizes the pageX and pageY\n",
       "    // pageX,Y are the mouse positions relative to the document\n",
       "    // offset() returns the position of the element relative to the document\n",
       "    var x = e.pageX - $(targ).offset().left;\n",
       "    var y = e.pageY - $(targ).offset().top;\n",
       "\n",
       "    return {\"x\": x, \"y\": y};\n",
       "};\n",
       "\n",
       "/*\n",
       " * return a copy of an object with only non-object keys\n",
       " * we need this to avoid circular references\n",
       " * http://stackoverflow.com/a/24161582/3208463\n",
       " */\n",
       "function simpleKeys (original) {\n",
       "  return Object.keys(original).reduce(function (obj, key) {\n",
       "    if (typeof original[key] !== 'object')\n",
       "        obj[key] = original[key]\n",
       "    return obj;\n",
       "  }, {});\n",
       "}\n",
       "\n",
       "mpl.figure.prototype.mouse_event = function(event, name) {\n",
       "    var canvas_pos = mpl.findpos(event)\n",
       "\n",
       "    if (name === 'button_press')\n",
       "    {\n",
       "        this.canvas.focus();\n",
       "        this.canvas_div.focus();\n",
       "    }\n",
       "\n",
       "    var x = canvas_pos.x * mpl.ratio;\n",
       "    var y = canvas_pos.y * mpl.ratio;\n",
       "\n",
       "    this.send_message(name, {x: x, y: y, button: event.button,\n",
       "                             step: event.step,\n",
       "                             guiEvent: simpleKeys(event)});\n",
       "\n",
       "    /* This prevents the web browser from automatically changing to\n",
       "     * the text insertion cursor when the button is pressed.  We want\n",
       "     * to control all of the cursor setting manually through the\n",
       "     * 'cursor' event from matplotlib */\n",
       "    event.preventDefault();\n",
       "    return false;\n",
       "}\n",
       "\n",
       "mpl.figure.prototype._key_event_extra = function(event, name) {\n",
       "    // Handle any extra behaviour associated with a key event\n",
       "}\n",
       "\n",
       "mpl.figure.prototype.key_event = function(event, name) {\n",
       "\n",
       "    // Prevent repeat events\n",
       "    if (name == 'key_press')\n",
       "    {\n",
       "        if (event.which === this._key)\n",
       "            return;\n",
       "        else\n",
       "            this._key = event.which;\n",
       "    }\n",
       "    if (name == 'key_release')\n",
       "        this._key = null;\n",
       "\n",
       "    var value = '';\n",
       "    if (event.ctrlKey && event.which != 17)\n",
       "        value += \"ctrl+\";\n",
       "    if (event.altKey && event.which != 18)\n",
       "        value += \"alt+\";\n",
       "    if (event.shiftKey && event.which != 16)\n",
       "        value += \"shift+\";\n",
       "\n",
       "    value += 'k';\n",
       "    value += event.which.toString();\n",
       "\n",
       "    this._key_event_extra(event, name);\n",
       "\n",
       "    this.send_message(name, {key: value,\n",
       "                             guiEvent: simpleKeys(event)});\n",
       "    return false;\n",
       "}\n",
       "\n",
       "mpl.figure.prototype.toolbar_button_onclick = function(name) {\n",
       "    if (name == 'download') {\n",
       "        this.handle_save(this, null);\n",
       "    } else {\n",
       "        this.send_message(\"toolbar_button\", {name: name});\n",
       "    }\n",
       "};\n",
       "\n",
       "mpl.figure.prototype.toolbar_button_onmouseover = function(tooltip) {\n",
       "    this.message.textContent = tooltip;\n",
       "};\n",
       "mpl.toolbar_items = [[\"Home\", \"Reset original view\", \"fa fa-home icon-home\", \"home\"], [\"Back\", \"Back to previous view\", \"fa fa-arrow-left icon-arrow-left\", \"back\"], [\"Forward\", \"Forward to next view\", \"fa fa-arrow-right icon-arrow-right\", \"forward\"], [\"\", \"\", \"\", \"\"], [\"Pan\", \"Pan axes with left mouse, zoom with right\", \"fa fa-arrows icon-move\", \"pan\"], [\"Zoom\", \"Zoom to rectangle\", \"fa fa-square-o icon-check-empty\", \"zoom\"], [\"\", \"\", \"\", \"\"], [\"Download\", \"Download plot\", \"fa fa-floppy-o icon-save\", \"download\"]];\n",
       "\n",
       "mpl.extensions = [\"eps\", \"jpeg\", \"pdf\", \"png\", \"ps\", \"raw\", \"svg\", \"tif\"];\n",
       "\n",
       "mpl.default_extension = \"png\";var comm_websocket_adapter = function(comm) {\n",
       "    // Create a \"websocket\"-like object which calls the given IPython comm\n",
       "    // object with the appropriate methods. Currently this is a non binary\n",
       "    // socket, so there is still some room for performance tuning.\n",
       "    var ws = {};\n",
       "\n",
       "    ws.close = function() {\n",
       "        comm.close()\n",
       "    };\n",
       "    ws.send = function(m) {\n",
       "        //console.log('sending', m);\n",
       "        comm.send(m);\n",
       "    };\n",
       "    // Register the callback with on_msg.\n",
       "    comm.on_msg(function(msg) {\n",
       "        //console.log('receiving', msg['content']['data'], msg);\n",
       "        // Pass the mpl event to the overridden (by mpl) onmessage function.\n",
       "        ws.onmessage(msg['content']['data'])\n",
       "    });\n",
       "    return ws;\n",
       "}\n",
       "\n",
       "mpl.mpl_figure_comm = function(comm, msg) {\n",
       "    // This is the function which gets called when the mpl process\n",
       "    // starts-up an IPython Comm through the \"matplotlib\" channel.\n",
       "\n",
       "    var id = msg.content.data.id;\n",
       "    // Get hold of the div created by the display call when the Comm\n",
       "    // socket was opened in Python.\n",
       "    var element = $(\"#\" + id);\n",
       "    var ws_proxy = comm_websocket_adapter(comm)\n",
       "\n",
       "    function ondownload(figure, format) {\n",
       "        window.open(figure.imageObj.src);\n",
       "    }\n",
       "\n",
       "    var fig = new mpl.figure(id, ws_proxy,\n",
       "                           ondownload,\n",
       "                           element.get(0));\n",
       "\n",
       "    // Call onopen now - mpl needs it, as it is assuming we've passed it a real\n",
       "    // web socket which is closed, not our websocket->open comm proxy.\n",
       "    ws_proxy.onopen();\n",
       "\n",
       "    fig.parent_element = element.get(0);\n",
       "    fig.cell_info = mpl.find_output_cell(\"<div id='\" + id + \"'></div>\");\n",
       "    if (!fig.cell_info) {\n",
       "        console.error(\"Failed to find cell for figure\", id, fig);\n",
       "        return;\n",
       "    }\n",
       "\n",
       "    var output_index = fig.cell_info[2]\n",
       "    var cell = fig.cell_info[0];\n",
       "\n",
       "};\n",
       "\n",
       "mpl.figure.prototype.handle_close = function(fig, msg) {\n",
       "    var width = fig.canvas.width/mpl.ratio\n",
       "    fig.root.unbind('remove')\n",
       "\n",
       "    // Update the output cell to use the data from the current canvas.\n",
       "    fig.push_to_output();\n",
       "    var dataURL = fig.canvas.toDataURL();\n",
       "    // Re-enable the keyboard manager in IPython - without this line, in FF,\n",
       "    // the notebook keyboard shortcuts fail.\n",
       "    IPython.keyboard_manager.enable()\n",
       "    $(fig.parent_element).html('<img src=\"' + dataURL + '\" width=\"' + width + '\">');\n",
       "    fig.close_ws(fig, msg);\n",
       "}\n",
       "\n",
       "mpl.figure.prototype.close_ws = function(fig, msg){\n",
       "    fig.send_message('closing', msg);\n",
       "    // fig.ws.close()\n",
       "}\n",
       "\n",
       "mpl.figure.prototype.push_to_output = function(remove_interactive) {\n",
       "    // Turn the data on the canvas into data in the output cell.\n",
       "    var width = this.canvas.width/mpl.ratio\n",
       "    var dataURL = this.canvas.toDataURL();\n",
       "    this.cell_info[1]['text/html'] = '<img src=\"' + dataURL + '\" width=\"' + width + '\">';\n",
       "}\n",
       "\n",
       "mpl.figure.prototype.updated_canvas_event = function() {\n",
       "    // Tell IPython that the notebook contents must change.\n",
       "    IPython.notebook.set_dirty(true);\n",
       "    this.send_message(\"ack\", {});\n",
       "    var fig = this;\n",
       "    // Wait a second, then push the new image to the DOM so\n",
       "    // that it is saved nicely (might be nice to debounce this).\n",
       "    setTimeout(function () { fig.push_to_output() }, 1000);\n",
       "}\n",
       "\n",
       "mpl.figure.prototype._init_toolbar = function() {\n",
       "    var fig = this;\n",
       "\n",
       "    var nav_element = $('<div/>');\n",
       "    nav_element.attr('style', 'width: 100%');\n",
       "    this.root.append(nav_element);\n",
       "\n",
       "    // Define a callback function for later on.\n",
       "    function toolbar_event(event) {\n",
       "        return fig.toolbar_button_onclick(event['data']);\n",
       "    }\n",
       "    function toolbar_mouse_event(event) {\n",
       "        return fig.toolbar_button_onmouseover(event['data']);\n",
       "    }\n",
       "\n",
       "    for(var toolbar_ind in mpl.toolbar_items){\n",
       "        var name = mpl.toolbar_items[toolbar_ind][0];\n",
       "        var tooltip = mpl.toolbar_items[toolbar_ind][1];\n",
       "        var image = mpl.toolbar_items[toolbar_ind][2];\n",
       "        var method_name = mpl.toolbar_items[toolbar_ind][3];\n",
       "\n",
       "        if (!name) { continue; };\n",
       "\n",
       "        var button = $('<button class=\"btn btn-default\" href=\"#\" title=\"' + name + '\"><i class=\"fa ' + image + ' fa-lg\"></i></button>');\n",
       "        button.click(method_name, toolbar_event);\n",
       "        button.mouseover(tooltip, toolbar_mouse_event);\n",
       "        nav_element.append(button);\n",
       "    }\n",
       "\n",
       "    // Add the status bar.\n",
       "    var status_bar = $('<span class=\"mpl-message\" style=\"text-align:right; float: right;\"/>');\n",
       "    nav_element.append(status_bar);\n",
       "    this.message = status_bar[0];\n",
       "\n",
       "    // Add the close button to the window.\n",
       "    var buttongrp = $('<div class=\"btn-group inline pull-right\"></div>');\n",
       "    var button = $('<button class=\"btn btn-mini btn-primary\" href=\"#\" title=\"Stop Interaction\"><i class=\"fa fa-power-off icon-remove icon-large\"></i></button>');\n",
       "    button.click(function (evt) { fig.handle_close(fig, {}); } );\n",
       "    button.mouseover('Stop Interaction', toolbar_mouse_event);\n",
       "    buttongrp.append(button);\n",
       "    var titlebar = this.root.find($('.ui-dialog-titlebar'));\n",
       "    titlebar.prepend(buttongrp);\n",
       "}\n",
       "\n",
       "mpl.figure.prototype._root_extra_style = function(el){\n",
       "    var fig = this\n",
       "    el.on(\"remove\", function(){\n",
       "\tfig.close_ws(fig, {});\n",
       "    });\n",
       "}\n",
       "\n",
       "mpl.figure.prototype._canvas_extra_style = function(el){\n",
       "    // this is important to make the div 'focusable\n",
       "    el.attr('tabindex', 0)\n",
       "    // reach out to IPython and tell the keyboard manager to turn it's self\n",
       "    // off when our div gets focus\n",
       "\n",
       "    // location in version 3\n",
       "    if (IPython.notebook.keyboard_manager) {\n",
       "        IPython.notebook.keyboard_manager.register_events(el);\n",
       "    }\n",
       "    else {\n",
       "        // location in version 2\n",
       "        IPython.keyboard_manager.register_events(el);\n",
       "    }\n",
       "\n",
       "}\n",
       "\n",
       "mpl.figure.prototype._key_event_extra = function(event, name) {\n",
       "    var manager = IPython.notebook.keyboard_manager;\n",
       "    if (!manager)\n",
       "        manager = IPython.keyboard_manager;\n",
       "\n",
       "    // Check for shift+enter\n",
       "    if (event.shiftKey && event.which == 13) {\n",
       "        this.canvas_div.blur();\n",
       "        // select the cell after this one\n",
       "        var index = IPython.notebook.find_cell_index(this.cell_info[0]);\n",
       "        IPython.notebook.select(index + 1);\n",
       "    }\n",
       "}\n",
       "\n",
       "mpl.figure.prototype.handle_save = function(fig, msg) {\n",
       "    fig.ondownload(fig, null);\n",
       "}\n",
       "\n",
       "\n",
       "mpl.find_output_cell = function(html_output) {\n",
       "    // Return the cell and output element which can be found *uniquely* in the notebook.\n",
       "    // Note - this is a bit hacky, but it is done because the \"notebook_saving.Notebook\"\n",
       "    // IPython event is triggered only after the cells have been serialised, which for\n",
       "    // our purposes (turning an active figure into a static one), is too late.\n",
       "    var cells = IPython.notebook.get_cells();\n",
       "    var ncells = cells.length;\n",
       "    for (var i=0; i<ncells; i++) {\n",
       "        var cell = cells[i];\n",
       "        if (cell.cell_type === 'code'){\n",
       "            for (var j=0; j<cell.output_area.outputs.length; j++) {\n",
       "                var data = cell.output_area.outputs[j];\n",
       "                if (data.data) {\n",
       "                    // IPython >= 3 moved mimebundle to data attribute of output\n",
       "                    data = data.data;\n",
       "                }\n",
       "                if (data['text/html'] == html_output) {\n",
       "                    return [cell, data, j];\n",
       "                }\n",
       "            }\n",
       "        }\n",
       "    }\n",
       "}\n",
       "\n",
       "// Register the function which deals with the matplotlib target/channel.\n",
       "// The kernel may be null if the page has been refreshed.\n",
       "if (IPython.notebook.kernel != null) {\n",
       "    IPython.notebook.kernel.comm_manager.register_target('matplotlib', mpl.mpl_figure_comm);\n",
       "}\n"
      ],
      "text/plain": [
       "<IPython.core.display.Javascript object>"
      ]
     },
     "metadata": {},
     "output_type": "display_data"
    },
    {
     "data": {
      "text/html": [
       "<img src=\"data:image/png;base64,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\" width=\"640\">"
      ],
      "text/plain": [
       "<IPython.core.display.HTML object>"
      ]
     },
     "metadata": {},
     "output_type": "display_data"
    },
    {
     "data": {
      "text/plain": [
       "<mpl_toolkits.mplot3d.art3d.Path3DCollection at 0x1a20ae88d0>"
      ]
     },
     "execution_count": 25,
     "metadata": {},
     "output_type": "execute_result"
    }
   ],
   "source": [
    "from mpl_toolkits.mplot3d import Axes3D\n",
    "%matplotlib notebook\n",
    "fig=plt.figure()\n",
    "ax=fig.add_subplot(111,projection='3d')\n",
    "\n",
    "ax.scatter(X[:,0],X[:,1],y)\n",
    "ax.scatter(X[:,0],X[:,1],predictions)"
   ]
  },
  {
   "cell_type": "code",
   "execution_count": null,
   "metadata": {},
   "outputs": [],
   "source": []
  }
 ],
 "metadata": {
  "kernelspec": {
   "display_name": "Python 3",
   "language": "python",
   "name": "python3"
  },
  "language_info": {
   "codemirror_mode": {
    "name": "ipython",
    "version": 3
   },
   "file_extension": ".py",
   "mimetype": "text/x-python",
   "name": "python",
   "nbconvert_exporter": "python",
   "pygments_lexer": "ipython3",
   "version": "3.7.6"
  }
 },
 "nbformat": 4,
 "nbformat_minor": 4
}
