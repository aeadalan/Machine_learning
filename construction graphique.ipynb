{
 "cells": [
  {
   "cell_type": "markdown",
   "metadata": {},
   "source": [
    "Préparation des données\n",
    "==\n"
   ]
  },
  {
   "cell_type": "code",
   "execution_count": 9,
   "metadata": {},
   "outputs": [],
   "source": [
    "import pandas as pd\n",
    "import numpy as np\n",
    "pd.options.mode.chained_assignment=None #  quand on utilise une copie de data frame\n"
   ]
  },
  {
   "cell_type": "code",
   "execution_count": 10,
   "metadata": {},
   "outputs": [],
   "source": [
    "#  importer le fichier csv\n",
    "paris_listings=pd.read_table(\"paris_airbnb.csv\",sep=\",\")"
   ]
  },
  {
   "cell_type": "code",
   "execution_count": 11,
   "metadata": {},
   "outputs": [
    {
     "data": {
      "text/html": [
       "<div>\n",
       "<style scoped>\n",
       "    .dataframe tbody tr th:only-of-type {\n",
       "        vertical-align: middle;\n",
       "    }\n",
       "\n",
       "    .dataframe tbody tr th {\n",
       "        vertical-align: top;\n",
       "    }\n",
       "\n",
       "    .dataframe thead th {\n",
       "        text-align: right;\n",
       "    }\n",
       "</style>\n",
       "<table border=\"1\" class=\"dataframe\">\n",
       "  <thead>\n",
       "    <tr style=\"text-align: right;\">\n",
       "      <th></th>\n",
       "      <th>host_response_rate</th>\n",
       "      <th>host_acceptance_rate</th>\n",
       "      <th>host_listings_count</th>\n",
       "      <th>latitude</th>\n",
       "      <th>longitude</th>\n",
       "      <th>city</th>\n",
       "      <th>zipcode</th>\n",
       "      <th>state</th>\n",
       "      <th>accommodates</th>\n",
       "      <th>room_type</th>\n",
       "      <th>bedrooms</th>\n",
       "      <th>bathrooms</th>\n",
       "      <th>beds</th>\n",
       "      <th>price</th>\n",
       "      <th>cleaning_fee</th>\n",
       "      <th>security_deposit</th>\n",
       "      <th>minimum_nights</th>\n",
       "      <th>maximum_nights</th>\n",
       "      <th>number_of_reviews</th>\n",
       "    </tr>\n",
       "  </thead>\n",
       "  <tbody>\n",
       "    <tr>\n",
       "      <th>0</th>\n",
       "      <td>100%</td>\n",
       "      <td>NaN</td>\n",
       "      <td>1.0</td>\n",
       "      <td>48.83349</td>\n",
       "      <td>2.31852</td>\n",
       "      <td>Paris</td>\n",
       "      <td>75014</td>\n",
       "      <td>Île-de-France</td>\n",
       "      <td>2.0</td>\n",
       "      <td>Entire home/apt</td>\n",
       "      <td>0.0</td>\n",
       "      <td>1.0</td>\n",
       "      <td>0.0</td>\n",
       "      <td>$75.00</td>\n",
       "      <td>$50.00</td>\n",
       "      <td>$0.00</td>\n",
       "      <td>3.0</td>\n",
       "      <td>15.0</td>\n",
       "      <td>8.0</td>\n",
       "    </tr>\n",
       "    <tr>\n",
       "      <th>1</th>\n",
       "      <td>100%</td>\n",
       "      <td>NaN</td>\n",
       "      <td>1.0</td>\n",
       "      <td>48.85100</td>\n",
       "      <td>2.35869</td>\n",
       "      <td>Paris</td>\n",
       "      <td>75004</td>\n",
       "      <td>Ile-de-France</td>\n",
       "      <td>2.0</td>\n",
       "      <td>Entire home/apt</td>\n",
       "      <td>0.0</td>\n",
       "      <td>1.0</td>\n",
       "      <td>1.0</td>\n",
       "      <td>$115.00</td>\n",
       "      <td>$36.00</td>\n",
       "      <td>$0.00</td>\n",
       "      <td>1.0</td>\n",
       "      <td>90.0</td>\n",
       "      <td>173.0</td>\n",
       "    </tr>\n",
       "    <tr>\n",
       "      <th>2</th>\n",
       "      <td>100%</td>\n",
       "      <td>NaN</td>\n",
       "      <td>2.0</td>\n",
       "      <td>48.85758</td>\n",
       "      <td>2.35275</td>\n",
       "      <td>Paris</td>\n",
       "      <td>75004</td>\n",
       "      <td>Île-de-France</td>\n",
       "      <td>4.0</td>\n",
       "      <td>Entire home/apt</td>\n",
       "      <td>2.0</td>\n",
       "      <td>1.0</td>\n",
       "      <td>2.0</td>\n",
       "      <td>$115.00</td>\n",
       "      <td>$50.00</td>\n",
       "      <td>$200.00</td>\n",
       "      <td>10.0</td>\n",
       "      <td>23.0</td>\n",
       "      <td>243.0</td>\n",
       "    </tr>\n",
       "    <tr>\n",
       "      <th>3</th>\n",
       "      <td>100%</td>\n",
       "      <td>NaN</td>\n",
       "      <td>1.0</td>\n",
       "      <td>48.86528</td>\n",
       "      <td>2.39326</td>\n",
       "      <td>Paris</td>\n",
       "      <td>75020</td>\n",
       "      <td>Ile-de-France</td>\n",
       "      <td>3.0</td>\n",
       "      <td>Entire home/apt</td>\n",
       "      <td>1.0</td>\n",
       "      <td>1.0</td>\n",
       "      <td>1.0</td>\n",
       "      <td>$90.00</td>\n",
       "      <td>NaN</td>\n",
       "      <td>NaN</td>\n",
       "      <td>3.0</td>\n",
       "      <td>365.0</td>\n",
       "      <td>1.0</td>\n",
       "    </tr>\n",
       "    <tr>\n",
       "      <th>4</th>\n",
       "      <td>67%,,3.0,48.85899000000001,2.34735,Paris,75001...</td>\n",
       "      <td>NaN</td>\n",
       "      <td>NaN</td>\n",
       "      <td>NaN</td>\n",
       "      <td>NaN</td>\n",
       "      <td>NaN</td>\n",
       "      <td>NaN</td>\n",
       "      <td>NaN</td>\n",
       "      <td>NaN</td>\n",
       "      <td>NaN</td>\n",
       "      <td>NaN</td>\n",
       "      <td>NaN</td>\n",
       "      <td>NaN</td>\n",
       "      <td>NaN</td>\n",
       "      <td>NaN</td>\n",
       "      <td>NaN</td>\n",
       "      <td>NaN</td>\n",
       "      <td>NaN</td>\n",
       "      <td>NaN</td>\n",
       "    </tr>\n",
       "  </tbody>\n",
       "</table>\n",
       "</div>"
      ],
      "text/plain": [
       "                                  host_response_rate  host_acceptance_rate  \\\n",
       "0                                               100%                   NaN   \n",
       "1                                               100%                   NaN   \n",
       "2                                               100%                   NaN   \n",
       "3                                               100%                   NaN   \n",
       "4  67%,,3.0,48.85899000000001,2.34735,Paris,75001...                   NaN   \n",
       "\n",
       "   host_listings_count  latitude  longitude   city zipcode          state  \\\n",
       "0                  1.0  48.83349    2.31852  Paris   75014  Île-de-France   \n",
       "1                  1.0  48.85100    2.35869  Paris   75004  Ile-de-France   \n",
       "2                  2.0  48.85758    2.35275  Paris   75004  Île-de-France   \n",
       "3                  1.0  48.86528    2.39326  Paris   75020  Ile-de-France   \n",
       "4                  NaN       NaN        NaN    NaN     NaN            NaN   \n",
       "\n",
       "   accommodates        room_type  bedrooms  bathrooms  beds    price  \\\n",
       "0           2.0  Entire home/apt       0.0        1.0   0.0   $75.00   \n",
       "1           2.0  Entire home/apt       0.0        1.0   1.0  $115.00   \n",
       "2           4.0  Entire home/apt       2.0        1.0   2.0  $115.00   \n",
       "3           3.0  Entire home/apt       1.0        1.0   1.0   $90.00   \n",
       "4           NaN              NaN       NaN        NaN   NaN      NaN   \n",
       "\n",
       "  cleaning_fee security_deposit  minimum_nights  maximum_nights  \\\n",
       "0       $50.00            $0.00             3.0            15.0   \n",
       "1       $36.00            $0.00             1.0            90.0   \n",
       "2       $50.00          $200.00            10.0            23.0   \n",
       "3          NaN              NaN             3.0           365.0   \n",
       "4          NaN              NaN             NaN             NaN   \n",
       "\n",
       "   number_of_reviews  \n",
       "0                8.0  \n",
       "1              173.0  \n",
       "2              243.0  \n",
       "3                1.0  \n",
       "4                NaN  "
      ]
     },
     "execution_count": 11,
     "metadata": {},
     "output_type": "execute_result"
    }
   ],
   "source": [
    "paris_listings.head()"
   ]
  },
  {
   "cell_type": "code",
   "execution_count": 12,
   "metadata": {},
   "outputs": [],
   "source": [
    "stripped_commas=paris_listings['price'].str.replace(',','')  # enlevé les imperfections\n",
    "stripped_dollars=stripped_commas.str.replace('$','')\n",
    "paris_listings['price']=stripped_dollars.astype('float') # conversion en float"
   ]
  },
  {
   "cell_type": "code",
   "execution_count": 13,
   "metadata": {},
   "outputs": [
    {
     "name": "stdout",
     "output_type": "stream",
     "text": [
      "<class 'pandas.core.frame.DataFrame'>\n",
      "RangeIndex: 8001 entries, 0 to 8000\n",
      "Data columns (total 19 columns):\n",
      " #   Column                Non-Null Count  Dtype  \n",
      "---  ------                --------------  -----  \n",
      " 0   host_response_rate    5175 non-null   object \n",
      " 1   host_acceptance_rate  0 non-null      float64\n",
      " 2   host_listings_count   7329 non-null   float64\n",
      " 3   latitude              7330 non-null   float64\n",
      " 4   longitude             7330 non-null   float64\n",
      " 5   city                  7327 non-null   object \n",
      " 6   zipcode               7266 non-null   object \n",
      " 7   state                 7307 non-null   object \n",
      " 8   accommodates          7330 non-null   float64\n",
      " 9   room_type             7330 non-null   object \n",
      " 10  bedrooms              7308 non-null   float64\n",
      " 11  bathrooms             7275 non-null   float64\n",
      " 12  beds                  7318 non-null   float64\n",
      " 13  price                 7330 non-null   float64\n",
      " 14  cleaning_fee          5638 non-null   object \n",
      " 15  security_deposit      5651 non-null   object \n",
      " 16  minimum_nights        7330 non-null   float64\n",
      " 17  maximum_nights        7330 non-null   float64\n",
      " 18  number_of_reviews     7330 non-null   float64\n",
      "dtypes: float64(12), object(7)\n",
      "memory usage: 1.2+ MB\n"
     ]
    }
   ],
   "source": [
    "paris_listings.info()"
   ]
  },
  {
   "cell_type": "code",
   "execution_count": 1,
   "metadata": {},
   "outputs": [
    {
     "ename": "NameError",
     "evalue": "name 'paris_listings' is not defined",
     "output_type": "error",
     "traceback": [
      "\u001b[0;31m---------------------------------------------------------------------------\u001b[0m",
      "\u001b[0;31mNameError\u001b[0m                                 Traceback (most recent call last)",
      "\u001b[0;32m<ipython-input-1-ba0441576e86>\u001b[0m in \u001b[0;36m<module>\u001b[0;34m\u001b[0m\n\u001b[0;32m----> 1\u001b[0;31m \u001b[0mstripped_commas\u001b[0m\u001b[0;34m=\u001b[0m\u001b[0mparis_listings\u001b[0m\u001b[0;34m[\u001b[0m\u001b[0;34m'cleaning_fee'\u001b[0m\u001b[0;34m]\u001b[0m\u001b[0;34m.\u001b[0m\u001b[0mstr\u001b[0m\u001b[0;34m.\u001b[0m\u001b[0mreplace\u001b[0m\u001b[0;34m(\u001b[0m\u001b[0;34m','\u001b[0m\u001b[0;34m,\u001b[0m\u001b[0;34m''\u001b[0m\u001b[0;34m)\u001b[0m\u001b[0;34m\u001b[0m\u001b[0;34m\u001b[0m\u001b[0m\n\u001b[0m\u001b[1;32m      2\u001b[0m \u001b[0mstripped_dollars\u001b[0m\u001b[0;34m=\u001b[0m\u001b[0mstripped_commas\u001b[0m\u001b[0;34m.\u001b[0m\u001b[0mstr\u001b[0m\u001b[0;34m.\u001b[0m\u001b[0mreplace\u001b[0m\u001b[0;34m(\u001b[0m\u001b[0;34m'$'\u001b[0m\u001b[0;34m,\u001b[0m\u001b[0;34m''\u001b[0m\u001b[0;34m)\u001b[0m\u001b[0;34m\u001b[0m\u001b[0;34m\u001b[0m\u001b[0m\n\u001b[1;32m      3\u001b[0m \u001b[0mparis_listings\u001b[0m\u001b[0;34m[\u001b[0m\u001b[0;34m'cleaning_fee'\u001b[0m\u001b[0;34m]\u001b[0m\u001b[0;34m=\u001b[0m\u001b[0mstripped_dollars\u001b[0m\u001b[0;34m.\u001b[0m\u001b[0mastype\u001b[0m\u001b[0;34m(\u001b[0m\u001b[0;34m'float'\u001b[0m\u001b[0;34m)\u001b[0m \u001b[0;31m# conversion en float\u001b[0m\u001b[0;34m\u001b[0m\u001b[0;34m\u001b[0m\u001b[0m\n",
      "\u001b[0;31mNameError\u001b[0m: name 'paris_listings' is not defined"
     ]
    }
   ],
   "source": [
    "stripped_commas=paris_listings['cleaning_fee'].str.replace(',','')\n",
    "stripped_dollars=stripped_commas.str.replace('$','')\n",
    "paris_listings['cleaning_fee']=stripped_dollars.astype('float') # conversion en float"
   ]
  },
  {
   "cell_type": "code",
   "execution_count": 118,
   "metadata": {
    "collapsed": true
   },
   "outputs": [
    {
     "data": {
      "text/html": [
       "<div>\n",
       "<style scoped>\n",
       "    .dataframe tbody tr th:only-of-type {\n",
       "        vertical-align: middle;\n",
       "    }\n",
       "\n",
       "    .dataframe tbody tr th {\n",
       "        vertical-align: top;\n",
       "    }\n",
       "\n",
       "    .dataframe thead th {\n",
       "        text-align: right;\n",
       "    }\n",
       "</style>\n",
       "<table border=\"1\" class=\"dataframe\">\n",
       "  <thead>\n",
       "    <tr style=\"text-align: right;\">\n",
       "      <th></th>\n",
       "      <th>host_response_rate</th>\n",
       "      <th>host_acceptance_rate</th>\n",
       "      <th>host_listings_count</th>\n",
       "      <th>latitude</th>\n",
       "      <th>longitude</th>\n",
       "      <th>city</th>\n",
       "      <th>zipcode</th>\n",
       "      <th>state</th>\n",
       "      <th>accommodates</th>\n",
       "      <th>room_type</th>\n",
       "      <th>bedrooms</th>\n",
       "      <th>bathrooms</th>\n",
       "      <th>beds</th>\n",
       "      <th>price</th>\n",
       "      <th>cleaning_fee</th>\n",
       "      <th>security_deposit</th>\n",
       "      <th>minimum_nights</th>\n",
       "      <th>maximum_nights</th>\n",
       "      <th>number_of_reviews</th>\n",
       "    </tr>\n",
       "  </thead>\n",
       "  <tbody>\n",
       "    <tr>\n",
       "      <td>0</td>\n",
       "      <td>100%</td>\n",
       "      <td>NaN</td>\n",
       "      <td>1.0</td>\n",
       "      <td>48.83349</td>\n",
       "      <td>2.31852</td>\n",
       "      <td>Paris</td>\n",
       "      <td>75014</td>\n",
       "      <td>Île-de-France</td>\n",
       "      <td>2</td>\n",
       "      <td>Entire home/apt</td>\n",
       "      <td>0.0</td>\n",
       "      <td>1.0</td>\n",
       "      <td>0.0</td>\n",
       "      <td>75.0</td>\n",
       "      <td>50.0</td>\n",
       "      <td>$0.00</td>\n",
       "      <td>3</td>\n",
       "      <td>15</td>\n",
       "      <td>8</td>\n",
       "    </tr>\n",
       "    <tr>\n",
       "      <td>1</td>\n",
       "      <td>100%</td>\n",
       "      <td>NaN</td>\n",
       "      <td>1.0</td>\n",
       "      <td>48.85100</td>\n",
       "      <td>2.35869</td>\n",
       "      <td>Paris</td>\n",
       "      <td>75004</td>\n",
       "      <td>Ile-de-France</td>\n",
       "      <td>2</td>\n",
       "      <td>Entire home/apt</td>\n",
       "      <td>0.0</td>\n",
       "      <td>1.0</td>\n",
       "      <td>1.0</td>\n",
       "      <td>115.0</td>\n",
       "      <td>36.0</td>\n",
       "      <td>$0.00</td>\n",
       "      <td>1</td>\n",
       "      <td>90</td>\n",
       "      <td>173</td>\n",
       "    </tr>\n",
       "    <tr>\n",
       "      <td>2</td>\n",
       "      <td>100%</td>\n",
       "      <td>NaN</td>\n",
       "      <td>2.0</td>\n",
       "      <td>48.85758</td>\n",
       "      <td>2.35275</td>\n",
       "      <td>Paris</td>\n",
       "      <td>75004</td>\n",
       "      <td>Île-de-France</td>\n",
       "      <td>4</td>\n",
       "      <td>Entire home/apt</td>\n",
       "      <td>2.0</td>\n",
       "      <td>1.0</td>\n",
       "      <td>2.0</td>\n",
       "      <td>115.0</td>\n",
       "      <td>50.0</td>\n",
       "      <td>$200.00</td>\n",
       "      <td>10</td>\n",
       "      <td>23</td>\n",
       "      <td>243</td>\n",
       "    </tr>\n",
       "    <tr>\n",
       "      <td>3</td>\n",
       "      <td>100%</td>\n",
       "      <td>NaN</td>\n",
       "      <td>1.0</td>\n",
       "      <td>48.86528</td>\n",
       "      <td>2.39326</td>\n",
       "      <td>Paris</td>\n",
       "      <td>75020</td>\n",
       "      <td>Ile-de-France</td>\n",
       "      <td>3</td>\n",
       "      <td>Entire home/apt</td>\n",
       "      <td>1.0</td>\n",
       "      <td>1.0</td>\n",
       "      <td>1.0</td>\n",
       "      <td>90.0</td>\n",
       "      <td>NaN</td>\n",
       "      <td>NaN</td>\n",
       "      <td>3</td>\n",
       "      <td>365</td>\n",
       "      <td>1</td>\n",
       "    </tr>\n",
       "    <tr>\n",
       "      <td>4</td>\n",
       "      <td>67%</td>\n",
       "      <td>NaN</td>\n",
       "      <td>3.0</td>\n",
       "      <td>48.85899</td>\n",
       "      <td>2.34735</td>\n",
       "      <td>Paris</td>\n",
       "      <td>75001</td>\n",
       "      <td>Île-de-France</td>\n",
       "      <td>2</td>\n",
       "      <td>Entire home/apt</td>\n",
       "      <td>1.0</td>\n",
       "      <td>1.0</td>\n",
       "      <td>1.0</td>\n",
       "      <td>75.0</td>\n",
       "      <td>200.0</td>\n",
       "      <td>$1,500.00</td>\n",
       "      <td>180</td>\n",
       "      <td>365</td>\n",
       "      <td>0</td>\n",
       "    </tr>\n",
       "  </tbody>\n",
       "</table>\n",
       "</div>"
      ],
      "text/plain": [
       "  host_response_rate  host_acceptance_rate  host_listings_count  latitude  \\\n",
       "0               100%                   NaN                  1.0  48.83349   \n",
       "1               100%                   NaN                  1.0  48.85100   \n",
       "2               100%                   NaN                  2.0  48.85758   \n",
       "3               100%                   NaN                  1.0  48.86528   \n",
       "4                67%                   NaN                  3.0  48.85899   \n",
       "\n",
       "   longitude   city zipcode          state  accommodates        room_type  \\\n",
       "0    2.31852  Paris   75014  Île-de-France             2  Entire home/apt   \n",
       "1    2.35869  Paris   75004  Ile-de-France             2  Entire home/apt   \n",
       "2    2.35275  Paris   75004  Île-de-France             4  Entire home/apt   \n",
       "3    2.39326  Paris   75020  Ile-de-France             3  Entire home/apt   \n",
       "4    2.34735  Paris   75001  Île-de-France             2  Entire home/apt   \n",
       "\n",
       "   bedrooms  bathrooms  beds  price  cleaning_fee security_deposit  \\\n",
       "0       0.0        1.0   0.0   75.0          50.0            $0.00   \n",
       "1       0.0        1.0   1.0  115.0          36.0            $0.00   \n",
       "2       2.0        1.0   2.0  115.0          50.0          $200.00   \n",
       "3       1.0        1.0   1.0   90.0           NaN              NaN   \n",
       "4       1.0        1.0   1.0   75.0         200.0        $1,500.00   \n",
       "\n",
       "   minimum_nights  maximum_nights  number_of_reviews  \n",
       "0               3              15                  8  \n",
       "1               1              90                173  \n",
       "2              10              23                243  \n",
       "3               3             365                  1  \n",
       "4             180             365                  0  "
      ]
     },
     "execution_count": 118,
     "metadata": {},
     "output_type": "execute_result"
    }
   ],
   "source": [
    "paris_listings.head()"
   ]
  },
  {
   "cell_type": "code",
   "execution_count": 8,
   "metadata": {},
   "outputs": [],
   "source": [
    "from IPython.display import Image\n",
    "from sklearn.externals.six import StringIO\n",
    "from sklearn.tree import export_graphviz\n",
    "import pydot"
   ]
  },
  {
   "cell_type": "code",
   "execution_count": 7,
   "metadata": {},
   "outputs": [],
   "source": []
  },
  {
   "cell_type": "code",
   "execution_count": 163,
   "metadata": {},
   "outputs": [],
   "source": [
    "stripped_commas=paris_listings['security_deposit'].str.replace(',','')\n",
    "stripped_dollars=stripped_commas.str.replace('$','')\n",
    "paris_listings['security_deposit']=stripped_dollars.astype('float') # conversion en float"
   ]
  },
  {
   "cell_type": "code",
   "execution_count": 164,
   "metadata": {
    "scrolled": true
   },
   "outputs": [
    {
     "name": "stdout",
     "output_type": "stream",
     "text": [
      "<class 'pandas.core.frame.DataFrame'>\n",
      "RangeIndex: 8000 entries, 0 to 7999\n",
      "Data columns (total 19 columns):\n",
      "host_response_rate      5000 non-null object\n",
      "host_acceptance_rate    0 non-null float64\n",
      "host_listings_count     7999 non-null float64\n",
      "latitude                8000 non-null float64\n",
      "longitude               8000 non-null float64\n",
      "city                    7997 non-null object\n",
      "zipcode                 7930 non-null object\n",
      "state                   7977 non-null object\n",
      "accommodates            8000 non-null int64\n",
      "room_type               8000 non-null object\n",
      "bedrooms                7976 non-null float64\n",
      "bathrooms               7942 non-null float64\n",
      "beds                    7986 non-null float64\n",
      "price                   8000 non-null float64\n",
      "cleaning_fee            6250 non-null float64\n",
      "security_deposit        6320 non-null float64\n",
      "minimum_nights          8000 non-null int64\n",
      "maximum_nights          8000 non-null int64\n",
      "number_of_reviews       8000 non-null int64\n",
      "dtypes: float64(10), int64(4), object(5)\n",
      "memory usage: 1.2+ MB\n"
     ]
    }
   ],
   "source": [
    "paris_listings.info()"
   ]
  },
  {
   "cell_type": "code",
   "execution_count": 129,
   "metadata": {
    "collapsed": true
   },
   "outputs": [
    {
     "data": {
      "text/html": [
       "<div>\n",
       "<style scoped>\n",
       "    .dataframe tbody tr th:only-of-type {\n",
       "        vertical-align: middle;\n",
       "    }\n",
       "\n",
       "    .dataframe tbody tr th {\n",
       "        vertical-align: top;\n",
       "    }\n",
       "\n",
       "    .dataframe thead th {\n",
       "        text-align: right;\n",
       "    }\n",
       "</style>\n",
       "<table border=\"1\" class=\"dataframe\">\n",
       "  <thead>\n",
       "    <tr style=\"text-align: right;\">\n",
       "      <th></th>\n",
       "      <th>count</th>\n",
       "      <th>mean</th>\n",
       "      <th>std</th>\n",
       "      <th>min</th>\n",
       "      <th>25%</th>\n",
       "      <th>50%</th>\n",
       "      <th>75%</th>\n",
       "      <th>max</th>\n",
       "    </tr>\n",
       "  </thead>\n",
       "  <tbody>\n",
       "    <tr>\n",
       "      <td>host_acceptance_rate</td>\n",
       "      <td>0.0</td>\n",
       "      <td>NaN</td>\n",
       "      <td>NaN</td>\n",
       "      <td>NaN</td>\n",
       "      <td>NaN</td>\n",
       "      <td>NaN</td>\n",
       "      <td>NaN</td>\n",
       "      <td>NaN</td>\n",
       "    </tr>\n",
       "    <tr>\n",
       "      <td>host_listings_count</td>\n",
       "      <td>7999.0</td>\n",
       "      <td>7.025878</td>\n",
       "      <td>51.031588</td>\n",
       "      <td>0.00000</td>\n",
       "      <td>1.000000</td>\n",
       "      <td>1.00000</td>\n",
       "      <td>2.000000</td>\n",
       "      <td>836.00000</td>\n",
       "    </tr>\n",
       "    <tr>\n",
       "      <td>latitude</td>\n",
       "      <td>8000.0</td>\n",
       "      <td>48.864560</td>\n",
       "      <td>0.017641</td>\n",
       "      <td>48.81656</td>\n",
       "      <td>48.852230</td>\n",
       "      <td>48.86540</td>\n",
       "      <td>48.878740</td>\n",
       "      <td>48.90101</td>\n",
       "    </tr>\n",
       "    <tr>\n",
       "      <td>longitude</td>\n",
       "      <td>8000.0</td>\n",
       "      <td>2.348739</td>\n",
       "      <td>0.031611</td>\n",
       "      <td>2.23081</td>\n",
       "      <td>2.331645</td>\n",
       "      <td>2.35113</td>\n",
       "      <td>2.372158</td>\n",
       "      <td>2.43946</td>\n",
       "    </tr>\n",
       "    <tr>\n",
       "      <td>accommodates</td>\n",
       "      <td>8000.0</td>\n",
       "      <td>3.198750</td>\n",
       "      <td>1.569811</td>\n",
       "      <td>1.00000</td>\n",
       "      <td>2.000000</td>\n",
       "      <td>3.00000</td>\n",
       "      <td>4.000000</td>\n",
       "      <td>16.00000</td>\n",
       "    </tr>\n",
       "    <tr>\n",
       "      <td>bedrooms</td>\n",
       "      <td>7976.0</td>\n",
       "      <td>1.248370</td>\n",
       "      <td>0.838492</td>\n",
       "      <td>0.00000</td>\n",
       "      <td>1.000000</td>\n",
       "      <td>1.00000</td>\n",
       "      <td>2.000000</td>\n",
       "      <td>7.00000</td>\n",
       "    </tr>\n",
       "    <tr>\n",
       "      <td>bathrooms</td>\n",
       "      <td>7942.0</td>\n",
       "      <td>1.128494</td>\n",
       "      <td>0.439104</td>\n",
       "      <td>0.00000</td>\n",
       "      <td>1.000000</td>\n",
       "      <td>1.00000</td>\n",
       "      <td>1.000000</td>\n",
       "      <td>7.00000</td>\n",
       "    </tr>\n",
       "    <tr>\n",
       "      <td>beds</td>\n",
       "      <td>7986.0</td>\n",
       "      <td>1.753068</td>\n",
       "      <td>1.172800</td>\n",
       "      <td>0.00000</td>\n",
       "      <td>1.000000</td>\n",
       "      <td>1.00000</td>\n",
       "      <td>2.000000</td>\n",
       "      <td>11.00000</td>\n",
       "    </tr>\n",
       "    <tr>\n",
       "      <td>price</td>\n",
       "      <td>8000.0</td>\n",
       "      <td>113.943250</td>\n",
       "      <td>111.607288</td>\n",
       "      <td>8.00000</td>\n",
       "      <td>64.000000</td>\n",
       "      <td>89.00000</td>\n",
       "      <td>130.000000</td>\n",
       "      <td>5000.00000</td>\n",
       "    </tr>\n",
       "    <tr>\n",
       "      <td>cleaning_fee</td>\n",
       "      <td>6250.0</td>\n",
       "      <td>41.035200</td>\n",
       "      <td>31.243811</td>\n",
       "      <td>0.00000</td>\n",
       "      <td>20.000000</td>\n",
       "      <td>35.00000</td>\n",
       "      <td>50.000000</td>\n",
       "      <td>400.00000</td>\n",
       "    </tr>\n",
       "    <tr>\n",
       "      <td>security_deposit</td>\n",
       "      <td>6320.0</td>\n",
       "      <td>452.920570</td>\n",
       "      <td>478.808091</td>\n",
       "      <td>0.00000</td>\n",
       "      <td>200.000000</td>\n",
       "      <td>300.00000</td>\n",
       "      <td>500.000000</td>\n",
       "      <td>4740.00000</td>\n",
       "    </tr>\n",
       "    <tr>\n",
       "      <td>minimum_nights</td>\n",
       "      <td>8000.0</td>\n",
       "      <td>8.759375</td>\n",
       "      <td>36.234546</td>\n",
       "      <td>1.00000</td>\n",
       "      <td>2.000000</td>\n",
       "      <td>3.00000</td>\n",
       "      <td>5.000000</td>\n",
       "      <td>1124.00000</td>\n",
       "    </tr>\n",
       "    <tr>\n",
       "      <td>maximum_nights</td>\n",
       "      <td>8000.0</td>\n",
       "      <td>546.876000</td>\n",
       "      <td>542.848736</td>\n",
       "      <td>1.00000</td>\n",
       "      <td>30.000000</td>\n",
       "      <td>365.00000</td>\n",
       "      <td>1125.000000</td>\n",
       "      <td>10000.00000</td>\n",
       "    </tr>\n",
       "    <tr>\n",
       "      <td>number_of_reviews</td>\n",
       "      <td>8000.0</td>\n",
       "      <td>44.874875</td>\n",
       "      <td>69.075322</td>\n",
       "      <td>0.00000</td>\n",
       "      <td>4.000000</td>\n",
       "      <td>19.00000</td>\n",
       "      <td>54.000000</td>\n",
       "      <td>783.00000</td>\n",
       "    </tr>\n",
       "  </tbody>\n",
       "</table>\n",
       "</div>"
      ],
      "text/plain": [
       "                       count        mean         std       min         25%  \\\n",
       "host_acceptance_rate     0.0         NaN         NaN       NaN         NaN   \n",
       "host_listings_count   7999.0    7.025878   51.031588   0.00000    1.000000   \n",
       "latitude              8000.0   48.864560    0.017641  48.81656   48.852230   \n",
       "longitude             8000.0    2.348739    0.031611   2.23081    2.331645   \n",
       "accommodates          8000.0    3.198750    1.569811   1.00000    2.000000   \n",
       "bedrooms              7976.0    1.248370    0.838492   0.00000    1.000000   \n",
       "bathrooms             7942.0    1.128494    0.439104   0.00000    1.000000   \n",
       "beds                  7986.0    1.753068    1.172800   0.00000    1.000000   \n",
       "price                 8000.0  113.943250  111.607288   8.00000   64.000000   \n",
       "cleaning_fee          6250.0   41.035200   31.243811   0.00000   20.000000   \n",
       "security_deposit      6320.0  452.920570  478.808091   0.00000  200.000000   \n",
       "minimum_nights        8000.0    8.759375   36.234546   1.00000    2.000000   \n",
       "maximum_nights        8000.0  546.876000  542.848736   1.00000   30.000000   \n",
       "number_of_reviews     8000.0   44.874875   69.075322   0.00000    4.000000   \n",
       "\n",
       "                            50%          75%          max  \n",
       "host_acceptance_rate        NaN          NaN          NaN  \n",
       "host_listings_count     1.00000     2.000000    836.00000  \n",
       "latitude               48.86540    48.878740     48.90101  \n",
       "longitude               2.35113     2.372158      2.43946  \n",
       "accommodates            3.00000     4.000000     16.00000  \n",
       "bedrooms                1.00000     2.000000      7.00000  \n",
       "bathrooms               1.00000     1.000000      7.00000  \n",
       "beds                    1.00000     2.000000     11.00000  \n",
       "price                  89.00000   130.000000   5000.00000  \n",
       "cleaning_fee           35.00000    50.000000    400.00000  \n",
       "security_deposit      300.00000   500.000000   4740.00000  \n",
       "minimum_nights          3.00000     5.000000   1124.00000  \n",
       "maximum_nights        365.00000  1125.000000  10000.00000  \n",
       "number_of_reviews      19.00000    54.000000    783.00000  "
      ]
     },
     "execution_count": 129,
     "metadata": {},
     "output_type": "execute_result"
    }
   ],
   "source": [
    "paris_listings.describe().T"
   ]
  },
  {
   "cell_type": "code",
   "execution_count": 132,
   "metadata": {},
   "outputs": [
    {
     "data": {
      "text/html": [
       "<div>\n",
       "<style scoped>\n",
       "    .dataframe tbody tr th:only-of-type {\n",
       "        vertical-align: middle;\n",
       "    }\n",
       "\n",
       "    .dataframe tbody tr th {\n",
       "        vertical-align: top;\n",
       "    }\n",
       "\n",
       "    .dataframe thead th {\n",
       "        text-align: right;\n",
       "    }\n",
       "</style>\n",
       "<table border=\"1\" class=\"dataframe\">\n",
       "  <thead>\n",
       "    <tr style=\"text-align: right;\">\n",
       "      <th></th>\n",
       "      <th>city</th>\n",
       "      <th>zipcode</th>\n",
       "      <th>state</th>\n",
       "      <th>room_type</th>\n",
       "    </tr>\n",
       "  </thead>\n",
       "  <tbody>\n",
       "    <tr>\n",
       "      <td>count</td>\n",
       "      <td>7997</td>\n",
       "      <td>7930</td>\n",
       "      <td>7977</td>\n",
       "      <td>8000</td>\n",
       "    </tr>\n",
       "    <tr>\n",
       "      <td>unique</td>\n",
       "      <td>58</td>\n",
       "      <td>45</td>\n",
       "      <td>23</td>\n",
       "      <td>3</td>\n",
       "    </tr>\n",
       "    <tr>\n",
       "      <td>top</td>\n",
       "      <td>Paris</td>\n",
       "      <td>75018</td>\n",
       "      <td>Île-de-France</td>\n",
       "      <td>Entire home/apt</td>\n",
       "    </tr>\n",
       "    <tr>\n",
       "      <td>freq</td>\n",
       "      <td>7896</td>\n",
       "      <td>943</td>\n",
       "      <td>7717</td>\n",
       "      <td>7115</td>\n",
       "    </tr>\n",
       "  </tbody>\n",
       "</table>\n",
       "</div>"
      ],
      "text/plain": [
       "         city zipcode          state        room_type\n",
       "count    7997    7930           7977             8000\n",
       "unique     58      45             23                3\n",
       "top     Paris   75018  Île-de-France  Entire home/apt\n",
       "freq     7896     943           7717             7115"
      ]
     },
     "execution_count": 132,
     "metadata": {},
     "output_type": "execute_result"
    }
   ],
   "source": [
    "paris_listings[['city','zipcode','state','room_type']].describe()"
   ]
  },
  {
   "cell_type": "code",
   "execution_count": 165,
   "metadata": {
    "collapsed": true
   },
   "outputs": [
    {
     "name": "stdout",
     "output_type": "stream",
     "text": [
      "host_response_rate      3000\n",
      "host_acceptance_rate    8000\n",
      "host_listings_count        1\n",
      "latitude                   0\n",
      "longitude                  0\n",
      "city                       3\n",
      "zipcode                   70\n",
      "state                     23\n",
      "accommodates               0\n",
      "room_type                  0\n",
      "bedrooms                  24\n",
      "bathrooms                 58\n",
      "beds                      14\n",
      "price                      0\n",
      "cleaning_fee            1750\n",
      "security_deposit        1680\n",
      "minimum_nights             0\n",
      "maximum_nights             0\n",
      "number_of_reviews          0\n",
      "dtype: int64\n"
     ]
    }
   ],
   "source": [
    "#  Afficher la sommme des valeurs manquantes\n",
    "print(paris_listings.isnull().sum())"
   ]
  },
  {
   "cell_type": "code",
   "execution_count": 166,
   "metadata": {},
   "outputs": [],
   "source": [
    "#  supprimer les 9 colonnes n'intervenant pas dans la prédiction\n",
    "drop_columns=['host_response_rate','host_acceptance_rate'\n",
    "                    ]\n",
    "df=paris_listings.drop(drop_columns,axis=1)"
   ]
  },
  {
   "cell_type": "code",
   "execution_count": 168,
   "metadata": {},
   "outputs": [],
   "source": [
    "# supprimer les lignes ayant des valeurs nulles\n",
    "df=df.dropna(axis=0)"
   ]
  },
  {
   "cell_type": "code",
   "execution_count": 169,
   "metadata": {},
   "outputs": [
    {
     "name": "stdout",
     "output_type": "stream",
     "text": [
      "<class 'pandas.core.frame.DataFrame'>\n",
      "Int64Index: 5430 entries, 0 to 7999\n",
      "Data columns (total 17 columns):\n",
      "host_listings_count    5430 non-null float64\n",
      "latitude               5430 non-null float64\n",
      "longitude              5430 non-null float64\n",
      "city                   5430 non-null object\n",
      "zipcode                5430 non-null object\n",
      "state                  5430 non-null object\n",
      "accommodates           5430 non-null int64\n",
      "room_type              5430 non-null object\n",
      "bedrooms               5430 non-null float64\n",
      "bathrooms              5430 non-null float64\n",
      "beds                   5430 non-null float64\n",
      "price                  5430 non-null float64\n",
      "cleaning_fee           5430 non-null float64\n",
      "security_deposit       5430 non-null float64\n",
      "minimum_nights         5430 non-null int64\n",
      "maximum_nights         5430 non-null int64\n",
      "number_of_reviews      5430 non-null int64\n",
      "dtypes: float64(9), int64(4), object(4)\n",
      "memory usage: 763.6+ KB\n"
     ]
    }
   ],
   "source": [
    "df.info()"
   ]
  },
  {
   "cell_type": "code",
   "execution_count": 170,
   "metadata": {},
   "outputs": [],
   "source": [
    "%matplotlib inline\n",
    "import pandas as pd\n",
    "import numpy as np\n",
    "import matplotlib.pyplot as plt\n",
    "import seaborn as sns"
   ]
  },
  {
   "cell_type": "code",
   "execution_count": 172,
   "metadata": {},
   "outputs": [
    {
     "data": {
      "text/plain": [
       "<matplotlib.axes._subplots.AxesSubplot at 0x1a26995990>"
      ]
     },
     "execution_count": 172,
     "metadata": {},
     "output_type": "execute_result"
    },
    {
     "data": {
      "image/png": "[encoded data removed]",
      "text/plain": [
       "<Figure size 432x288 with 1 Axes>"
      ]
     },
     "metadata": {},
     "output_type": "display_data"
    }
   ],
   "source": [
    "df[\"room_type\"].value_counts(normalize=True).plot(kind='pie')"
   ]
  },
  {
   "cell_type": "code",
   "execution_count": 173,
   "metadata": {},
   "outputs": [
    {
     "data": {
      "text/plain": [
       "<matplotlib.axes._subplots.AxesSubplot at 0x1a279e6910>"
      ]
     },
     "execution_count": 173,
     "metadata": {},
     "output_type": "execute_result"
    },
    {
     "data": {
      "image/png": "[encoded data removed]",
      "text/plain": [
       "<Figure size 432x288 with 1 Axes>"
      ]
     },
     "metadata": {
      "needs_background": "light"
     },
     "output_type": "display_data"
    }
   ],
   "source": [
    "df.plot.scatter(x='accommodates',y='price')"
   ]
  },
  {
   "cell_type": "code",
   "execution_count": 174,
   "metadata": {},
   "outputs": [
    {
     "data": {
      "text/plain": [
       "Text(0.5, 1, 'Matrice de corrélation entre les différentes caractéristiques des annonces\\n')"
      ]
     },
     "execution_count": 174,
     "metadata": {},
     "output_type": "execute_result"
    },
    {
     "data": {
      "image/png": "[encoded data removed]",
      "text/plain": [
       "<Figure size 432x288 with 2 Axes>"
      ]
     },
     "metadata": {
      "needs_background": "light"
     },
     "output_type": "display_data"
    }
   ],
   "source": [
    "sns.heatmap(df.corr(), annot=True, cmap='Greens')\n",
    "plt.title(\"Matrice de corrélation entre les différentes caractéristiques des annonces\\n\",\n",
    "          fontsize=18, color='#009432')"
   ]
  },
  {
   "cell_type": "code",
   "execution_count": 176,
   "metadata": {},
   "outputs": [
    {
     "data": {
      "image/png": "[encoded data removed]",
      "text/plain": [
       "<Figure size 720x432 with 1 Axes>"
      ]
     },
     "metadata": {
      "needs_background": "light"
     },
     "output_type": "display_data"
    }
   ],
   "source": [
    "plt.figure(figsize=(10,6))\n",
    "sns.barplot(x=df['room_type'], y=df['accommodates'], palette=\"Reds_r\")\n",
    "plt.xlabel('\\nArrondissements', fontsize=15, color='#c0392b')\n",
    "plt.ylabel(\"Nombre d'annonces\\n\", fontsize=15, color='#c0392b')\n",
    "plt.title(\"Nombre d'annonces par arrondissement à Paris sur seloger.com\\n\", fontsize=18, color='#e74c3c')\n",
    "plt.xticks(rotation= 45)\n",
    "plt.tight_layout()"
   ]
  },
  {
   "cell_type": "code",
   "execution_count": 147,
   "metadata": {},
   "outputs": [],
   "source": [
    "# exporter les données vers excel\n",
    "outputFile = \"df.xlsx\"\n",
    "df.to_excel(outputFile)"
   ]
  },
  {
   "cell_type": "code",
   "execution_count": 20,
   "metadata": {},
   "outputs": [],
   "source": [
    "value_room=['paris']\n",
    "\n",
    "#  fonction qui retour les modalidés qui ne doivent pas etre dans le data frame \n",
    "def check_var(var):\n",
    "    if var not in value_room:\n",
    "        print('- \"{}\" n\\'est pas une modalité valide nous le supprimons.'.format(var))\n",
    "        return np.NAN\n",
    "    return var\n"
   ]
  },
  {
   "cell_type": "code",
   "execution_count": 26,
   "metadata": {},
   "outputs": [
    {
     "data": {
      "text/plain": [
       "'Entire home/apt'"
      ]
     },
     "execution_count": 26,
     "metadata": {},
     "output_type": "execute_result"
    }
   ],
   "source": [
    "check_var('Entire home/apt')"
   ]
  },
  {
   "cell_type": "code",
   "execution_count": 23,
   "metadata": {},
   "outputs": [
    {
     "data": {
      "text/plain": [
       "Entire home/apt    7115\n",
       "Private room        863\n",
       "Shared room          22\n",
       "Name: room_type, dtype: int64"
      ]
     },
     "execution_count": 23,
     "metadata": {},
     "output_type": "execute_result"
    }
   ],
   "source": [
    "paris_listings['room_type'].value_counts()"
   ]
  }
 ],
 "metadata": {
  "kernelspec": {
   "display_name": "Python 3",
   "language": "python",
   "name": "python3"
  },
  "language_info": {
   "codemirror_mode": {
    "name": "ipython",
    "version": 3
   },
   "file_extension": ".py",
   "mimetype": "text/x-python",
   "name": "python",
   "nbconvert_exporter": "python",
   "pygments_lexer": "ipython3",
   "version": "3.7.6"
  }
 },
 "nbformat": 4,
 "nbformat_minor": 2
}
