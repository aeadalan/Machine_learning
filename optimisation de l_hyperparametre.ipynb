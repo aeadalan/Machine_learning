{
 "cells": [
  {
   "cell_type": "code",
   "execution_count": 3,
   "metadata": {},
   "outputs": [],
   "source": [
    "import pandas as pd\n",
    "import numpy as np"
   ]
  },
  {
   "cell_type": "code",
   "execution_count": 46,
   "metadata": {},
   "outputs": [],
   "source": [
    "train_df=pd.read_table('paris_airbnb_train.csv',sep=',')\n",
    "test_df=pd.read_table('paris_airbnb_test.csv',sep=',')"
   ]
  },
  {
   "cell_type": "code",
   "execution_count": 38,
   "metadata": {},
   "outputs": [],
   "source": [
    "#  creer une liste de valeur de k\n",
    "hyper_params=list(range(9,300))\n",
    "# creer une liste vide\n",
    "mse_values=[]\n",
    "rmse_values=[]\n",
    "\n",
    " # adapter un modèle et faire des prédiction\n",
    "from sklearn.neighbors import KNeighborsRegressor\n",
    "\n",
    "   # calculer l'erreur quadratique moyenne\n",
    "from sklearn.metrics import mean_squared_error\n",
    "\n",
    "for k in range(len(hyper_params)):\n",
    "    knn=KNeighborsRegressor(n_neighbors=hyper_params[k],algorithm='brute')\n",
    "\n",
    "# données à utiliser pour l'apprntissage\n",
    "    train_feature=train_df[['accommodates','bedrooms','bathrooms','number_of_reviews']]\n",
    "    train_target=train_df['price'] # liste de valeurs contenant la valeur cible\n",
    "# Passer les objets dans la méthode fit\n",
    "    knn.fit(train_feature,train_target)\n",
    "    # la méthode predict() ne prend qu'n seul paramètre\n",
    "# c'est une matrice contenant les valeurs du set de test \n",
    "    four_prediction=knn.predict(test_df[['accommodates','bedrooms','bathrooms','number_of_reviews']])\n",
    " # la fonction mean_squared_error prend deux paramètres en entrée\n",
    "   # un objet liste représentant les vraies valeurs\n",
    "    # un objet liste représentant les valeurs prédites pour le modèle \n",
    "    four_mse= mean_squared_error(test_df['price'],four_prediction)\n",
    "    four_rmse=four_mse**(1/2)\n",
    "    mse_values.append(four_mse)\n",
    "    rmse_values.append(four_rmse)"
   ]
  },
  {
   "cell_type": "code",
   "execution_count": 43,
   "metadata": {},
   "outputs": [
    {
     "data": {
      "text/plain": [
       "<matplotlib.collections.PathCollection at 0x1160b98d0>"
      ]
     },
     "execution_count": 43,
     "metadata": {},
     "output_type": "execute_result"
    },
    {
     "data": {
      "image/png": "[encoded data removed]",
      "text/plain": [
       "<Figure size 432x288 with 1 Axes>"
      ]
     },
     "metadata": {
      "needs_background": "light"
     },
     "output_type": "display_data"
    }
   ],
   "source": [
    " #  affichier le résultat à travers un graphique\n",
    "import matplotlib.pyplot as plt\n",
    "%matplotlib inline\n",
    "plt.scatter(hyper_params,mse_values)"
   ]
  },
  {
   "cell_type": "code",
   "execution_count": 47,
   "metadata": {},
   "outputs": [],
   "source": [
    "#  creer une liste de valeur de k\n",
    "hyper_params=list(range(1,101))\n",
    "# creer une liste vide\n",
    "mse_values=[]\n",
    "rmse_values=[]\n",
    "\n",
    " # adapter un modèle et faire des prédiction\n",
    "from sklearn.neighbors import KNeighborsRegressor\n",
    "\n",
    "   # calculer l'erreur quadratique moyenne\n",
    "from sklearn.metrics import mean_squared_error\n",
    "\n",
    "for k in range(len(hyper_params)):\n",
    "    knn=KNeighborsRegressor(n_neighbors=hyper_params[k],algorithm='brute')\n",
    "# données à utiliser pour l'apprntissage, tous sauf \"price\"\n",
    "    train_features=train_df.drop(['price'],axis=1)\n",
    "    train_target=train_df['price'] # liste de valeurs contenant la valeur cible\n",
    "# Passer les objets dans la méthode fit\n",
    "    knn.fit(train_features,train_target)\n",
    "# la méthode predict() ne prend qu'n seul paramètre\n",
    "# c'est une matrice contenant les valeurs du set de test \n",
    "    prediction=knn.predict(test_df.drop(['price'],axis=1))\n",
    "# la fonction mean_squared_error prend deux paramètres en entrée\n",
    "   # un objet liste représentant les vraies valeurs\n",
    "    # un objet liste représentant les valeurs prédites pour le modèle \n",
    "    mse= mean_squared_error(test_df['price'],prediction)\n",
    "    rmse=four_mse**(1/2)\n",
    "    mse_values.append(mse)\n",
    "    rmse_values.append(rmse)"
   ]
  },
  {
   "cell_type": "code",
   "execution_count": 52,
   "metadata": {},
   "outputs": [
    {
     "data": {
      "text/plain": [
       "<matplotlib.collections.PathCollection at 0x116197b10>"
      ]
     },
     "execution_count": 52,
     "metadata": {},
     "output_type": "execute_result"
    },
    {
     "data": {
      "image/png": "[encoded data removed]",
      "text/plain": [
       "<Figure size 432x288 with 1 Axes>"
      ]
     },
     "metadata": {
      "needs_background": "light"
     },
     "output_type": "display_data"
    }
   ],
   "source": [
    " #  affichier le résultat à travers un graphique\n",
    "import matplotlib.pyplot as plt\n",
    "%matplotlib inline\n",
    "plt.scatter(hyper_params,mse_values)"
   ]
  },
  {
   "cell_type": "code",
   "execution_count": 54,
   "metadata": {},
   "outputs": [
    {
     "name": "stdout",
     "output_type": "stream",
     "text": [
      "8631.118014378913\n"
     ]
    }
   ],
   "source": [
    "print(min(mse_values))"
   ]
  },
  {
   "cell_type": "code",
   "execution_count": 55,
   "metadata": {},
   "outputs": [
    {
     "name": "stdout",
     "output_type": "stream",
     "text": [
      "<class 'pandas.core.frame.DataFrame'>\n",
      "RangeIndex: 6000 entries, 0 to 5999\n",
      "Data columns (total 9 columns):\n",
      "Unnamed: 0           6000 non-null int64\n",
      "accommodates         6000 non-null float64\n",
      "bedrooms             6000 non-null float64\n",
      "bathrooms            6000 non-null float64\n",
      "beds                 6000 non-null float64\n",
      "price                6000 non-null float64\n",
      "minimum_nights       6000 non-null float64\n",
      "maximum_nights       6000 non-null float64\n",
      "number_of_reviews    6000 non-null float64\n",
      "dtypes: float64(8), int64(1)\n",
      "memory usage: 422.0 KB\n"
     ]
    }
   ],
   "source": [
    "train_df.info()"
   ]
  },
  {
   "cell_type": "code",
   "execution_count": 60,
   "metadata": {},
   "outputs": [
    {
     "name": "stdout",
     "output_type": "stream",
     "text": [
      "{94: 4948.546816114567}\n",
      "{90: 4902.640327672482}\n"
     ]
    }
   ],
   "source": [
    "# crer une lsite des colonnes du data frames\n",
    "two_features=['accommodates','bathrooms']\n",
    "three_features=['accommodates','bathrooms','bedrooms']\n",
    "# créer une liste d'hyper paramètre allant de 1 à 100\n",
    "hyper_params=[x for x in range(1,100)]\n",
    "# creer des listes vides\n",
    "two_mse_values=list()\n",
    "three_mse_values=list()\n",
    "# creation de dictionnaires\n",
    "two_hp_mse=dict()\n",
    "three_hp_mse=dict()\n",
    "\n",
    "#  prediction pour deux variables\n",
    "for k in hyper_params:\n",
    "    knn=KNeighborsRegressor(n_neighbors=k,algorithm='brute')\n",
    "    knn.fit(train_df[two_features],train_df['price'])\n",
    "    predictions=knn.predict(test_df[two_features])\n",
    "    mse= mean_squared_error(test_df['price'],predictions)\n",
    "    two_mse_values.append(mse)\n",
    "\n",
    "two_lowest_mse=two_mse_values[0] # initialisation de la plus petite valeur de mse comme etant la première\n",
    "two_lowest_k=1 #  on initialise de 1 parce que les k vont de 1 à 100\n",
    "\n",
    "for k,mse in enumerate(two_mse_values):   #  dictionnaire contenant une paire de clé/valeur contenant \n",
    "    #  la plus petite valeur de k et de mse\n",
    "    if mse < two_lowest_mse:\n",
    "        two_lowest_mse=mse\n",
    "        two_lowest_k=k+1 #  on ajoute 1 parce que l'incrementation se fait de 0 à 99\n",
    "\n",
    "#  prediction pour trois variable\n",
    "for k in hyper_params:\n",
    "    knn=KNeighborsRegressor(n_neighbors=k,algorithm='brute')\n",
    "    knn.fit(train_df[three_features],train_df['price'])\n",
    "    predictions=knn.predict(test_df[three_features])\n",
    "    mse= mean_squared_error(test_df['price'],predictions)\n",
    "    three_mse_values.append(mse)\n",
    "\n",
    "three_lowest_mse=three_mse_values[0] # initialisation de la plus petite valeur de mse comme etant la première\n",
    "three_lowest_k=1  #  on initialise de 1 parce que les k vont de 1 à 100\n",
    "\n",
    "for k,mse in enumerate(three_mse_values): #  dictionnaire contenant une paire de clé/valeur contenant \n",
    "    #  la plus petite valeur de k et de mse\n",
    "    if mse < three_lowest_mse:\n",
    "        three_lowest_mse=mse\n",
    "        three_lowest_k=k+1    #  on ajoute 1 parce que l'incrementation se fait de 0 à 99\n",
    "\n",
    "two_hp_mse[two_lowest_k]=two_lowest_mse\n",
    "three_hp_mse[three_lowest_k]=three_lowest_mse\n",
    "print(two_hp_mse)\n",
    "print(three_hp_mse)"
   ]
  },
  {
   "cell_type": "code",
   "execution_count": null,
   "metadata": {},
   "outputs": [],
   "source": []
  },
  {
   "cell_type": "code",
   "execution_count": null,
   "metadata": {},
   "outputs": [],
   "source": []
  }
 ],
 "metadata": {
  "kernelspec": {
   "display_name": "Python 3",
   "language": "python",
   "name": "python3"
  },
  "language_info": {
   "codemirror_mode": {
    "name": "ipython",
    "version": 3
   },
   "file_extension": ".py",
   "mimetype": "text/x-python",
   "name": "python",
   "nbconvert_exporter": "python",
   "pygments_lexer": "ipython3",
   "version": "3.7.6"
  }
 },
 "nbformat": 4,
 "nbformat_minor": 2
}
