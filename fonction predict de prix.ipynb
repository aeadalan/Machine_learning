{
 "cells": [
  {
   "cell_type": "code",
   "execution_count": 78,
   "metadata": {},
   "outputs": [],
   "source": [
    "import pandas as pd\n",
    "import numpy as np"
   ]
  },
  {
   "cell_type": "code",
   "execution_count": 79,
   "metadata": {},
   "outputs": [],
   "source": [
    "#  importer le fichier csv\n",
    "paris_listings=pd.read_table(\"paris_airbnb.csv\",sep=\",\")\n",
    "paris_listings.head() #  afficher les 5 premiere lignes\n",
    "paris_listings.tail()\n",
    "paris_listings.describe() #  afficher l'analyse descriptive du data frame\n",
    "\n",
    "#  fixer la graine à 1  pour faire les permutations\n",
    "np.random.seed(1)\n",
    "\n",
    "# nettoyer la colonne \"price\" en enlevant les dollars et les virgules \n",
    "stripped_commas=paris_listings['price'].str.replace(',','')\n",
    "stripped_dollars=stripped_commas.str.replace('$','')\n",
    "paris_listings['price']=stripped_dollars.astype('float') # conversion en float\n",
    "\n",
    "#  Utiliser la méthode pour retourner un nouveau data frame d'ordre randomiser\n",
    "paris_listings=paris_listings.loc[np.random.permutation(len(paris_listings))]\n"
   ]
  },
  {
   "cell_type": "code",
   "execution_count": 80,
   "metadata": {},
   "outputs": [
    {
     "name": "stdout",
     "output_type": "stream",
     "text": [
      "69.6\n",
      "105.4\n",
      "104.6\n"
     ]
    }
   ],
   "source": [
    "#  fonction qui prédit le prix d'un logement de AIRBNB en tenant compte que de la variable accommodates\n",
    "#  analyse univariée\n",
    "def predict_price(new_listing): #  créer la fonction predict_price\n",
    "    \n",
    "    temp_df=paris_listings.copy() #  faire une copy du data frame\n",
    "    \n",
    "    temp_df['distance']=temp_df['accommodates'].apply(lambda x: np.abs(x-new_listing)) # calculer la distance \n",
    "    # entre chaque valeur de la colonne accommodates et la valeur new_listing, \n",
    "    # ajouter cette colonne(série) au data frame temp_df\n",
    "   \n",
    "    temp_df=temp_df.sort_values('distance')  # trier temp_df sur la colonne disance  \n",
    "    \n",
    "    price5=temp_df.iloc[0:5]['price'] # selectionner les cinq premières valeurs de la colonne \"price\"\n",
    "\n",
    "    predicted_price=price5.mean() # calculer la moyenne des prix des cinq premieres lignes\n",
    "    \n",
    "    return(predicted_price) #  retourner la valeur moyenne predicted price\n",
    "\n",
    "acc_one=predict_price(1)\n",
    "acc_two=predict_price(2)\n",
    "acc_four=predict_price(4)\n",
    "\n",
    "print(acc_one)\n",
    "print(acc_two)\n",
    "print(acc_four)"
   ]
  },
  {
   "cell_type": "code",
   "execution_count": null,
   "metadata": {},
   "outputs": [],
   "source": []
  }
 ],
 "metadata": {
  "kernelspec": {
   "display_name": "Python 3",
   "language": "python",
   "name": "python3"
  },
  "language_info": {
   "codemirror_mode": {
    "name": "ipython",
    "version": 3
   },
   "file_extension": ".py",
   "mimetype": "text/x-python",
   "name": "python",
   "nbconvert_exporter": "python",
   "pygments_lexer": "ipython3",
   "version": "3.7.6"
  }
 },
 "nbformat": 4,
 "nbformat_minor": 2
}
